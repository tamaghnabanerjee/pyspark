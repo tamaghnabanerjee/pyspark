{
 "cells": [
  {
   "cell_type": "code",
   "execution_count": 1,
   "id": "1ba869f1",
   "metadata": {},
   "outputs": [],
   "source": [
    "from pyspark.sql import SparkSession"
   ]
  },
  {
   "cell_type": "code",
   "execution_count": 2,
   "id": "208182d1",
   "metadata": {},
   "outputs": [
    {
     "name": "stderr",
     "output_type": "stream",
     "text": [
      "2021-09-26 10:01:42,528 WARN util.Utils: Your hostname, tb-LinuxBox resolves to a loopback address: 127.0.1.1; using 10.0.2.15 instead (on interface enp0s3)\n",
      "2021-09-26 10:01:42,530 WARN util.Utils: Set SPARK_LOCAL_IP if you need to bind to another address\n",
      "2021-09-26 10:01:45,517 WARN util.NativeCodeLoader: Unable to load native-hadoop library for your platform... using builtin-java classes where applicable\n",
      "Setting default log level to \"WARN\".\n",
      "To adjust logging level use sc.setLogLevel(newLevel). For SparkR, use setLogLevel(newLevel).\n",
      "2021-09-26 10:01:50,740 WARN util.Utils: Service 'SparkUI' could not bind on port 4040. Attempting port 4041.\n",
      "2021-09-26 10:01:50,741 WARN util.Utils: Service 'SparkUI' could not bind on port 4041. Attempting port 4042.\n"
     ]
    }
   ],
   "source": [
    "spark = SparkSession.builder.appName(\"word_count\").getOrCreate()"
   ]
  },
  {
   "cell_type": "code",
   "execution_count": 3,
   "id": "dda34c89",
   "metadata": {},
   "outputs": [],
   "source": [
    "sc = spark.sparkContext"
   ]
  },
  {
   "cell_type": "code",
   "execution_count": 6,
   "id": "057fed0e",
   "metadata": {},
   "outputs": [],
   "source": [
    "wcRDD = sc.textFile(\"file:///home/tamaghna/files/wc_text.txt\")"
   ]
  },
  {
   "cell_type": "code",
   "execution_count": 7,
   "id": "4b5eb19a",
   "metadata": {},
   "outputs": [
    {
     "name": "stderr",
     "output_type": "stream",
     "text": [
      "                                                                                \r"
     ]
    },
    {
     "data": {
      "text/plain": [
       "['Physics is the natural science that studies matter, its fundamental constituents, its motion and behavior through space and time, and the related entities of energy and force. Physics is one of the most fundamental scientific disciplines, and its main goal is to understand how the universe behaves.']"
      ]
     },
     "execution_count": 7,
     "metadata": {},
     "output_type": "execute_result"
    }
   ],
   "source": [
    "wcRDD.collect()"
   ]
  },
  {
   "cell_type": "code",
   "execution_count": 8,
   "id": "4d1d71b8",
   "metadata": {},
   "outputs": [],
   "source": [
    "wcRDDMapped = wcRDD.map(lambda line: line.split(\" \"))"
   ]
  },
  {
   "cell_type": "code",
   "execution_count": 9,
   "id": "6fd8dc65",
   "metadata": {},
   "outputs": [],
   "source": [
    "wcRDDFlat = wcRDD.flatMap(lambda line: line.split(\" \"))"
   ]
  },
  {
   "cell_type": "code",
   "execution_count": null,
   "id": "d50b98ef",
   "metadata": {},
   "outputs": [],
   "source": [
    "wcRDDFlat.collect()"
   ]
  },
  {
   "cell_type": "code",
   "execution_count": 10,
   "id": "62086f2f",
   "metadata": {},
   "outputs": [],
   "source": [
    "wcRDDMap = wcRDDFlat.map(lambda word: (word, 1))"
   ]
  },
  {
   "cell_type": "code",
   "execution_count": null,
   "id": "2a09d4be",
   "metadata": {},
   "outputs": [],
   "source": [
    "wcRDDMap.collect()"
   ]
  },
  {
   "cell_type": "code",
   "execution_count": 15,
   "id": "942ab089",
   "metadata": {},
   "outputs": [],
   "source": [
    "wcRDDRBK = wcRDDMap.reduceByKey(lambda n1,n2: n1+n2)"
   ]
  },
  {
   "cell_type": "code",
   "execution_count": 16,
   "id": "07a3e85c",
   "metadata": {},
   "outputs": [
    {
     "data": {
      "text/plain": [
       "[('is', 3),\n",
       " ('science', 1),\n",
       " ('studies', 1),\n",
       " ('matter,', 1),\n",
       " ('fundamental', 2),\n",
       " ('constituents,', 1),\n",
       " ('motion', 1),\n",
       " ('behavior', 1),\n",
       " ('space', 1),\n",
       " ('related', 1),\n",
       " ('entities', 1),\n",
       " ('of', 2),\n",
       " ('scientific', 1),\n",
       " ('disciplines,', 1),\n",
       " ('goal', 1),\n",
       " ('understand', 1),\n",
       " ('universe', 1),\n",
       " ('Physics', 2),\n",
       " ('the', 4),\n",
       " ('natural', 1),\n",
       " ('that', 1),\n",
       " ('its', 3),\n",
       " ('and', 5),\n",
       " ('through', 1),\n",
       " ('time,', 1),\n",
       " ('energy', 1),\n",
       " ('force.', 1),\n",
       " ('one', 1),\n",
       " ('most', 1),\n",
       " ('main', 1),\n",
       " ('to', 1),\n",
       " ('how', 1),\n",
       " ('behaves.', 1)]"
      ]
     },
     "execution_count": 16,
     "metadata": {},
     "output_type": "execute_result"
    }
   ],
   "source": [
    "wcRDDRBK.collect()"
   ]
  },
  {
   "cell_type": "code",
   "execution_count": 17,
   "id": "48b3de77",
   "metadata": {},
   "outputs": [],
   "source": [
    "wcRDDGBK = wcRDDMap.groupByKey()"
   ]
  },
  {
   "cell_type": "code",
   "execution_count": 18,
   "id": "0d29396e",
   "metadata": {},
   "outputs": [
    {
     "data": {
      "text/plain": [
       "[('is', <pyspark.resultiterable.ResultIterable at 0x7f7527100820>),\n",
       " ('science', <pyspark.resultiterable.ResultIterable at 0x7f7527078250>),\n",
       " ('studies', <pyspark.resultiterable.ResultIterable at 0x7f7527078460>),\n",
       " ('matter,', <pyspark.resultiterable.ResultIterable at 0x7f7527078490>),\n",
       " ('fundamental', <pyspark.resultiterable.ResultIterable at 0x7f75270786a0>),\n",
       " ('constituents,', <pyspark.resultiterable.ResultIterable at 0x7f7527078a90>),\n",
       " ('motion', <pyspark.resultiterable.ResultIterable at 0x7f7527078400>),\n",
       " ('behavior', <pyspark.resultiterable.ResultIterable at 0x7f75270784c0>),\n",
       " ('space', <pyspark.resultiterable.ResultIterable at 0x7f7527078970>),\n",
       " ('related', <pyspark.resultiterable.ResultIterable at 0x7f7527078550>),\n",
       " ('entities', <pyspark.resultiterable.ResultIterable at 0x7f75270784f0>),\n",
       " ('of', <pyspark.resultiterable.ResultIterable at 0x7f7527078910>),\n",
       " ('scientific', <pyspark.resultiterable.ResultIterable at 0x7f75270788b0>),\n",
       " ('disciplines,', <pyspark.resultiterable.ResultIterable at 0x7f7527078700>),\n",
       " ('goal', <pyspark.resultiterable.ResultIterable at 0x7f75270786d0>),\n",
       " ('understand', <pyspark.resultiterable.ResultIterable at 0x7f7527078610>),\n",
       " ('universe', <pyspark.resultiterable.ResultIterable at 0x7f75270785b0>),\n",
       " ('Physics', <pyspark.resultiterable.ResultIterable at 0x7f75270780a0>),\n",
       " ('the', <pyspark.resultiterable.ResultIterable at 0x7f7527078e80>),\n",
       " ('natural', <pyspark.resultiterable.ResultIterable at 0x7f7527078ee0>),\n",
       " ('that', <pyspark.resultiterable.ResultIterable at 0x7f7527078f70>),\n",
       " ('its', <pyspark.resultiterable.ResultIterable at 0x7f7527078fa0>),\n",
       " ('and', <pyspark.resultiterable.ResultIterable at 0x7f752707b070>),\n",
       " ('through', <pyspark.resultiterable.ResultIterable at 0x7f752707b0d0>),\n",
       " ('time,', <pyspark.resultiterable.ResultIterable at 0x7f752707b130>),\n",
       " ('energy', <pyspark.resultiterable.ResultIterable at 0x7f752707b190>),\n",
       " ('force.', <pyspark.resultiterable.ResultIterable at 0x7f752707b1f0>),\n",
       " ('one', <pyspark.resultiterable.ResultIterable at 0x7f752707b250>),\n",
       " ('most', <pyspark.resultiterable.ResultIterable at 0x7f752707b2b0>),\n",
       " ('main', <pyspark.resultiterable.ResultIterable at 0x7f752707b310>),\n",
       " ('to', <pyspark.resultiterable.ResultIterable at 0x7f752707b370>),\n",
       " ('how', <pyspark.resultiterable.ResultIterable at 0x7f752707b3d0>),\n",
       " ('behaves.', <pyspark.resultiterable.ResultIterable at 0x7f752707b430>)]"
      ]
     },
     "execution_count": 18,
     "metadata": {},
     "output_type": "execute_result"
    }
   ],
   "source": [
    "wcRDDGBK.collect()"
   ]
  },
  {
   "cell_type": "code",
   "execution_count": null,
   "id": "41056f2f",
   "metadata": {},
   "outputs": [],
   "source": [
    "wcRDDSort = wcRDDRBK.map(lambda tup: (tup[0].lower(),tup[1])).sortByKey()"
   ]
  },
  {
   "cell_type": "code",
   "execution_count": null,
   "id": "8ffa1d13",
   "metadata": {},
   "outputs": [],
   "source": [
    "wcRDDSort.collect()"
   ]
  },
  {
   "cell_type": "code",
   "execution_count": null,
   "id": "187826c0",
   "metadata": {},
   "outputs": [],
   "source": []
  }
 ],
 "metadata": {
  "kernelspec": {
   "display_name": "Python 3 (ipykernel)",
   "language": "python",
   "name": "python3"
  },
  "language_info": {
   "codemirror_mode": {
    "name": "ipython",
    "version": 3
   },
   "file_extension": ".py",
   "mimetype": "text/x-python",
   "name": "python",
   "nbconvert_exporter": "python",
   "pygments_lexer": "ipython3",
   "version": "3.8.10"
  }
 },
 "nbformat": 4,
 "nbformat_minor": 5
}
