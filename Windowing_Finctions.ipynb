{
 "cells": [
  {
   "cell_type": "code",
   "execution_count": 1,
   "id": "df61133c",
   "metadata": {},
   "outputs": [
    {
     "name": "stderr",
     "output_type": "stream",
     "text": [
      "2021-09-24 08:05:16,163 WARN util.Utils: Your hostname, tb-LinuxBox resolves to a loopback address: 127.0.1.1; using 10.0.2.15 instead (on interface enp0s3)\n",
      "2021-09-24 08:05:16,165 WARN util.Utils: Set SPARK_LOCAL_IP if you need to bind to another address\n",
      "2021-09-24 08:05:18,734 WARN util.NativeCodeLoader: Unable to load native-hadoop library for your platform... using builtin-java classes where applicable\n",
      "Setting default log level to \"WARN\".\n",
      "To adjust logging level use sc.setLogLevel(newLevel). For SparkR, use setLogLevel(newLevel).\n"
     ]
    }
   ],
   "source": [
    "from pyspark.sql import SparkSession\n",
    "spark = SparkSession.builder.appName(\"windowing\").getOrCreate()"
   ]
  },
  {
   "cell_type": "code",
   "execution_count": 2,
   "id": "d0e61558",
   "metadata": {},
   "outputs": [],
   "source": [
    "columns = [\"name\",\"department\",\"salary\"]\n",
    "data = [\n",
    "        (\"Jonathan\",\"Developer\",3000),\\\n",
    "        (\"Tony\",\"Developer\",4600),\\\n",
    "        (\"Arya\",\"Developer\",4100,),\\\n",
    "        (\"Bruce\",\"Sales\",3000),\\\n",
    "        (\"Natasha\",\"Sales\",3000),\\\n",
    "        (\"Thor\",\"Finance\",3300),\\\n",
    "        (\"Steve\",\"Sales\",3900),\\\n",
    "        (\"Thanos\",\"Finance\",3000),\\\n",
    "        (\"Sansa\",\"Developer\",2000),\\\n",
    "        (\"Gandalf\",\"Finance\",4100)\n",
    "       ]"
   ]
  },
  {
   "cell_type": "code",
   "execution_count": 3,
   "id": "4a42e48b",
   "metadata": {},
   "outputs": [],
   "source": [
    "df = spark.createDataFrame(data,columns)"
   ]
  },
  {
   "cell_type": "code",
   "execution_count": 4,
   "id": "38879445",
   "metadata": {},
   "outputs": [
    {
     "name": "stderr",
     "output_type": "stream",
     "text": [
      "                                                                                \r"
     ]
    },
    {
     "name": "stdout",
     "output_type": "stream",
     "text": [
      "+--------+----------+------+\n",
      "|    name|department|salary|\n",
      "+--------+----------+------+\n",
      "|Jonathan| Developer|  3000|\n",
      "|    Tony| Developer|  4600|\n",
      "|    Arya| Developer|  4100|\n",
      "|   Bruce|     Sales|  3000|\n",
      "| Natasha|     Sales|  3000|\n",
      "|    Thor|   Finance|  3300|\n",
      "|   Steve|     Sales|  3900|\n",
      "|  Thanos|   Finance|  3000|\n",
      "|   Sansa| Developer|  2000|\n",
      "| Gandalf|   Finance|  4100|\n",
      "+--------+----------+------+\n",
      "\n"
     ]
    }
   ],
   "source": [
    "df.show()"
   ]
  },
  {
   "cell_type": "markdown",
   "id": "193c41ad",
   "metadata": {},
   "source": [
    "# row_number"
   ]
  },
  {
   "cell_type": "code",
   "execution_count": 5,
   "id": "2d58c90d",
   "metadata": {},
   "outputs": [],
   "source": [
    "from pyspark.sql.window import Window\n",
    "from pyspark.sql.functions import row_number"
   ]
  },
  {
   "cell_type": "code",
   "execution_count": 6,
   "id": "edde3431",
   "metadata": {},
   "outputs": [],
   "source": [
    "window_object = Window.partitionBy(\"department\").orderBy(\"salary\")"
   ]
  },
  {
   "cell_type": "code",
   "execution_count": 7,
   "id": "a9560520",
   "metadata": {},
   "outputs": [
    {
     "data": {
      "text/plain": [
       "'\\nThis windowSpec object is an instance of:\\nclass WindowSpec(object):\\n    \"\"\"\\n    A window specification that defines the partitioning, ordering,\\n    and frame boundaries.\\n'"
      ]
     },
     "execution_count": 7,
     "metadata": {},
     "output_type": "execute_result"
    }
   ],
   "source": [
    "window_object \n",
    "'''\n",
    "This windowSpec object is an instance of:\n",
    "class WindowSpec(object):\n",
    "    \"\"\"\n",
    "    A window specification that defines the partitioning, ordering,\n",
    "    and frame boundaries.\n",
    "'''"
   ]
  },
  {
   "cell_type": "code",
   "execution_count": 8,
   "id": "f884e087",
   "metadata": {},
   "outputs": [],
   "source": [
    "windowspec = Window.partitionBy(\"department\").orderBy(\"salary\")"
   ]
  },
  {
   "cell_type": "code",
   "execution_count": 9,
   "id": "7bdd6d6d",
   "metadata": {},
   "outputs": [
    {
     "name": "stderr",
     "output_type": "stream",
     "text": [
      "[Stage 11:=============================================>          (61 + 2) / 75]\r"
     ]
    },
    {
     "name": "stdout",
     "output_type": "stream",
     "text": [
      "+--------+----------+------+----------+\n",
      "|    name|department|salary|row_number|\n",
      "+--------+----------+------+----------+\n",
      "|   Bruce|     Sales|  3000|         1|\n",
      "| Natasha|     Sales|  3000|         2|\n",
      "|   Steve|     Sales|  3900|         3|\n",
      "|  Thanos|   Finance|  3000|         1|\n",
      "|    Thor|   Finance|  3300|         2|\n",
      "| Gandalf|   Finance|  4100|         3|\n",
      "|   Sansa| Developer|  2000|         1|\n",
      "|Jonathan| Developer|  3000|         2|\n",
      "|    Arya| Developer|  4100|         3|\n",
      "|    Tony| Developer|  4600|         4|\n",
      "+--------+----------+------+----------+\n",
      "\n"
     ]
    },
    {
     "name": "stderr",
     "output_type": "stream",
     "text": [
      "\r",
      "                                                                                \r"
     ]
    }
   ],
   "source": [
    "df.withColumn(\"row_number\", row_number().over(Window.partitionBy(\"department\").orderBy(\"salary\"))).show()"
   ]
  },
  {
   "cell_type": "code",
   "execution_count": 22,
   "id": "c2e5948f",
   "metadata": {},
   "outputs": [
    {
     "name": "stderr",
     "output_type": "stream",
     "text": [
      "                                                                                \r"
     ]
    },
    {
     "name": "stdout",
     "output_type": "stream",
     "text": [
      "+-------+----------+------+----------+\n",
      "|   name|department|salary|row_number|\n",
      "+-------+----------+------+----------+\n",
      "|  Steve|     Sales|  3900|         1|\n",
      "|Gandalf|   Finance|  4100|         1|\n",
      "|   Tony| Developer|  4600|         1|\n",
      "+-------+----------+------+----------+\n",
      "\n"
     ]
    }
   ],
   "source": [
    "df.withColumn(\"row_number\",row_number().over(Window.partitionBy(\"department\").orderBy(df.salary.desc()))).filter(\"row_number == 1\").show()"
   ]
  },
  {
   "cell_type": "code",
   "execution_count": 10,
   "id": "bc37375c",
   "metadata": {},
   "outputs": [],
   "source": [
    "# or"
   ]
  },
  {
   "cell_type": "code",
   "execution_count": 11,
   "id": "da4bf7fb",
   "metadata": {},
   "outputs": [
    {
     "name": "stderr",
     "output_type": "stream",
     "text": [
      "                                                                                \r"
     ]
    },
    {
     "name": "stdout",
     "output_type": "stream",
     "text": [
      "+--------+----------+------+----------+\n",
      "|    name|department|salary|row_number|\n",
      "+--------+----------+------+----------+\n",
      "|   Bruce|     Sales|  3000|         1|\n",
      "| Natasha|     Sales|  3000|         2|\n",
      "|   Steve|     Sales|  3900|         3|\n",
      "|  Thanos|   Finance|  3000|         1|\n",
      "|    Thor|   Finance|  3300|         2|\n",
      "| Gandalf|   Finance|  4100|         3|\n",
      "|   Sansa| Developer|  2000|         1|\n",
      "|Jonathan| Developer|  3000|         2|\n",
      "|    Arya| Developer|  4100|         3|\n",
      "|    Tony| Developer|  4600|         4|\n",
      "+--------+----------+------+----------+\n",
      "\n"
     ]
    },
    {
     "name": "stderr",
     "output_type": "stream",
     "text": [
      "\r",
      "[Stage 21:============================================>           (60 + 3) / 75]\r",
      "\r",
      "                                                                                \r"
     ]
    }
   ],
   "source": [
    "df.withColumn(\"row_number\", row_number().over(windowspec)).show()"
   ]
  },
  {
   "cell_type": "markdown",
   "id": "0c068086",
   "metadata": {},
   "source": [
    "# rank"
   ]
  },
  {
   "cell_type": "code",
   "execution_count": 12,
   "id": "f2184e0f",
   "metadata": {},
   "outputs": [],
   "source": [
    "# next rank after tie is skipped"
   ]
  },
  {
   "cell_type": "code",
   "execution_count": 13,
   "id": "097453e5",
   "metadata": {},
   "outputs": [],
   "source": [
    "from pyspark.sql.functions import rank"
   ]
  },
  {
   "cell_type": "code",
   "execution_count": 14,
   "id": "e98ccd27",
   "metadata": {},
   "outputs": [
    {
     "name": "stderr",
     "output_type": "stream",
     "text": [
      "[Stage 31:================================================>       (65 + 2) / 75]\r"
     ]
    },
    {
     "name": "stdout",
     "output_type": "stream",
     "text": [
      "+--------+----------+------+----+\n",
      "|    name|department|salary|rank|\n",
      "+--------+----------+------+----+\n",
      "|   Bruce|     Sales|  3000|   1|\n",
      "| Natasha|     Sales|  3000|   1|\n",
      "|   Steve|     Sales|  3900|   3|\n",
      "|  Thanos|   Finance|  3000|   1|\n",
      "|    Thor|   Finance|  3300|   2|\n",
      "| Gandalf|   Finance|  4100|   3|\n",
      "|   Sansa| Developer|  2000|   1|\n",
      "|Jonathan| Developer|  3000|   2|\n",
      "|    Arya| Developer|  4100|   3|\n",
      "|    Tony| Developer|  4600|   4|\n",
      "+--------+----------+------+----+\n",
      "\n"
     ]
    },
    {
     "name": "stderr",
     "output_type": "stream",
     "text": [
      "\r",
      "                                                                                \r"
     ]
    }
   ],
   "source": [
    "df.withColumn(\"rank\",rank().over(Window.partitionBy(\"department\").orderBy(\"salary\"))).show()"
   ]
  },
  {
   "cell_type": "markdown",
   "id": "7989fd2e",
   "metadata": {},
   "source": [
    "# dense_rank"
   ]
  },
  {
   "cell_type": "code",
   "execution_count": 15,
   "id": "b9b58db0",
   "metadata": {},
   "outputs": [],
   "source": [
    "# next rank after tie is not skipped"
   ]
  },
  {
   "cell_type": "code",
   "execution_count": 16,
   "id": "18c09c68",
   "metadata": {},
   "outputs": [],
   "source": [
    "from pyspark.sql.functions import dense_rank"
   ]
  },
  {
   "cell_type": "code",
   "execution_count": 17,
   "id": "0125214c",
   "metadata": {},
   "outputs": [
    {
     "name": "stderr",
     "output_type": "stream",
     "text": [
      "[Stage 41:===================================================>    (69 + 2) / 75]\r"
     ]
    },
    {
     "name": "stdout",
     "output_type": "stream",
     "text": [
      "+--------+----------+------+----------+\n",
      "|    name|department|salary|dense_rank|\n",
      "+--------+----------+------+----------+\n",
      "|   Bruce|     Sales|  3000|         1|\n",
      "| Natasha|     Sales|  3000|         1|\n",
      "|   Steve|     Sales|  3900|         2|\n",
      "|  Thanos|   Finance|  3000|         1|\n",
      "|    Thor|   Finance|  3300|         2|\n",
      "| Gandalf|   Finance|  4100|         3|\n",
      "|   Sansa| Developer|  2000|         1|\n",
      "|Jonathan| Developer|  3000|         2|\n",
      "|    Arya| Developer|  4100|         3|\n",
      "|    Tony| Developer|  4600|         4|\n",
      "+--------+----------+------+----------+\n",
      "\n"
     ]
    },
    {
     "name": "stderr",
     "output_type": "stream",
     "text": [
      "\r",
      "                                                                                \r"
     ]
    }
   ],
   "source": [
    "df.withColumn(\"dense_rank\",dense_rank().over(Window.partitionBy(\"department\").orderBy(\"salary\"))).show()"
   ]
  },
  {
   "cell_type": "markdown",
   "id": "daa1ba50",
   "metadata": {},
   "source": [
    "# percent_rank"
   ]
  },
  {
   "cell_type": "code",
   "execution_count": 18,
   "id": "b1deb554",
   "metadata": {},
   "outputs": [],
   "source": [
    "from pyspark.sql.functions import percent_rank"
   ]
  },
  {
   "cell_type": "code",
   "execution_count": 19,
   "id": "853e773a",
   "metadata": {},
   "outputs": [
    {
     "name": "stderr",
     "output_type": "stream",
     "text": [
      "[Stage 51:=====================================================>  (72 + 2) / 75]\r"
     ]
    },
    {
     "name": "stdout",
     "output_type": "stream",
     "text": [
      "+--------+----------+------+------------------+\n",
      "|    name|department|salary|      percent_rank|\n",
      "+--------+----------+------+------------------+\n",
      "|   Bruce|     Sales|  3000|               0.0|\n",
      "| Natasha|     Sales|  3000|               0.0|\n",
      "|   Steve|     Sales|  3900|               1.0|\n",
      "|  Thanos|   Finance|  3000|               0.0|\n",
      "|    Thor|   Finance|  3300|               0.5|\n",
      "| Gandalf|   Finance|  4100|               1.0|\n",
      "|   Sansa| Developer|  2000|               0.0|\n",
      "|Jonathan| Developer|  3000|0.3333333333333333|\n",
      "|    Arya| Developer|  4100|0.6666666666666666|\n",
      "|    Tony| Developer|  4600|               1.0|\n",
      "+--------+----------+------+------------------+\n",
      "\n"
     ]
    },
    {
     "name": "stderr",
     "output_type": "stream",
     "text": [
      "\r",
      "                                                                                \r"
     ]
    }
   ],
   "source": [
    "df.withColumn(\"percent_rank\",percent_rank().over(Window.partitionBy(\"department\").orderBy(\"salary\"))).show()"
   ]
  },
  {
   "cell_type": "code",
   "execution_count": null,
   "id": "f0e2680e",
   "metadata": {},
   "outputs": [],
   "source": []
  }
 ],
 "metadata": {
  "kernelspec": {
   "display_name": "Python 3 (ipykernel)",
   "language": "python",
   "name": "python3"
  },
  "language_info": {
   "codemirror_mode": {
    "name": "ipython",
    "version": 3
   },
   "file_extension": ".py",
   "mimetype": "text/x-python",
   "name": "python",
   "nbconvert_exporter": "python",
   "pygments_lexer": "ipython3",
   "version": "3.8.10"
  }
 },
 "nbformat": 4,
 "nbformat_minor": 5
}
