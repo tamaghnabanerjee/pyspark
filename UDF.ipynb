{
 "cells": [
  {
   "cell_type": "code",
   "execution_count": 16,
   "id": "a2ce17af",
   "metadata": {},
   "outputs": [],
   "source": [
    "from pyspark.sql import SparkSession\n",
    "spark = SparkSession.builder.appName(\"udf\").getOrCreate()"
   ]
  },
  {
   "cell_type": "code",
   "execution_count": 17,
   "id": "b7fc5a03",
   "metadata": {},
   "outputs": [],
   "source": [
    "sellers = spark.read.format(\"parquet\")\\\n",
    "                    .options(header=True)\\\n",
    "                    .load(\"file:///home/tamaghna/big_data_spark/sellers_parquet\")"
   ]
  },
  {
   "cell_type": "code",
   "execution_count": 18,
   "id": "2e7360b9",
   "metadata": {},
   "outputs": [
    {
     "name": "stdout",
     "output_type": "stream",
     "text": [
      "+---------+-----------+------------+\n",
      "|seller_id|seller_name|daily_target|\n",
      "+---------+-----------+------------+\n",
      "|        0|   seller_0|     2500000|\n",
      "|        1|   seller_1|      257237|\n",
      "|        2|   seller_2|      754188|\n",
      "|        3|   seller_3|      310462|\n",
      "|        4|   seller_4|     1532808|\n",
      "|        5|   seller_5|     1199693|\n",
      "|        6|   seller_6|     1055915|\n",
      "|        7|   seller_7|     1946998|\n",
      "|        8|   seller_8|      547320|\n",
      "|        9|   seller_9|     1318051|\n",
      "+---------+-----------+------------+\n",
      "\n"
     ]
    }
   ],
   "source": [
    "sellers.show()"
   ]
  },
  {
   "cell_type": "code",
   "execution_count": 19,
   "id": "4096e693",
   "metadata": {},
   "outputs": [
    {
     "data": {
      "text/plain": [
       "'seller-0'"
      ]
     },
     "execution_count": 19,
     "metadata": {},
     "output_type": "execute_result"
    }
   ],
   "source": [
    "def my_func(name):\n",
    "    return name.split(\"_\")[0]+\"-\"+name.split(\"_\")[1]\n",
    "my_func(\"seller_0\")"
   ]
  },
  {
   "cell_type": "code",
   "execution_count": 20,
   "id": "39062d1f",
   "metadata": {},
   "outputs": [],
   "source": [
    "products = spark.read.format(\"parquet\")\\\n",
    "                        .options(header=True)\\\n",
    "                        .load(\"file:///home/tamaghna/big_data_spark/products_parquet\")"
   ]
  },
  {
   "cell_type": "code",
   "execution_count": 21,
   "id": "c275ae10",
   "metadata": {},
   "outputs": [],
   "source": [
    "orders = spark.read.format(\"parquet\")\\\n",
    "                    .options(header=True)\\\n",
    "                    .load(\"file:///home/tamaghna/big_data_spark/sales_parquet\")"
   ]
  },
  {
   "cell_type": "code",
   "execution_count": 22,
   "id": "24cf9fc1",
   "metadata": {},
   "outputs": [],
   "source": [
    "dropped_text_order = orders.drop(\"bill_raw_text\")"
   ]
  },
  {
   "cell_type": "code",
   "execution_count": 23,
   "id": "280a2698",
   "metadata": {},
   "outputs": [
    {
     "name": "stdout",
     "output_type": "stream",
     "text": [
      "+--------+----------+---------+----------+---------------+\n",
      "|order_id|product_id|seller_id|date      |num_pieces_sold|\n",
      "+--------+----------+---------+----------+---------------+\n",
      "|1       |0         |0        |2020-07-10|26             |\n",
      "|2       |0         |0        |2020-07-08|13             |\n",
      "|3       |0         |0        |2020-07-05|38             |\n",
      "|4       |0         |0        |2020-07-05|56             |\n",
      "|5       |0         |0        |2020-07-05|11             |\n",
      "|6       |0         |0        |2020-07-01|82             |\n",
      "|7       |0         |0        |2020-07-04|15             |\n",
      "|8       |0         |0        |2020-07-08|79             |\n",
      "|9       |0         |0        |2020-07-10|25             |\n",
      "|10      |0         |0        |2020-07-08|8              |\n",
      "+--------+----------+---------+----------+---------------+\n",
      "only showing top 10 rows\n",
      "\n"
     ]
    }
   ],
   "source": [
    "dropped_text_order.show(10,False)"
   ]
  },
  {
   "cell_type": "code",
   "execution_count": 24,
   "id": "44222233",
   "metadata": {},
   "outputs": [
    {
     "name": "stderr",
     "output_type": "stream",
     "text": [
      "                                                                                \r"
     ]
    }
   ],
   "source": [
    "dropped_text_order.write.format(\"parquet\").options(header=True).mode(\"overwrite\").partitionBy(\"seller_id\")\\\n",
    "                .save(\"file:///home/tamaghna/files/dropped_text_order2\")"
   ]
  },
  {
   "cell_type": "code",
   "execution_count": 25,
   "id": "1bc7f48b",
   "metadata": {},
   "outputs": [],
   "source": [
    "df = spark.read.format(\"parquet\").load(\"file:///home/tamaghna/files/dropped_text_order.parquet\")"
   ]
  },
  {
   "cell_type": "code",
   "execution_count": 26,
   "id": "1e83f03d",
   "metadata": {},
   "outputs": [
    {
     "name": "stdout",
     "output_type": "stream",
     "text": [
      "+--------+----------+---------+----------+---------------+\n",
      "|order_id|product_id|seller_id|      date|num_pieces_sold|\n",
      "+--------+----------+---------+----------+---------------+\n",
      "|10099700|         0|        0|2020-07-10|              1|\n",
      "|10099701|         0|        0|2020-07-08|             84|\n",
      "|10099702|         0|        0|2020-07-05|             38|\n",
      "|10099703|         0|        0|2020-07-09|             51|\n",
      "|10099704|         0|        0|2020-07-04|             17|\n",
      "|10099705|         0|        0|2020-07-02|             65|\n",
      "|10099706|         0|        0|2020-07-04|             46|\n",
      "|10099707|         0|        0|2020-07-04|             47|\n",
      "|10099708|         0|        0|2020-07-10|             67|\n",
      "|10099709|         0|        0|2020-07-07|             79|\n",
      "|10099710|         0|        0|2020-07-07|             58|\n",
      "|10099711|         0|        0|2020-07-07|             59|\n",
      "|10099712|         0|        0|2020-07-07|             10|\n",
      "|10099713|         0|        0|2020-07-05|             65|\n",
      "|10099714|         0|        0|2020-07-04|             59|\n",
      "|10099715|         0|        0|2020-07-02|             79|\n",
      "|10099716|         0|        0|2020-07-09|             81|\n",
      "|10099717|         0|        0|2020-07-08|             37|\n",
      "|10099718|         0|        0|2020-07-09|             48|\n",
      "|10099719|         0|        0|2020-07-06|             37|\n",
      "+--------+----------+---------+----------+---------------+\n",
      "only showing top 20 rows\n",
      "\n"
     ]
    }
   ],
   "source": [
    "df.show()"
   ]
  },
  {
   "cell_type": "code",
   "execution_count": 27,
   "id": "cbe0cb25",
   "metadata": {},
   "outputs": [],
   "source": [
    "# UDF"
   ]
  },
  {
   "cell_type": "code",
   "execution_count": 28,
   "id": "608c9f6e",
   "metadata": {},
   "outputs": [],
   "source": [
    "df = spark.read.format(\"csv\").options(header=True,inferSchema=True).load(\"file:///home/tamaghna/files/employees.csv\")"
   ]
  },
  {
   "cell_type": "code",
   "execution_count": 29,
   "id": "a24f3ad1",
   "metadata": {},
   "outputs": [],
   "source": [
    "df = df.select(\"employee_id\",\"first_name\",\"last_name\",\"email\",\"phone_number\",\"hire_date\")\n"
   ]
  },
  {
   "cell_type": "code",
   "execution_count": 31,
   "id": "40f5d3b3",
   "metadata": {},
   "outputs": [],
   "source": [
    "df.write.format(\"csv\").options(header=True).mode(\"overwrite\").save(\"file:///home/tamaghna/files/employees_truc\")"
   ]
  },
  {
   "cell_type": "code",
   "execution_count": 32,
   "id": "42d0566f",
   "metadata": {},
   "outputs": [
    {
     "data": {
      "text/plain": [
       "50"
      ]
     },
     "execution_count": 32,
     "metadata": {},
     "output_type": "execute_result"
    }
   ],
   "source": [
    "df.count()"
   ]
  },
  {
   "cell_type": "code",
   "execution_count": 33,
   "id": "8891cf57",
   "metadata": {},
   "outputs": [],
   "source": [
    "df2 = spark.read.format(\"csv\").options(header=True).load(\"file:///home/tamaghna/files/employees_truc\")"
   ]
  },
  {
   "cell_type": "code",
   "execution_count": 36,
   "id": "a07cdac7",
   "metadata": {},
   "outputs": [
    {
     "name": "stdout",
     "output_type": "stream",
     "text": [
      "+-----------+----------+---------+--------+------------+---------+\n",
      "|employee_id|first_name|last_name|   email|phone_number|hire_date|\n",
      "+-----------+----------+---------+--------+------------+---------+\n",
      "|        198|    Donald| OConnell|DOCONNEL|650.507.9833|21-JUN-07|\n",
      "|        199|   Douglas|    Grant|  DGRANT|650.507.9844|13-JAN-08|\n",
      "|        200|  Jennifer|   Whalen| JWHALEN|515.123.4444|17-SEP-03|\n",
      "|        201|   Michael|Hartstein|MHARTSTE|515.123.5555|17-FEB-04|\n",
      "|        202|       Pat|      Fay|    PFAY|603.123.6666|17-AUG-05|\n",
      "|        203|     Susan|   Mavris| SMAVRIS|515.123.7777|07-JUN-02|\n",
      "|        204|   Hermann|     Baer|   HBAER|515.123.8888|07-JUN-02|\n",
      "|        205|   Shelley|  Higgins|SHIGGINS|515.123.8080|07-JUN-02|\n",
      "|        206|   William|    Gietz|  WGIETZ|515.123.8181|07-JUN-02|\n",
      "|        100|    Steven|     King|   SKING|515.123.4567|17-JUN-03|\n",
      "|        101|     Neena|  Kochhar|NKOCHHAR|515.123.4568|21-SEP-05|\n",
      "|        102|       Lex|  De Haan| LDEHAAN|515.123.4569|13-JAN-01|\n",
      "|        103| Alexander|   Hunold| AHUNOLD|590.423.4567|03-JAN-06|\n",
      "|        104|     Bruce|    Ernst|  BERNST|590.423.4568|21-MAY-07|\n",
      "|        105|     David|   Austin| DAUSTIN|590.423.4569|25-JUN-05|\n",
      "|        106|     Valli|Pataballa|VPATABAL|590.423.4560|05-FEB-06|\n",
      "|        107|     Diana|  Lorentz|DLORENTZ|590.423.5567|07-FEB-07|\n",
      "|        108|     Nancy|Greenberg|NGREENBE|515.124.4569|17-AUG-02|\n",
      "|        109|    Daniel|   Faviet| DFAVIET|515.124.4169|16-AUG-02|\n",
      "|        110|      John|     Chen|   JCHEN|515.124.4269|28-SEP-05|\n",
      "+-----------+----------+---------+--------+------------+---------+\n",
      "only showing top 20 rows\n",
      "\n"
     ]
    }
   ],
   "source": [
    "df2.show()"
   ]
  },
  {
   "cell_type": "code",
   "execution_count": 37,
   "id": "fdde092c",
   "metadata": {},
   "outputs": [
    {
     "name": "stdout",
     "output_type": "stream",
     "text": [
      "alexander.hunold.@company.com\n",
      "alexander\n",
      "HUNOLD\n"
     ]
    }
   ],
   "source": [
    "def email(name1,name2):\n",
    "    return name1.lower() + \".\" + name2.lower() + \".@company.com\"\n",
    "\n",
    "def firstName(name):\n",
    "    return name.lower()\n",
    "\n",
    "def lastName(name):\n",
    "    return name.upper()\n",
    "\n",
    "print(email(\"Alexander\",\"Hunold\"))\n",
    "print(firstName(\"Alexander\"))\n",
    "print(lastName(\"Hunold\"))"
   ]
  },
  {
   "cell_type": "code",
   "execution_count": 38,
   "id": "8ce75a6d",
   "metadata": {},
   "outputs": [],
   "source": [
    "from pyspark.sql.functions import udf\n",
    "from pyspark.sql.types import StringType"
   ]
  },
  {
   "cell_type": "code",
   "execution_count": 39,
   "id": "bc3deed1",
   "metadata": {},
   "outputs": [],
   "source": [
    "email_udf = udf(email,StringType())\n",
    "first_name_udf = udf(firstName,StringType())\n",
    "last_name_udf = udf(lastName,StringType())"
   ]
  },
  {
   "cell_type": "code",
   "execution_count": 40,
   "id": "f91e1471",
   "metadata": {},
   "outputs": [],
   "source": [
    "emp = spark.read.format(\"csv\").options(header=True).load(\"file:///home/tamaghna/files/employees_truc\")"
   ]
  },
  {
   "cell_type": "code",
   "execution_count": 41,
   "id": "46f54d46",
   "metadata": {},
   "outputs": [
    {
     "name": "stderr",
     "output_type": "stream",
     "text": [
      "\r",
      "[Stage 27:>                                                         (0 + 1) / 1]\r"
     ]
    },
    {
     "name": "stdout",
     "output_type": "stream",
     "text": [
      "+-----------+----------+---------+--------------------+------------+---------+\n",
      "|employee_id|first_name|last_name|               email|phone_number|hire_date|\n",
      "+-----------+----------+---------+--------------------+------------+---------+\n",
      "|        198|    donald| OCONNELL|donald.oconnell.@...|650.507.9833|21-JUN-07|\n",
      "|        199|   douglas|    GRANT|douglas.grant.@co...|650.507.9844|13-JAN-08|\n",
      "|        200|  jennifer|   WHALEN|jennifer.whalen.@...|515.123.4444|17-SEP-03|\n",
      "|        201|   michael|HARTSTEIN|michael.hartstein...|515.123.5555|17-FEB-04|\n",
      "|        202|       pat|      FAY|pat.fay.@company.com|603.123.6666|17-AUG-05|\n",
      "|        203|     susan|   MAVRIS|susan.mavris.@com...|515.123.7777|07-JUN-02|\n",
      "|        204|   hermann|     BAER|hermann.baer.@com...|515.123.8888|07-JUN-02|\n",
      "|        205|   shelley|  HIGGINS|shelley.higgins.@...|515.123.8080|07-JUN-02|\n",
      "|        206|   william|    GIETZ|william.gietz.@co...|515.123.8181|07-JUN-02|\n",
      "|        100|    steven|     KING|steven.king.@comp...|515.123.4567|17-JUN-03|\n",
      "|        101|     neena|  KOCHHAR|neena.kochhar.@co...|515.123.4568|21-SEP-05|\n",
      "|        102|       lex|  DE HAAN|lex.de haan.@comp...|515.123.4569|13-JAN-01|\n",
      "|        103| alexander|   HUNOLD|alexander.hunold....|590.423.4567|03-JAN-06|\n",
      "|        104|     bruce|    ERNST|bruce.ernst.@comp...|590.423.4568|21-MAY-07|\n",
      "|        105|     david|   AUSTIN|david.austin.@com...|590.423.4569|25-JUN-05|\n",
      "|        106|     valli|PATABALLA|valli.pataballa.@...|590.423.4560|05-FEB-06|\n",
      "|        107|     diana|  LORENTZ|diana.lorentz.@co...|590.423.5567|07-FEB-07|\n",
      "|        108|     nancy|GREENBERG|nancy.greenberg.@...|515.124.4569|17-AUG-02|\n",
      "|        109|    daniel|   FAVIET|daniel.faviet.@co...|515.124.4169|16-AUG-02|\n",
      "|        110|      john|     CHEN|john.chen.@compan...|515.124.4269|28-SEP-05|\n",
      "+-----------+----------+---------+--------------------+------------+---------+\n",
      "only showing top 20 rows\n",
      "\n"
     ]
    },
    {
     "name": "stderr",
     "output_type": "stream",
     "text": [
      "\r",
      "                                                                                \r"
     ]
    }
   ],
   "source": [
    "emp.withColumn(\"email\",email_udf(emp.first_name,emp.last_name))\\\n",
    ".withColumn(\"first_name\",first_name_udf(emp.first_name))\\\n",
    "    .withColumn(\"last_name\",last_name_udf(emp.last_name)).show()\n",
    "\n",
    "    "
   ]
  },
  {
   "cell_type": "code",
   "execution_count": 42,
   "id": "28dddcf0",
   "metadata": {},
   "outputs": [
    {
     "name": "stdout",
     "output_type": "stream",
     "text": [
      "+-----------+----------+---------+--------------------+------------+---------+\n",
      "|employee_id|first_name|last_name|               email|phone_number|hire_date|\n",
      "+-----------+----------+---------+--------------------+------------+---------+\n",
      "|        198|    Donald| OConnell|donald.oconnell.@...|650.507.9833|21-JUN-07|\n",
      "|        199|   Douglas|    Grant|douglas.grant.@co...|650.507.9844|13-JAN-08|\n",
      "|        200|  Jennifer|   Whalen|jennifer.whalen.@...|515.123.4444|17-SEP-03|\n",
      "|        201|   Michael|Hartstein|michael.hartstein...|515.123.5555|17-FEB-04|\n",
      "|        202|       Pat|      Fay|pat.fay.@company.com|603.123.6666|17-AUG-05|\n",
      "|        203|     Susan|   Mavris|susan.mavris.@com...|515.123.7777|07-JUN-02|\n",
      "|        204|   Hermann|     Baer|hermann.baer.@com...|515.123.8888|07-JUN-02|\n",
      "|        205|   Shelley|  Higgins|shelley.higgins.@...|515.123.8080|07-JUN-02|\n",
      "|        206|   William|    Gietz|william.gietz.@co...|515.123.8181|07-JUN-02|\n",
      "|        100|    Steven|     King|steven.king.@comp...|515.123.4567|17-JUN-03|\n",
      "|        101|     Neena|  Kochhar|neena.kochhar.@co...|515.123.4568|21-SEP-05|\n",
      "|        102|       Lex|  De Haan|lex.de haan.@comp...|515.123.4569|13-JAN-01|\n",
      "|        103| Alexander|   Hunold|alexander.hunold....|590.423.4567|03-JAN-06|\n",
      "|        104|     Bruce|    Ernst|bruce.ernst.@comp...|590.423.4568|21-MAY-07|\n",
      "|        105|     David|   Austin|david.austin.@com...|590.423.4569|25-JUN-05|\n",
      "|        106|     Valli|Pataballa|valli.pataballa.@...|590.423.4560|05-FEB-06|\n",
      "|        107|     Diana|  Lorentz|diana.lorentz.@co...|590.423.5567|07-FEB-07|\n",
      "|        108|     Nancy|Greenberg|nancy.greenberg.@...|515.124.4569|17-AUG-02|\n",
      "|        109|    Daniel|   Faviet|daniel.faviet.@co...|515.124.4169|16-AUG-02|\n",
      "|        110|      John|     Chen|john.chen.@compan...|515.124.4269|28-SEP-05|\n",
      "+-----------+----------+---------+--------------------+------------+---------+\n",
      "only showing top 20 rows\n",
      "\n"
     ]
    }
   ],
   "source": [
    "emp.withColumn(\"email\",email_udf(emp.first_name,emp.last_name)).show()"
   ]
  },
  {
   "cell_type": "code",
   "execution_count": 43,
   "id": "68c7ea77",
   "metadata": {},
   "outputs": [],
   "source": [
    "emp.write.format(\"csv\").options(header=True)\\\n",
    "    .mode(\"overwrite\")\\\n",
    "    .save(\"file:///home/tamaghna/files/employees_transformed\")"
   ]
  },
  {
   "cell_type": "code",
   "execution_count": 44,
   "id": "6d74a7fd",
   "metadata": {},
   "outputs": [],
   "source": [
    "def email(name1,name2):\n",
    "    return name1.lower() + \".\" + name2.lower() + \".@company.com\"\n",
    "\n",
    "def firstName(name):\n",
    "    return name.lower()\n",
    "\n",
    "def lastName(name):\n",
    "    return name.upper()"
   ]
  },
  {
   "cell_type": "code",
   "execution_count": 45,
   "id": "8775b8cb",
   "metadata": {},
   "outputs": [],
   "source": [
    "from pyspark.sql.functions import udf\n",
    "from pyspark.sql.types import StringType"
   ]
  },
  {
   "cell_type": "code",
   "execution_count": 46,
   "id": "5bf5c2ef",
   "metadata": {},
   "outputs": [
    {
     "data": {
      "text/plain": [
       "<function __main__.email(name1, name2)>"
      ]
     },
     "execution_count": 46,
     "metadata": {},
     "output_type": "execute_result"
    }
   ],
   "source": [
    "spark.udf.register(\"email_regUDF\",email,StringType())"
   ]
  },
  {
   "cell_type": "code",
   "execution_count": 47,
   "id": "89b57753",
   "metadata": {},
   "outputs": [
    {
     "data": {
      "text/plain": [
       "<function __main__.firstName(name)>"
      ]
     },
     "execution_count": 47,
     "metadata": {},
     "output_type": "execute_result"
    }
   ],
   "source": [
    "spark.udf.register(\"first_name_regUDF\",firstName,StringType())"
   ]
  },
  {
   "cell_type": "code",
   "execution_count": 48,
   "id": "a8c76f2a",
   "metadata": {},
   "outputs": [
    {
     "data": {
      "text/plain": [
       "<function __main__.lastName(name)>"
      ]
     },
     "execution_count": 48,
     "metadata": {},
     "output_type": "execute_result"
    }
   ],
   "source": [
    "spark.udf.register(\"last_name_regUDF\",lastName,StringType())"
   ]
  },
  {
   "cell_type": "code",
   "execution_count": 49,
   "id": "a93eaa78",
   "metadata": {},
   "outputs": [
    {
     "data": {
      "text/plain": [
       "[]"
      ]
     },
     "execution_count": 49,
     "metadata": {},
     "output_type": "execute_result"
    }
   ],
   "source": [
    "spark.catalog.listTables()"
   ]
  },
  {
   "cell_type": "code",
   "execution_count": 50,
   "id": "f1d14b08",
   "metadata": {},
   "outputs": [],
   "source": [
    "emp.createOrReplaceTempView(\"emp_table\")"
   ]
  },
  {
   "cell_type": "code",
   "execution_count": 51,
   "id": "5019fb5a",
   "metadata": {},
   "outputs": [
    {
     "data": {
      "text/plain": [
       "[Table(name='emp_table', database=None, description=None, tableType='TEMPORARY', isTemporary=True)]"
      ]
     },
     "execution_count": 51,
     "metadata": {},
     "output_type": "execute_result"
    }
   ],
   "source": [
    "spark.catalog.listTables()"
   ]
  },
  {
   "cell_type": "code",
   "execution_count": 52,
   "id": "2030f03a",
   "metadata": {},
   "outputs": [],
   "source": [
    "# employee_id|first_name|last_name|email|phone_number|hire_date"
   ]
  },
  {
   "cell_type": "code",
   "execution_count": 61,
   "id": "562fea6a",
   "metadata": {},
   "outputs": [],
   "source": [
    "emp_sql = spark.sql(\"\\\n",
    "                            select\\\n",
    "                                first_name_regUDF(first_name) as first_name,\\\n",
    "                                last_name_regUDF(last_name) as last_name,\\\n",
    "                                email_regUDF(first_name, last_name) as email,\\\n",
    "                                phone_number,\\\n",
    "                                hire_date\\\n",
    "                                from emp_table\"\n",
    "                     )"
   ]
  },
  {
   "cell_type": "code",
   "execution_count": 57,
   "id": "3388efb3",
   "metadata": {},
   "outputs": [
    {
     "data": {
      "text/plain": [
       "pyspark.sql.dataframe.DataFrame"
      ]
     },
     "execution_count": 57,
     "metadata": {},
     "output_type": "execute_result"
    }
   ],
   "source": [
    "type(transformed_date)"
   ]
  },
  {
   "cell_type": "code",
   "execution_count": 62,
   "id": "df28c5af",
   "metadata": {},
   "outputs": [],
   "source": [
    "emp_sql.write.format(\"csv\").options(header=True)\\\n",
    "        .mode(\"overwrite\")\\\n",
    "        .save(\"file:///home/tamaghna/files/employees_transformed_sql\")"
   ]
  },
  {
   "cell_type": "code",
   "execution_count": null,
   "id": "79898865",
   "metadata": {},
   "outputs": [],
   "source": []
  }
 ],
 "metadata": {
  "kernelspec": {
   "display_name": "Python 3 (ipykernel)",
   "language": "python",
   "name": "python3"
  },
  "language_info": {
   "codemirror_mode": {
    "name": "ipython",
    "version": 3
   },
   "file_extension": ".py",
   "mimetype": "text/x-python",
   "name": "python",
   "nbconvert_exporter": "python",
   "pygments_lexer": "ipython3",
   "version": "3.8.10"
  }
 },
 "nbformat": 4,
 "nbformat_minor": 5
}
