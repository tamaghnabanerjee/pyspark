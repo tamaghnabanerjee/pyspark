{
 "cells": [
  {
   "cell_type": "code",
   "execution_count": 2,
   "id": "eacd7cfc",
   "metadata": {},
   "outputs": [
    {
     "name": "stderr",
     "output_type": "stream",
     "text": [
      "2021-09-23 09:10:06,749 WARN util.Utils: Your hostname, tb-LinuxBox resolves to a loopback address: 127.0.1.1; using 10.0.2.15 instead (on interface enp0s3)\n",
      "2021-09-23 09:10:06,751 WARN util.Utils: Set SPARK_LOCAL_IP if you need to bind to another address\n",
      "2021-09-23 09:10:09,392 WARN util.NativeCodeLoader: Unable to load native-hadoop library for your platform... using builtin-java classes where applicable\n",
      "Setting default log level to \"WARN\".\n",
      "To adjust logging level use sc.setLogLevel(newLevel). For SparkR, use setLogLevel(newLevel).\n",
      "2021-09-23 09:10:14,708 WARN util.Utils: Service 'SparkUI' could not bind on port 4040. Attempting port 4041.\n"
     ]
    }
   ],
   "source": [
    "from pyspark.sql import SparkSession\n",
    "spark = SparkSession.builder.appName(\"practice\").getOrCreate()"
   ]
  },
  {
   "cell_type": "code",
   "execution_count": 3,
   "id": "201dfa32",
   "metadata": {},
   "outputs": [],
   "source": [
    "columns = [\"first_name\",\"last_name\",\"department\",\"state\",\"salary\",\"age\",\"bonus\"]\n",
    "data = [\n",
    "        (\"Jonathan\",\"snow\",\"Developer\",\"NC\",90000,35,2000),\\\n",
    "        (\"Tony\",\"stark\",\"Developer\",\"NY\",120000,45,3000),\\\n",
    "        (\"Arya\",\"stark\",\"Developer\",\"NC\",95000,18,4000),\\\n",
    "        (\"Bruce\",\"banner\",\"Sales\",\"CA\",100000,58,1000),\\\n",
    "        (\"Natasha\",\"romanov\",\"Sales\",\"CA\",80000,40,5000),\\\n",
    "        (\"Steve\",\"rogers\",\"Sales\",\"WA\",70000,28,8000),\\\n",
    "        (\"Thanos\",\"\",\"Finance\",\"NC\",60000,75,3000),\\\n",
    "        (\"Sansa\",\"stark\",\"Developer\",\"WA\",90000,23,9000),\\\n",
    "        (\"Gandalf\",\"\",\"Finance\",\"NY\",150000,80,2000),\\\n",
    "        (\"Cercei\",\"lannister\",\"Finance\",\"NC\",85000,46,2500),\\\n",
    "        (\"Thor\",\"\",\"Sales\",\"WA\",75000,50,5000),\\\n",
    "        (\"Lionel\",\"messi\",\"Developer\",\"NY\",130000,34,6000),\\\n",
    "        ]"
   ]
  },
  {
   "cell_type": "code",
   "execution_count": 4,
   "id": "6022dcf5",
   "metadata": {},
   "outputs": [],
   "source": [
    "df = spark.createDataFrame(data,columns)"
   ]
  },
  {
   "cell_type": "code",
   "execution_count": 5,
   "id": "20d4c126",
   "metadata": {},
   "outputs": [
    {
     "name": "stderr",
     "output_type": "stream",
     "text": [
      "                                                                                \r"
     ]
    },
    {
     "name": "stdout",
     "output_type": "stream",
     "text": [
      "+----------+---------+----------+-----+------+---+-----+\n",
      "|first_name|last_name|department|state|salary|age|bonus|\n",
      "+----------+---------+----------+-----+------+---+-----+\n",
      "|  Jonathan|     snow| Developer|   NC| 90000| 35| 2000|\n",
      "|      Tony|    stark| Developer|   NY|120000| 45| 3000|\n",
      "|      Arya|    stark| Developer|   NC| 95000| 18| 4000|\n",
      "|     Bruce|   banner|     Sales|   CA|100000| 58| 1000|\n",
      "|   Natasha|  romanov|     Sales|   CA| 80000| 40| 5000|\n",
      "|     Steve|   rogers|     Sales|   WA| 70000| 28| 8000|\n",
      "|    Thanos|         |   Finance|   NC| 60000| 75| 3000|\n",
      "|     Sansa|    stark| Developer|   WA| 90000| 23| 9000|\n",
      "|   Gandalf|         |   Finance|   NY|150000| 80| 2000|\n",
      "|    Cercei|lannister|   Finance|   NC| 85000| 46| 2500|\n",
      "|      Thor|         |     Sales|   WA| 75000| 50| 5000|\n",
      "|    Lionel|    messi| Developer|   NY|130000| 34| 6000|\n",
      "+----------+---------+----------+-----+------+---+-----+\n",
      "\n"
     ]
    }
   ],
   "source": [
    "df.show()"
   ]
  },
  {
   "cell_type": "code",
   "execution_count": 6,
   "id": "6e5dd6c2",
   "metadata": {},
   "outputs": [
    {
     "name": "stdout",
     "output_type": "stream",
     "text": [
      "root\n",
      " |-- first_name: string (nullable = true)\n",
      " |-- last_name: string (nullable = true)\n",
      " |-- department: string (nullable = true)\n",
      " |-- state: string (nullable = true)\n",
      " |-- salary: long (nullable = true)\n",
      " |-- age: long (nullable = true)\n",
      " |-- bonus: long (nullable = true)\n",
      "\n"
     ]
    }
   ],
   "source": [
    "df.printSchema()"
   ]
  },
  {
   "cell_type": "code",
   "execution_count": 7,
   "id": "0a595db4",
   "metadata": {},
   "outputs": [],
   "source": [
    "#print last names of Finance people"
   ]
  },
  {
   "cell_type": "code",
   "execution_count": 8,
   "id": "5ca8000c",
   "metadata": {},
   "outputs": [
    {
     "name": "stdout",
     "output_type": "stream",
     "text": [
      "+---------+----------+\n",
      "|last_name|department|\n",
      "+---------+----------+\n",
      "|         |   Finance|\n",
      "|         |   Finance|\n",
      "|lannister|   Finance|\n",
      "+---------+----------+\n",
      "\n"
     ]
    }
   ],
   "source": [
    "df.select(df.last_name,df.department).filter(df.department == \"Finance\").show()"
   ]
  },
  {
   "cell_type": "code",
   "execution_count": null,
   "id": "6b6658c9",
   "metadata": {},
   "outputs": [],
   "source": []
  },
  {
   "cell_type": "code",
   "execution_count": 9,
   "id": "51fc9e86",
   "metadata": {},
   "outputs": [],
   "source": [
    "from pyspark.sql.functions import col, concat, concat_ws, upper, udf"
   ]
  },
  {
   "cell_type": "code",
   "execution_count": 10,
   "id": "96dc71f9",
   "metadata": {},
   "outputs": [],
   "source": [
    "df = df.withColumn(\"total_salary\",(col(\"bonus\") + col(\"salary\")))"
   ]
  },
  {
   "cell_type": "code",
   "execution_count": 11,
   "id": "42f7eb86",
   "metadata": {},
   "outputs": [
    {
     "name": "stdout",
     "output_type": "stream",
     "text": [
      "+----------+---------+----------+-----+------+---+-----+------------+\n",
      "|first_name|last_name|department|state|salary|age|bonus|total_salary|\n",
      "+----------+---------+----------+-----+------+---+-----+------------+\n",
      "|  Jonathan|     snow| Developer|   NC| 90000| 35| 2000|       92000|\n",
      "|      Tony|    stark| Developer|   NY|120000| 45| 3000|      123000|\n",
      "|      Arya|    stark| Developer|   NC| 95000| 18| 4000|       99000|\n",
      "|     Bruce|   banner|     Sales|   CA|100000| 58| 1000|      101000|\n",
      "|   Natasha|  romanov|     Sales|   CA| 80000| 40| 5000|       85000|\n",
      "|     Steve|   rogers|     Sales|   WA| 70000| 28| 8000|       78000|\n",
      "|    Thanos|         |   Finance|   NC| 60000| 75| 3000|       63000|\n",
      "|     Sansa|    stark| Developer|   WA| 90000| 23| 9000|       99000|\n",
      "|   Gandalf|         |   Finance|   NY|150000| 80| 2000|      152000|\n",
      "|    Cercei|lannister|   Finance|   NC| 85000| 46| 2500|       87500|\n",
      "|      Thor|         |     Sales|   WA| 75000| 50| 5000|       80000|\n",
      "|    Lionel|    messi| Developer|   NY|130000| 34| 6000|      136000|\n",
      "+----------+---------+----------+-----+------+---+-----+------------+\n",
      "\n"
     ]
    }
   ],
   "source": [
    "df.show()"
   ]
  },
  {
   "cell_type": "code",
   "execution_count": 12,
   "id": "7b2b63cf",
   "metadata": {},
   "outputs": [],
   "source": [
    "# add a column called full_name with full name data"
   ]
  },
  {
   "cell_type": "code",
   "execution_count": 13,
   "id": "a3f81aee",
   "metadata": {},
   "outputs": [],
   "source": [
    "df = df.withColumn(\"full_name\",concat_ws(\" \",df.first_name,df.last_name))\\\n",
    "                            .select(\"first_name\",\"last_name\",\"full_name\",\\\n",
    "                            \"department\",\"state\",\"salary\",\"age\",\"bonus\",\"total_salary\")"
   ]
  },
  {
   "cell_type": "code",
   "execution_count": 14,
   "id": "7009b2a1",
   "metadata": {},
   "outputs": [
    {
     "name": "stdout",
     "output_type": "stream",
     "text": [
      "+----------+---------+----------------+----------+-----+------+---+-----+------------+\n",
      "|first_name|last_name|       full_name|department|state|salary|age|bonus|total_salary|\n",
      "+----------+---------+----------------+----------+-----+------+---+-----+------------+\n",
      "|  Jonathan|     snow|   Jonathan snow| Developer|   NC| 90000| 35| 2000|       92000|\n",
      "|      Tony|    stark|      Tony stark| Developer|   NY|120000| 45| 3000|      123000|\n",
      "|      Arya|    stark|      Arya stark| Developer|   NC| 95000| 18| 4000|       99000|\n",
      "|     Bruce|   banner|    Bruce banner|     Sales|   CA|100000| 58| 1000|      101000|\n",
      "|   Natasha|  romanov| Natasha romanov|     Sales|   CA| 80000| 40| 5000|       85000|\n",
      "|     Steve|   rogers|    Steve rogers|     Sales|   WA| 70000| 28| 8000|       78000|\n",
      "|    Thanos|         |         Thanos |   Finance|   NC| 60000| 75| 3000|       63000|\n",
      "|     Sansa|    stark|     Sansa stark| Developer|   WA| 90000| 23| 9000|       99000|\n",
      "|   Gandalf|         |        Gandalf |   Finance|   NY|150000| 80| 2000|      152000|\n",
      "|    Cercei|lannister|Cercei lannister|   Finance|   NC| 85000| 46| 2500|       87500|\n",
      "|      Thor|         |           Thor |     Sales|   WA| 75000| 50| 5000|       80000|\n",
      "|    Lionel|    messi|    Lionel messi| Developer|   NY|130000| 34| 6000|      136000|\n",
      "+----------+---------+----------------+----------+-----+------+---+-----+------------+\n",
      "\n"
     ]
    }
   ],
   "source": [
    "df.show()"
   ]
  },
  {
   "cell_type": "code",
   "execution_count": 15,
   "id": "28c34cb0",
   "metadata": {},
   "outputs": [
    {
     "name": "stdout",
     "output_type": "stream",
     "text": [
      "+----------+---------+----------------+----------+-----+------+---+-----+------------+\n",
      "|first_name|last_name|       full_name|department|state|salary|age|bonus|total_salary|\n",
      "+----------+---------+----------------+----------+-----+------+---+-----+------------+\n",
      "|  Jonathan|     SNOW|   Jonathan snow| Developer|   NC| 90000| 35| 2000|       92000|\n",
      "|      Tony|    STARK|      Tony stark| Developer|   NY|120000| 45| 3000|      123000|\n",
      "|      Arya|    STARK|      Arya stark| Developer|   NC| 95000| 18| 4000|       99000|\n",
      "|     Bruce|   BANNER|    Bruce banner|     Sales|   CA|100000| 58| 1000|      101000|\n",
      "|   Natasha|  ROMANOV| Natasha romanov|     Sales|   CA| 80000| 40| 5000|       85000|\n",
      "|     Steve|   ROGERS|    Steve rogers|     Sales|   WA| 70000| 28| 8000|       78000|\n",
      "|    Thanos|         |         Thanos |   Finance|   NC| 60000| 75| 3000|       63000|\n",
      "|     Sansa|    STARK|     Sansa stark| Developer|   WA| 90000| 23| 9000|       99000|\n",
      "|   Gandalf|         |        Gandalf |   Finance|   NY|150000| 80| 2000|      152000|\n",
      "|    Cercei|LANNISTER|Cercei lannister|   Finance|   NC| 85000| 46| 2500|       87500|\n",
      "|      Thor|         |           Thor |     Sales|   WA| 75000| 50| 5000|       80000|\n",
      "|    Lionel|    MESSI|    Lionel messi| Developer|   NY|130000| 34| 6000|      136000|\n",
      "+----------+---------+----------------+----------+-----+------+---+-----+------------+\n",
      "\n"
     ]
    }
   ],
   "source": [
    "df.withColumn(\"last_name\",upper(df.last_name)).show()"
   ]
  },
  {
   "cell_type": "code",
   "execution_count": 16,
   "id": "bc6a7bf9",
   "metadata": {},
   "outputs": [],
   "source": [
    "# Make first letter of last name in upper case"
   ]
  },
  {
   "cell_type": "code",
   "execution_count": 17,
   "id": "e8a23e25",
   "metadata": {},
   "outputs": [],
   "source": [
    "def upper_case(word):\n",
    "    if word != \"\":\n",
    "        word = word[0].upper() + word[1:]\n",
    "    return word"
   ]
  },
  {
   "cell_type": "code",
   "execution_count": 18,
   "id": "0c2ed381",
   "metadata": {},
   "outputs": [],
   "source": [
    "upper_case_udf = udf(lambda word: upper_case(word))"
   ]
  },
  {
   "cell_type": "code",
   "execution_count": 19,
   "id": "1e891e9b",
   "metadata": {},
   "outputs": [
    {
     "data": {
      "text/plain": [
       "<function __main__.<lambda>(word)>"
      ]
     },
     "execution_count": 19,
     "metadata": {},
     "output_type": "execute_result"
    }
   ],
   "source": [
    "spark.udf.register(\"upper_case_udf\",upper_case_udf)"
   ]
  },
  {
   "cell_type": "code",
   "execution_count": 20,
   "id": "65747937",
   "metadata": {},
   "outputs": [
    {
     "name": "stdout",
     "output_type": "stream",
     "text": [
      "+----------+---------+----------------+----------+-----+------+---+-----+------------+\n",
      "|first_name|last_name|       full_name|department|state|salary|age|bonus|total_salary|\n",
      "+----------+---------+----------------+----------+-----+------+---+-----+------------+\n",
      "|  Jonathan|     Snow|   Jonathan snow| Developer|   NC| 90000| 35| 2000|       92000|\n",
      "|      Tony|    Stark|      Tony stark| Developer|   NY|120000| 45| 3000|      123000|\n",
      "|      Arya|    Stark|      Arya stark| Developer|   NC| 95000| 18| 4000|       99000|\n",
      "|     Bruce|   Banner|    Bruce banner|     Sales|   CA|100000| 58| 1000|      101000|\n",
      "|   Natasha|  Romanov| Natasha romanov|     Sales|   CA| 80000| 40| 5000|       85000|\n",
      "|     Steve|   Rogers|    Steve rogers|     Sales|   WA| 70000| 28| 8000|       78000|\n",
      "|    Thanos|         |         Thanos |   Finance|   NC| 60000| 75| 3000|       63000|\n",
      "|     Sansa|    Stark|     Sansa stark| Developer|   WA| 90000| 23| 9000|       99000|\n",
      "|   Gandalf|         |        Gandalf |   Finance|   NY|150000| 80| 2000|      152000|\n",
      "|    Cercei|Lannister|Cercei lannister|   Finance|   NC| 85000| 46| 2500|       87500|\n",
      "|      Thor|         |           Thor |     Sales|   WA| 75000| 50| 5000|       80000|\n",
      "|    Lionel|    Messi|    Lionel messi| Developer|   NY|130000| 34| 6000|      136000|\n",
      "+----------+---------+----------------+----------+-----+------+---+-----+------------+\n",
      "\n"
     ]
    }
   ],
   "source": [
    "df.withColumn(\"last_name\",upper_case_udf(df.last_name)).show()"
   ]
  },
  {
   "cell_type": "code",
   "execution_count": 21,
   "id": "7456140c",
   "metadata": {
    "scrolled": true
   },
   "outputs": [
    {
     "name": "stdout",
     "output_type": "stream",
     "text": [
      "+----------+---------+----------------+----------+-----+------+---+-----+------------+\n",
      "|first_name|last_name|       full_name|department|state|salary|age|bonus|total_salary|\n",
      "+----------+---------+----------------+----------+-----+------+---+-----+------------+\n",
      "|  Jonathan|     snow|   Jonathan snow| Developer|   NC| 90000| 35| 2000|       92000|\n",
      "|      Tony|    stark|      Tony stark| Developer|   NY|120000| 45| 3000|      123000|\n",
      "|      Arya|    stark|      Arya stark| Developer|   NC| 95000| 18| 4000|       99000|\n",
      "|     Bruce|   banner|    Bruce banner|     Sales|   CA|100000| 58| 1000|      101000|\n",
      "|   Natasha|  romanov| Natasha romanov|     Sales|   CA| 80000| 40| 5000|       85000|\n",
      "|     Steve|   rogers|    Steve rogers|     Sales|   WA| 70000| 28| 8000|       78000|\n",
      "|    Thanos|         |         Thanos |   Finance|   NC| 60000| 75| 3000|       63000|\n",
      "|     Sansa|    stark|     Sansa stark| Developer|   WA| 90000| 23| 9000|       99000|\n",
      "|   Gandalf|         |        Gandalf |   Finance|   NY|150000| 80| 2000|      152000|\n",
      "|    Cercei|lannister|Cercei lannister|   Finance|   NC| 85000| 46| 2500|       87500|\n",
      "|      Thor|         |           Thor |     Sales|   WA| 75000| 50| 5000|       80000|\n",
      "|    Lionel|    messi|    Lionel messi| Developer|   NY|130000| 34| 6000|      136000|\n",
      "+----------+---------+----------------+----------+-----+------+---+-----+------------+\n",
      "\n"
     ]
    }
   ],
   "source": [
    "df.show()"
   ]
  },
  {
   "cell_type": "code",
   "execution_count": 22,
   "id": "6616f4b1",
   "metadata": {},
   "outputs": [],
   "source": [
    "from pyspark.sql.functions import *"
   ]
  },
  {
   "cell_type": "code",
   "execution_count": 23,
   "id": "9a8cfab3",
   "metadata": {},
   "outputs": [
    {
     "name": "stdout",
     "output_type": "stream",
     "text": [
      "+----------+---------+----------------+----------+-----+------+---+-----+------------+----------+\n",
      "|first_name|last_name|       full_name|department|state|salary|age|bonus|total_salary|      date|\n",
      "+----------+---------+----------------+----------+-----+------+---+-----+------------+----------+\n",
      "|  Jonathan|     snow|   Jonathan snow| Developer|   NC| 90000| 35| 2000|       92000|2021-09-23|\n",
      "|      Tony|    stark|      Tony stark| Developer|   NY|120000| 45| 3000|      123000|2021-09-23|\n",
      "|      Arya|    stark|      Arya stark| Developer|   NC| 95000| 18| 4000|       99000|2021-09-23|\n",
      "|     Bruce|   banner|    Bruce banner|     Sales|   CA|100000| 58| 1000|      101000|2021-09-23|\n",
      "|   Natasha|  romanov| Natasha romanov|     Sales|   CA| 80000| 40| 5000|       85000|2021-09-23|\n",
      "|     Steve|   rogers|    Steve rogers|     Sales|   WA| 70000| 28| 8000|       78000|2021-09-23|\n",
      "|    Thanos|         |         Thanos |   Finance|   NC| 60000| 75| 3000|       63000|2021-09-23|\n",
      "|     Sansa|    stark|     Sansa stark| Developer|   WA| 90000| 23| 9000|       99000|2021-09-23|\n",
      "|   Gandalf|         |        Gandalf |   Finance|   NY|150000| 80| 2000|      152000|2021-09-23|\n",
      "|    Cercei|lannister|Cercei lannister|   Finance|   NC| 85000| 46| 2500|       87500|2021-09-23|\n",
      "|      Thor|         |           Thor |     Sales|   WA| 75000| 50| 5000|       80000|2021-09-23|\n",
      "|    Lionel|    messi|    Lionel messi| Developer|   NY|130000| 34| 6000|      136000|2021-09-23|\n",
      "+----------+---------+----------------+----------+-----+------+---+-----+------------+----------+\n",
      "\n"
     ]
    }
   ],
   "source": [
    "df.withColumn(\"date\",current_date()).show()"
   ]
  },
  {
   "cell_type": "code",
   "execution_count": 25,
   "id": "13ab1eef",
   "metadata": {},
   "outputs": [
    {
     "name": "stdout",
     "output_type": "stream",
     "text": [
      "+----------+---------+----------------+----------+-----+------+---+-----+------------+-----------------------+\n",
      "|first_name|last_name|full_name       |department|state|salary|age|bonus|total_salary|date                   |\n",
      "+----------+---------+----------------+----------+-----+------+---+-----+------------+-----------------------+\n",
      "|Jonathan  |snow     |Jonathan snow   |Developer |NC   |90000 |35 |2000 |92000       |2021-09-23 09:13:52.966|\n",
      "|Tony      |stark    |Tony stark      |Developer |NY   |120000|45 |3000 |123000      |2021-09-23 09:13:52.966|\n",
      "|Arya      |stark    |Arya stark      |Developer |NC   |95000 |18 |4000 |99000       |2021-09-23 09:13:52.966|\n",
      "|Bruce     |banner   |Bruce banner    |Sales     |CA   |100000|58 |1000 |101000      |2021-09-23 09:13:52.966|\n",
      "|Natasha   |romanov  |Natasha romanov |Sales     |CA   |80000 |40 |5000 |85000       |2021-09-23 09:13:52.966|\n",
      "|Steve     |rogers   |Steve rogers    |Sales     |WA   |70000 |28 |8000 |78000       |2021-09-23 09:13:52.966|\n",
      "|Thanos    |         |Thanos          |Finance   |NC   |60000 |75 |3000 |63000       |2021-09-23 09:13:52.966|\n",
      "|Sansa     |stark    |Sansa stark     |Developer |WA   |90000 |23 |9000 |99000       |2021-09-23 09:13:52.966|\n",
      "|Gandalf   |         |Gandalf         |Finance   |NY   |150000|80 |2000 |152000      |2021-09-23 09:13:52.966|\n",
      "|Cercei    |lannister|Cercei lannister|Finance   |NC   |85000 |46 |2500 |87500       |2021-09-23 09:13:52.966|\n",
      "|Thor      |         |Thor            |Sales     |WA   |75000 |50 |5000 |80000       |2021-09-23 09:13:52.966|\n",
      "|Lionel    |messi    |Lionel messi    |Developer |NY   |130000|34 |6000 |136000      |2021-09-23 09:13:52.966|\n",
      "+----------+---------+----------------+----------+-----+------+---+-----+------------+-----------------------+\n",
      "\n"
     ]
    }
   ],
   "source": [
    "df.withColumn(\"date\",current_timestamp()).show(truncate=False)"
   ]
  },
  {
   "cell_type": "code",
   "execution_count": 26,
   "id": "ca6d5419",
   "metadata": {},
   "outputs": [
    {
     "name": "stdout",
     "output_type": "stream",
     "text": [
      "root\n",
      " |-- first_name: string (nullable = true)\n",
      " |-- last_name: string (nullable = true)\n",
      " |-- full_name: string (nullable = false)\n",
      " |-- department: string (nullable = true)\n",
      " |-- state: string (nullable = true)\n",
      " |-- salary: long (nullable = true)\n",
      " |-- age: long (nullable = true)\n",
      " |-- bonus: long (nullable = true)\n",
      " |-- total_salary: long (nullable = true)\n",
      "\n"
     ]
    }
   ],
   "source": [
    "df.printSchema()"
   ]
  },
  {
   "cell_type": "code",
   "execution_count": 27,
   "id": "82f87b0d",
   "metadata": {},
   "outputs": [],
   "source": [
    "# make bonus data type from ling to float"
   ]
  },
  {
   "cell_type": "code",
   "execution_count": 28,
   "id": "2f590c47",
   "metadata": {},
   "outputs": [],
   "source": [
    "from pyspark.sql.types import FloatType"
   ]
  },
  {
   "cell_type": "code",
   "execution_count": 30,
   "id": "b47b896b",
   "metadata": {},
   "outputs": [],
   "source": [
    "df = df.withColumn(\"bonus\",df.bonus.cast(FloatType()))"
   ]
  },
  {
   "cell_type": "code",
   "execution_count": 31,
   "id": "ab84cadb",
   "metadata": {},
   "outputs": [
    {
     "name": "stdout",
     "output_type": "stream",
     "text": [
      "root\n",
      " |-- first_name: string (nullable = true)\n",
      " |-- last_name: string (nullable = true)\n",
      " |-- full_name: string (nullable = false)\n",
      " |-- department: string (nullable = true)\n",
      " |-- state: string (nullable = true)\n",
      " |-- salary: long (nullable = true)\n",
      " |-- age: long (nullable = true)\n",
      " |-- bonus: float (nullable = true)\n",
      " |-- total_salary: long (nullable = true)\n",
      "\n"
     ]
    }
   ],
   "source": [
    "df.printSchema()"
   ]
  },
  {
   "cell_type": "code",
   "execution_count": 32,
   "id": "fb5988bd",
   "metadata": {},
   "outputs": [
    {
     "name": "stdout",
     "output_type": "stream",
     "text": [
      "+----------+---------+----------------+----------+-----+------+---+------+------------+\n",
      "|first_name|last_name|       full_name|department|state|salary|age| bonus|total_salary|\n",
      "+----------+---------+----------------+----------+-----+------+---+------+------------+\n",
      "|  Jonathan|     snow|   Jonathan snow| Developer|   NC| 90000| 35|2000.0|       92000|\n",
      "|      Tony|    stark|      Tony stark| Developer|   NY|120000| 45|3000.0|      123000|\n",
      "|      Arya|    stark|      Arya stark| Developer|   NC| 95000| 18|4000.0|       99000|\n",
      "|     Bruce|   banner|    Bruce banner|     Sales|   CA|100000| 58|1000.0|      101000|\n",
      "|   Natasha|  romanov| Natasha romanov|     Sales|   CA| 80000| 40|5000.0|       85000|\n",
      "|     Steve|   rogers|    Steve rogers|     Sales|   WA| 70000| 28|8000.0|       78000|\n",
      "|    Thanos|         |         Thanos |   Finance|   NC| 60000| 75|3000.0|       63000|\n",
      "|     Sansa|    stark|     Sansa stark| Developer|   WA| 90000| 23|9000.0|       99000|\n",
      "|   Gandalf|         |        Gandalf |   Finance|   NY|150000| 80|2000.0|      152000|\n",
      "|    Cercei|lannister|Cercei lannister|   Finance|   NC| 85000| 46|2500.0|       87500|\n",
      "|      Thor|         |           Thor |     Sales|   WA| 75000| 50|5000.0|       80000|\n",
      "|    Lionel|    messi|    Lionel messi| Developer|   NY|130000| 34|6000.0|      136000|\n",
      "+----------+---------+----------------+----------+-----+------+---+------+------------+\n",
      "\n"
     ]
    }
   ],
   "source": [
    "df.show()"
   ]
  },
  {
   "cell_type": "code",
   "execution_count": null,
   "id": "57c39043",
   "metadata": {},
   "outputs": [],
   "source": []
  }
 ],
 "metadata": {
  "kernelspec": {
   "display_name": "Python 3 (ipykernel)",
   "language": "python",
   "name": "python3"
  },
  "language_info": {
   "codemirror_mode": {
    "name": "ipython",
    "version": 3
   },
   "file_extension": ".py",
   "mimetype": "text/x-python",
   "name": "python",
   "nbconvert_exporter": "python",
   "pygments_lexer": "ipython3",
   "version": "3.8.10"
  }
 },
 "nbformat": 4,
 "nbformat_minor": 5
}
