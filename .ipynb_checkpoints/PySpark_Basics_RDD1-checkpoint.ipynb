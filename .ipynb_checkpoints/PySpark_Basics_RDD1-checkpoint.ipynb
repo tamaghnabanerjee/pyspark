{
 "cells": [
  {
   "cell_type": "markdown",
   "id": "88bf730e",
   "metadata": {},
   "source": [
    "# RDD - Basics"
   ]
  },
  {
   "cell_type": "markdown",
   "id": "ecb86551",
   "metadata": {},
   "source": [
    "RDD Creation"
   ]
  },
  {
   "cell_type": "markdown",
   "id": "77b2e196",
   "metadata": {},
   "source": [
    "RDD can be created in 2 ways:\n",
    "1. Parallelizing an existing collection.\n",
    "2. Loading a dataset from an external storage system."
   ]
  },
  {
   "cell_type": "raw",
   "id": "2552ed43",
   "metadata": {},
   "source": [
    "https://sparkbyexamples.com/pyspark-tutorial/\n",
    "https://sparkbyexamples.com/pyspark-rdd/"
   ]
  },
  {
   "cell_type": "code",
   "execution_count": 2,
   "id": "34505141",
   "metadata": {},
   "outputs": [],
   "source": [
    "from pyspark.sql import SparkSession"
   ]
  },
  {
   "cell_type": "code",
   "execution_count": 39,
   "id": "65dd1c11",
   "metadata": {},
   "outputs": [],
   "source": [
    "# sc.setLogLevel(\"ERROR\")\n",
    "spark = SparkSession.builder.master(\"local[*]\").appName(\"RDD_example1\").getOrCreate()"
   ]
  },
  {
   "cell_type": "code",
   "execution_count": 4,
   "id": "4ce291d6",
   "metadata": {},
   "outputs": [
    {
     "data": {
      "text/plain": [
       "''"
      ]
     },
     "execution_count": 4,
     "metadata": {},
     "output_type": "execute_result"
    }
   ],
   "source": [
    "sc"
   ]
  },
  {
   "cell_type": "code",
   "execution_count": 5,
   "id": "e71a3588",
   "metadata": {},
   "outputs": [
    {
     "data": {
      "text/html": [
       "\n",
       "            <div>\n",
       "                <p><b>SparkSession - in-memory</b></p>\n",
       "                \n",
       "        <div>\n",
       "            <p><b>SparkContext</b></p>\n",
       "\n",
       "            <p><a href=\"http://10.0.2.15:4040\">Spark UI</a></p>\n",
       "\n",
       "            <dl>\n",
       "              <dt>Version</dt>\n",
       "                <dd><code>v3.1.2</code></dd>\n",
       "              <dt>Master</dt>\n",
       "                <dd><code>local[*]</code></dd>\n",
       "              <dt>AppName</dt>\n",
       "                <dd><code>RDD_example1</code></dd>\n",
       "            </dl>\n",
       "        </div>\n",
       "        \n",
       "            </div>\n",
       "        "
      ],
      "text/plain": [
       "<pyspark.sql.session.SparkSession at 0x7f3c09c50790>"
      ]
     },
     "execution_count": 5,
     "metadata": {},
     "output_type": "execute_result"
    }
   ],
   "source": [
    "spark"
   ]
  },
  {
   "cell_type": "code",
   "execution_count": 6,
   "id": "e1562d84",
   "metadata": {},
   "outputs": [],
   "source": [
    "sc = spark.sparkContext"
   ]
  },
  {
   "cell_type": "code",
   "execution_count": 7,
   "id": "7e541ad9",
   "metadata": {},
   "outputs": [
    {
     "data": {
      "text/plain": [
       "pyspark.context.SparkContext"
      ]
     },
     "execution_count": 7,
     "metadata": {},
     "output_type": "execute_result"
    }
   ],
   "source": [
    "type(spark.sparkContext)"
   ]
  },
  {
   "cell_type": "code",
   "execution_count": 8,
   "id": "2d7d7605",
   "metadata": {},
   "outputs": [
    {
     "data": {
      "text/plain": [
       "pyspark.sql.session.SparkSession"
      ]
     },
     "execution_count": 8,
     "metadata": {},
     "output_type": "execute_result"
    }
   ],
   "source": [
    "type(spark)"
   ]
  },
  {
   "cell_type": "raw",
   "id": "5fbd5d85",
   "metadata": {},
   "source": [
    "See below code and explanation for sparkContext within SparkSession"
   ]
  },
  {
   "cell_type": "raw",
   "id": "b0ec8327",
   "metadata": {},
   "source": [
    "with self._lock:\n",
    "                from pyspark.context import SparkContext\n",
    "                from pyspark.conf import SparkConf\n",
    "                session = SparkSession._instantiatedSession\n",
    "                if session is None or session._sc._jsc is None:\n",
    "                    if self._sc is not None:\n",
    "                        sc = self._sc\n",
    "                    else:\n",
    "                        sparkConf = SparkConf()\n",
    "                        for key, value in self._options.items():\n",
    "                            sparkConf.set(key, value)\n",
    "                        # This SparkContext may be an existing one.\n",
    "                        sc = SparkContext.getOrCreate(sparkConf)\n",
    "                    # Do not update `SparkConf` for existing `SparkContext`, as it's shared\n",
    "                    # by all sessions.\n",
    "                    session = SparkSession(sc)\n",
    "                for key, value in self._options.items():\n",
    "                    session._jsparkSession.sessionState().conf().setConfString(key, value)\n",
    "                return session"
   ]
  },
  {
   "cell_type": "raw",
   "id": "bf0d2fda",
   "metadata": {},
   "source": [
    "def __init__(self, sparkContext, jsparkSession=None):\n",
    "        from pyspark.sql.context import SQLContext\n",
    "        self._sc = sparkContext\n",
    "        self._jsc = self._sc._jsc\n",
    "        self._jvm = self._sc._jvm"
   ]
  },
  {
   "cell_type": "raw",
   "id": "33fb3610",
   "metadata": {},
   "source": [
    "sparkContext is class attribute of SparkSession.\n",
    "SparkContext is imported within session.py\n",
    "an object gets created as: sc = SparkSession(conf)\n",
    "This object sc is passed into SparkSession class as an attribute\n",
    "def __init__(sc)    \n",
    "\n",
    "When we use: spark.sparkContext -> We create a SparkContext instance and can then use all obejcts and methods within SparkContext from context.py"
   ]
  },
  {
   "cell_type": "code",
   "execution_count": 9,
   "id": "841044a6",
   "metadata": {},
   "outputs": [
    {
     "data": {
      "text/html": [
       "\n",
       "        <div>\n",
       "            <p><b>SparkContext</b></p>\n",
       "\n",
       "            <p><a href=\"http://10.0.2.15:4040\">Spark UI</a></p>\n",
       "\n",
       "            <dl>\n",
       "              <dt>Version</dt>\n",
       "                <dd><code>v3.1.2</code></dd>\n",
       "              <dt>Master</dt>\n",
       "                <dd><code>local[*]</code></dd>\n",
       "              <dt>AppName</dt>\n",
       "                <dd><code>RDD_example1</code></dd>\n",
       "            </dl>\n",
       "        </div>\n",
       "        "
      ],
      "text/plain": [
       "<SparkContext master=local[*] appName=RDD_example1>"
      ]
     },
     "execution_count": 9,
     "metadata": {},
     "output_type": "execute_result"
    }
   ],
   "source": [
    "sc"
   ]
  },
  {
   "cell_type": "markdown",
   "id": "578ec729",
   "metadata": {},
   "source": [
    "# Parallelize"
   ]
  },
  {
   "cell_type": "code",
   "execution_count": 10,
   "id": "8bfd52b6",
   "metadata": {},
   "outputs": [],
   "source": [
    "list_data = list(range(20))"
   ]
  },
  {
   "cell_type": "code",
   "execution_count": 11,
   "id": "ca8389e1",
   "metadata": {},
   "outputs": [
    {
     "data": {
      "text/plain": [
       "[0, 1, 2, 3, 4, 5, 6, 7, 8, 9, 10, 11, 12, 13, 14, 15, 16, 17, 18, 19]"
      ]
     },
     "execution_count": 11,
     "metadata": {},
     "output_type": "execute_result"
    }
   ],
   "source": [
    "list_data"
   ]
  },
  {
   "cell_type": "code",
   "execution_count": 12,
   "id": "1a70b058",
   "metadata": {},
   "outputs": [],
   "source": [
    "rdd_list = sc.parallelize(list_data)"
   ]
  },
  {
   "cell_type": "code",
   "execution_count": 13,
   "id": "a0b38d5a",
   "metadata": {},
   "outputs": [
    {
     "data": {
      "text/plain": [
       "ParallelCollectionRDD[0] at readRDDFromFile at PythonRDD.scala:274"
      ]
     },
     "execution_count": 13,
     "metadata": {},
     "output_type": "execute_result"
    }
   ],
   "source": [
    "rdd_list"
   ]
  },
  {
   "cell_type": "code",
   "execution_count": 14,
   "id": "4d01b2a0",
   "metadata": {},
   "outputs": [
    {
     "data": {
      "text/plain": [
       "pyspark.rdd.RDD"
      ]
     },
     "execution_count": 14,
     "metadata": {},
     "output_type": "execute_result"
    }
   ],
   "source": [
    "type(rdd_list)"
   ]
  },
  {
   "cell_type": "raw",
   "id": "2aba70cd",
   "metadata": {},
   "source": [
    "parallelize is a method in SparkContext class from context.py\n",
    "rdd parallelize returns an rdd object from RDD class from rdd.py module\n",
    "context.py uses -> from pyspark.rdd import RDD\n",
    "Therefore sc.parallelize can return RDD() -> instance of RDD class"
   ]
  },
  {
   "cell_type": "code",
   "execution_count": 19,
   "id": "744491d1",
   "metadata": {},
   "outputs": [
    {
     "data": {
      "text/plain": [
       "[0, 1, 2, 3, 4, 5, 6, 7, 8, 9, 10, 11, 12, 13, 14, 15, 16, 17, 18, 19]"
      ]
     },
     "execution_count": 19,
     "metadata": {},
     "output_type": "execute_result"
    }
   ],
   "source": [
    "rdd_list.collect()"
   ]
  },
  {
   "cell_type": "code",
   "execution_count": 20,
   "id": "5e67b7a5",
   "metadata": {},
   "outputs": [
    {
     "data": {
      "text/plain": [
       "list"
      ]
     },
     "execution_count": 20,
     "metadata": {},
     "output_type": "execute_result"
    }
   ],
   "source": [
    "type(rdd_list.collect())"
   ]
  },
  {
   "cell_type": "markdown",
   "id": "cf73a444",
   "metadata": {},
   "source": [
    "Parallelize -> Distribute single node list to various partitions (cores and nodes)\n",
    "Collect -> Opposite of distributing among partiotions. It gathers the data from different partitions into a list"
   ]
  },
  {
   "cell_type": "markdown",
   "id": "794e7fd3",
   "metadata": {},
   "source": [
    "# File import"
   ]
  },
  {
   "cell_type": "code",
   "execution_count": 15,
   "id": "1144b0ea",
   "metadata": {},
   "outputs": [],
   "source": [
    "#File that needs to be imported: /sparkdata/word_count_data.txt\n",
    "rdd_from_file = spark.sparkContext.textFile(\"/sparkdata/word_count_data.txt\")"
   ]
  },
  {
   "cell_type": "code",
   "execution_count": 18,
   "id": "47c78a1a",
   "metadata": {},
   "outputs": [
    {
     "data": {
      "text/plain": [
       "list"
      ]
     },
     "execution_count": 18,
     "metadata": {},
     "output_type": "execute_result"
    }
   ],
   "source": [
    "type(rdd_from_file.collect())"
   ]
  },
  {
   "cell_type": "raw",
   "id": "59b24dae",
   "metadata": {},
   "source": [
    "If the distributed file is huge, we should not use collect.\n",
    "Why? -> Because collect gathers distributed data into one node memory to display result as list.\n",
    "        So there is a chance of running out of memory"
   ]
  },
  {
   "cell_type": "markdown",
   "id": "399fd026",
   "metadata": {},
   "source": [
    "# Partitioning"
   ]
  },
  {
   "cell_type": "raw",
   "id": "669b9446",
   "metadata": {},
   "source": [
    "When we create RDD (parallelize of textFile), auto partitioning takes place\n",
    "Spark divides the data set into equal number of partitions as there are number of cores in the nodes available"
   ]
  },
  {
   "cell_type": "code",
   "execution_count": 23,
   "id": "23004581",
   "metadata": {},
   "outputs": [
    {
     "data": {
      "text/plain": [
       "2"
      ]
     },
     "execution_count": 23,
     "metadata": {},
     "output_type": "execute_result"
    }
   ],
   "source": [
    "rdd_list.getNumPartitions() #I have 2 cores assigned to this linux virtual box"
   ]
  },
  {
   "cell_type": "code",
   "execution_count": 24,
   "id": "bdc08533",
   "metadata": {},
   "outputs": [
    {
     "data": {
      "text/plain": [
       "2"
      ]
     },
     "execution_count": 24,
     "metadata": {},
     "output_type": "execute_result"
    }
   ],
   "source": [
    "rdd_from_file.getNumPartitions() #I have 2 cores assigned to this linux virtual box"
   ]
  },
  {
   "cell_type": "raw",
   "id": "d9ef6438",
   "metadata": {},
   "source": [
    "We can manually enter the number of partitions while creating RDD"
   ]
  },
  {
   "cell_type": "code",
   "execution_count": 25,
   "id": "794a3218",
   "metadata": {},
   "outputs": [],
   "source": [
    "rdd_list2 = sc.parallelize(list_data,4)"
   ]
  },
  {
   "cell_type": "code",
   "execution_count": 26,
   "id": "adcdf06f",
   "metadata": {},
   "outputs": [
    {
     "data": {
      "text/plain": [
       "4"
      ]
     },
     "execution_count": 26,
     "metadata": {},
     "output_type": "execute_result"
    }
   ],
   "source": [
    "rdd_list2.getNumPartitions()"
   ]
  },
  {
   "cell_type": "code",
   "execution_count": 27,
   "id": "88701f38",
   "metadata": {},
   "outputs": [],
   "source": [
    "rdd_from_file2 = spark.sparkContext.textFile(\"/sparkdata/word_count_data.txt\",5)"
   ]
  },
  {
   "cell_type": "code",
   "execution_count": 28,
   "id": "242b1db6",
   "metadata": {},
   "outputs": [
    {
     "data": {
      "text/plain": [
       "5"
      ]
     },
     "execution_count": 28,
     "metadata": {},
     "output_type": "execute_result"
    }
   ],
   "source": [
    "rdd_from_file2.getNumPartitions()"
   ]
  },
  {
   "cell_type": "markdown",
   "id": "49f83d49",
   "metadata": {},
   "source": [
    "Repartition and Coalesce"
   ]
  },
  {
   "cell_type": "markdown",
   "id": "8e4a350c",
   "metadata": {},
   "source": [
    "Changing number of partitions of an existing RDD"
   ]
  },
  {
   "cell_type": "code",
   "execution_count": 33,
   "id": "a328f8a0",
   "metadata": {},
   "outputs": [],
   "source": [
    "repartitionedRDD = rdd_list.repartition(10) #full shuffle of data to achieve even distribution"
   ]
  },
  {
   "cell_type": "code",
   "execution_count": 35,
   "id": "04e467c0",
   "metadata": {},
   "outputs": [],
   "source": [
    "repartitionedRDD = rdd_list.coalesce(3) #avoids shuffle, bundles data into reduced partition | skewed data distribution"
   ]
  },
  {
   "cell_type": "markdown",
   "id": "18ebb775",
   "metadata": {},
   "source": [
    "# RDD Operations"
   ]
  },
  {
   "cell_type": "raw",
   "id": "d499bc9c",
   "metadata": {},
   "source": [
    "Any operation on RDD runs in parallel"
   ]
  },
  {
   "cell_type": "raw",
   "id": "9b0a1bbf",
   "metadata": {},
   "source": [
    "Transformations:\n",
    "    Lazy in nature\n",
    "    DAG\n",
    "    Since RRD is immutable, every transformation results in a new RDD thereby preserving the old one.\n",
    "    Therefore a chain of different RDDs (PipelinedRDD) are formed - RDD Lineage\n",
    "Actions:\n",
    "    Operations that trigger computation of DAG\n",
    "    Returns RDD value to the driver\n",
    "\n",
    "https://sparkbyexamples.com/pyspark/pyspark-rdd-transformations/"
   ]
  },
  {
   "cell_type": "raw",
   "id": "c397ba06",
   "metadata": {},
   "source": [
    "RDD Lineage is also known as the RDD operator graph or RDD dependency graph."
   ]
  },
  {
   "attachments": {
    "image.png": {
     "image/png": "[encoded data removed]"
    }
   },
   "cell_type": "markdown",
   "id": "f9f73be7",
   "metadata": {},
   "source": [
    "![image.png](attachment:image.png)"
   ]
  },
  {
   "cell_type": "markdown",
   "id": "90edd88a",
   "metadata": {},
   "source": [
    "# Transformations"
   ]
  },
  {
   "cell_type": "raw",
   "id": "02610833",
   "metadata": {},
   "source": [
    "Types of Transformations:\n",
    "    1. Narrow Transaformation\n",
    "    2. Wide Transformation"
   ]
  },
  {
   "cell_type": "raw",
   "id": "893d28a7",
   "metadata": {},
   "source": [
    "In Narrow Transformation, there is no data movement within partitions.\n",
    "One-to-one partition mapping of old RDD and newly transformed RDD\n",
    "Ex: map(), filter(), flatMap(),mapPartition()..."
   ]
  },
  {
   "attachments": {
    "image.png": {
     "image/png": "[encoded data removed]"
    }
   },
   "cell_type": "markdown",
   "id": "ead0751c",
   "metadata": {},
   "source": [
    "![image.png](attachment:image.png)"
   ]
  },
  {
   "cell_type": "raw",
   "id": "202e8777",
   "metadata": {},
   "source": [
    "In Wide Transformations, there is data movement within partitions. \n",
    "Computation takes place on data resigin on different partitions.\n",
    "Many-to_many mapping.\n",
    "Ex: groupByKey(), reduceByKey(), join(), repartition(), aggregate()...\n",
    "\n",
    "Wider transaformations are more expesive (space-time) than narrow transformations, due to shuffling \n",
    "    and data movement."
   ]
  },
  {
   "attachments": {
    "image.png": {
     "image/png": "[encoded data removed]"
    }
   },
   "cell_type": "markdown",
   "id": "4eb24f5f",
   "metadata": {},
   "source": [
    "![image.png](attachment:image.png)"
   ]
  },
  {
   "cell_type": "raw",
   "id": "c8001703",
   "metadata": {},
   "source": [
    "Difference between map() and flatMap()"
   ]
  },
  {
   "cell_type": "raw",
   "id": "d8b24cbd",
   "metadata": {},
   "source": [
    "map() -> returns a list of lists based on the function call"
   ]
  },
  {
   "cell_type": "raw",
   "id": "aec35d16",
   "metadata": {},
   "source": [
    "def map(self, f, preservesPartitioning=False):\n",
    "    def func(_, iterator):\n",
    "        return map(fail_on_stopiteration(f), iterator)\n",
    "    return self.mapPartitionsWithIndex(func, preservesPartitioning)\n",
    "\n",
    "RDD map function calls a python map function inside which returns a map object.\n",
    "Now, the RDD map function returns a PipelinedRDD(self, func, preservesPartitioning), where func is the map object\n",
    "    returned after applying f on iterator.\n",
    "In short, RDD map function returns a PipelinedRDD after applying function on every list item of RDD."
   ]
  },
  {
   "cell_type": "raw",
   "id": "72811054",
   "metadata": {},
   "source": [
    "flatMap() -> returns a single list after iterating through all inner list, thereby flattening the resulting list."
   ]
  },
  {
   "cell_type": "raw",
   "id": "2bd8a967",
   "metadata": {},
   "source": [
    "def flatMap(self, f, preservesPartitioning=False):\n",
    "    def func(s, iterator):\n",
    "        return chain.from_iterable(map(fail_on_stopiteration(f), iterator))\n",
    "    return self.mapPartitionsWithIndex(func, preservesPartitioning)\n",
    "\n",
    "RDD flatMap also calls a python map function but as a function for from_iterable function \n",
    "    in Chain class of Itertools module.\n",
    "    \n",
    "The function chain.from_iterable() comes under the category of terminating iterators. \n",
    "    This function takes a single iterable as an argument and all the elements of the input iterable should also be \n",
    "    iterable and it returns a flattened iterable containing all the elements of the input iterable.\n",
    "\n",
    "from itertools import chain\n",
    "from_iterable = chain.from_iterable(['geeks','for','geeks'])\n",
    "list(from_iterable)\n",
    "[‘g’, ‘e’, ‘e’, ‘k’, ‘s’, ‘f’, ‘o’, ‘r’, ‘g’, ‘e’, ‘e’, ‘k’, ‘s’]"
   ]
  },
  {
   "cell_type": "markdown",
   "id": "e9cdf39e",
   "metadata": {},
   "source": [
    "# Word Count Problem"
   ]
  },
  {
   "cell_type": "code",
   "execution_count": 73,
   "id": "a7f7ae45",
   "metadata": {},
   "outputs": [],
   "source": [
    "from pyspark.sql import SparkSession"
   ]
  },
  {
   "cell_type": "code",
   "execution_count": 78,
   "id": "4c1a97f6",
   "metadata": {},
   "outputs": [],
   "source": [
    "spark = SparkSession.builder.appName(\"word_count\").getOrCreate()"
   ]
  },
  {
   "cell_type": "code",
   "execution_count": 79,
   "id": "31b72dcd",
   "metadata": {},
   "outputs": [],
   "source": [
    "dataRDD = spark.sparkContext.textFile(\"/sparkdata/word_count_data2.txt\")"
   ]
  },
  {
   "cell_type": "code",
   "execution_count": 80,
   "id": "f916bddd",
   "metadata": {
    "scrolled": true
   },
   "outputs": [
    {
     "name": "stderr",
     "output_type": "stream",
     "text": [
      "\r",
      "[Stage 30:>                                                         (0 + 2) / 2]\r",
      "\r",
      "                                                                                \r"
     ]
    },
    {
     "data": {
      "text/plain": [
       "['Now the way that the book winds up is this: Tom and me found the money',\n",
       " 'that the robbers hid in the cave, and it made us rich. We got six',\n",
       " 'thousand dollars apiece--all gold. It was an awful sight of money when',\n",
       " 'it was piled up. Well, Judge Thatcher he took it and put it out at',\n",
       " 'interest, and it fetched us a dollar a day apiece all the year round--',\n",
       " 'more than a body could tell what to do with. The Widow Douglas she took',\n",
       " 'me for her son, and allowed she would sivilize me; but it was rough',\n",
       " 'living in the house all the time, considering how dismal regular and',\n",
       " \"decent the widow was in all her ways; and so when I couldn't stand it no\",\n",
       " 'longer I lit out. I got into my old rags and my sugar-hogshead again,',\n",
       " 'and was free and satisfied. But Tom Sawyer he hunted me up and said he',\n",
       " 'was going to start a band of robbers, and I might join if I would go back',\n",
       " 'to the widow and be respectable. So I went back.']"
      ]
     },
     "execution_count": 80,
     "metadata": {},
     "output_type": "execute_result"
    }
   ],
   "source": [
    "dataRDD.collect()"
   ]
  },
  {
   "cell_type": "code",
   "execution_count": 82,
   "id": "c0ee7995",
   "metadata": {},
   "outputs": [
    {
     "data": {
      "text/plain": [
       "[['Now',\n",
       "  'the',\n",
       "  'way',\n",
       "  'that',\n",
       "  'the',\n",
       "  'book',\n",
       "  'winds',\n",
       "  'up',\n",
       "  'is',\n",
       "  'this:',\n",
       "  'Tom',\n",
       "  'and',\n",
       "  'me',\n",
       "  'found',\n",
       "  'the',\n",
       "  'money'],\n",
       " ['that',\n",
       "  'the',\n",
       "  'robbers',\n",
       "  'hid',\n",
       "  'in',\n",
       "  'the',\n",
       "  'cave,',\n",
       "  'and',\n",
       "  'it',\n",
       "  'made',\n",
       "  'us',\n",
       "  'rich.',\n",
       "  'We',\n",
       "  'got',\n",
       "  'six'],\n",
       " ['thousand',\n",
       "  'dollars',\n",
       "  'apiece--all',\n",
       "  'gold.',\n",
       "  'It',\n",
       "  'was',\n",
       "  'an',\n",
       "  'awful',\n",
       "  'sight',\n",
       "  'of',\n",
       "  'money',\n",
       "  'when'],\n",
       " ['it',\n",
       "  'was',\n",
       "  'piled',\n",
       "  'up.',\n",
       "  'Well,',\n",
       "  'Judge',\n",
       "  'Thatcher',\n",
       "  'he',\n",
       "  'took',\n",
       "  'it',\n",
       "  'and',\n",
       "  'put',\n",
       "  'it',\n",
       "  'out',\n",
       "  'at'],\n",
       " ['interest,',\n",
       "  'and',\n",
       "  'it',\n",
       "  'fetched',\n",
       "  'us',\n",
       "  'a',\n",
       "  'dollar',\n",
       "  'a',\n",
       "  'day',\n",
       "  'apiece',\n",
       "  'all',\n",
       "  'the',\n",
       "  'year',\n",
       "  'round--'],\n",
       " ['more',\n",
       "  'than',\n",
       "  'a',\n",
       "  'body',\n",
       "  'could',\n",
       "  'tell',\n",
       "  'what',\n",
       "  'to',\n",
       "  'do',\n",
       "  'with.',\n",
       "  'The',\n",
       "  'Widow',\n",
       "  'Douglas',\n",
       "  'she',\n",
       "  'took'],\n",
       " ['me',\n",
       "  'for',\n",
       "  'her',\n",
       "  'son,',\n",
       "  'and',\n",
       "  'allowed',\n",
       "  'she',\n",
       "  'would',\n",
       "  'sivilize',\n",
       "  'me;',\n",
       "  'but',\n",
       "  'it',\n",
       "  'was',\n",
       "  'rough'],\n",
       " ['living',\n",
       "  'in',\n",
       "  'the',\n",
       "  'house',\n",
       "  'all',\n",
       "  'the',\n",
       "  'time,',\n",
       "  'considering',\n",
       "  'how',\n",
       "  'dismal',\n",
       "  'regular',\n",
       "  'and'],\n",
       " ['decent',\n",
       "  'the',\n",
       "  'widow',\n",
       "  'was',\n",
       "  'in',\n",
       "  'all',\n",
       "  'her',\n",
       "  'ways;',\n",
       "  'and',\n",
       "  'so',\n",
       "  'when',\n",
       "  'I',\n",
       "  \"couldn't\",\n",
       "  'stand',\n",
       "  'it',\n",
       "  'no'],\n",
       " ['longer',\n",
       "  'I',\n",
       "  'lit',\n",
       "  'out.',\n",
       "  'I',\n",
       "  'got',\n",
       "  'into',\n",
       "  'my',\n",
       "  'old',\n",
       "  'rags',\n",
       "  'and',\n",
       "  'my',\n",
       "  'sugar-hogshead',\n",
       "  'again,'],\n",
       " ['and',\n",
       "  'was',\n",
       "  'free',\n",
       "  'and',\n",
       "  'satisfied.',\n",
       "  'But',\n",
       "  'Tom',\n",
       "  'Sawyer',\n",
       "  'he',\n",
       "  'hunted',\n",
       "  'me',\n",
       "  'up',\n",
       "  'and',\n",
       "  'said',\n",
       "  'he'],\n",
       " ['was',\n",
       "  'going',\n",
       "  'to',\n",
       "  'start',\n",
       "  'a',\n",
       "  'band',\n",
       "  'of',\n",
       "  'robbers,',\n",
       "  'and',\n",
       "  'I',\n",
       "  'might',\n",
       "  'join',\n",
       "  'if',\n",
       "  'I',\n",
       "  'would',\n",
       "  'go',\n",
       "  'back'],\n",
       " ['to',\n",
       "  'the',\n",
       "  'widow',\n",
       "  'and',\n",
       "  'be',\n",
       "  'respectable.',\n",
       "  'So',\n",
       "  'I',\n",
       "  'went',\n",
       "  'back.']]"
      ]
     },
     "execution_count": 82,
     "metadata": {},
     "output_type": "execute_result"
    }
   ],
   "source": [
    "dataRDD.map(lambda line: line.split(\" \")).collect() # using map would result in list of lists"
   ]
  },
  {
   "cell_type": "code",
   "execution_count": 88,
   "id": "24eae826",
   "metadata": {},
   "outputs": [],
   "source": [
    "#Use flatMap to get a single list\n",
    "flatRDD = dataRDD.flatMap(lambda element: element.split()).flatMap(lambda element: element.split(\"--\"))\n",
    "#split out any special character on top of normal split"
   ]
  },
  {
   "cell_type": "code",
   "execution_count": 89,
   "id": "8e471a13",
   "metadata": {},
   "outputs": [
    {
     "data": {
      "text/plain": [
       "['Now',\n",
       " 'the',\n",
       " 'way',\n",
       " 'that',\n",
       " 'the',\n",
       " 'book',\n",
       " 'winds',\n",
       " 'up',\n",
       " 'is',\n",
       " 'this:',\n",
       " 'Tom',\n",
       " 'and',\n",
       " 'me',\n",
       " 'found',\n",
       " 'the',\n",
       " 'money',\n",
       " 'that',\n",
       " 'the',\n",
       " 'robbers',\n",
       " 'hid',\n",
       " 'in',\n",
       " 'the',\n",
       " 'cave,',\n",
       " 'and',\n",
       " 'it',\n",
       " 'made',\n",
       " 'us',\n",
       " 'rich.',\n",
       " 'We',\n",
       " 'got',\n",
       " 'six',\n",
       " 'thousand',\n",
       " 'dollars',\n",
       " 'apiece',\n",
       " 'all',\n",
       " 'gold.',\n",
       " 'It',\n",
       " 'was',\n",
       " 'an',\n",
       " 'awful',\n",
       " 'sight',\n",
       " 'of',\n",
       " 'money',\n",
       " 'when',\n",
       " 'it',\n",
       " 'was',\n",
       " 'piled',\n",
       " 'up.',\n",
       " 'Well,',\n",
       " 'Judge',\n",
       " 'Thatcher',\n",
       " 'he',\n",
       " 'took',\n",
       " 'it',\n",
       " 'and',\n",
       " 'put',\n",
       " 'it',\n",
       " 'out',\n",
       " 'at',\n",
       " 'interest,',\n",
       " 'and',\n",
       " 'it',\n",
       " 'fetched',\n",
       " 'us',\n",
       " 'a',\n",
       " 'dollar',\n",
       " 'a',\n",
       " 'day',\n",
       " 'apiece',\n",
       " 'all',\n",
       " 'the',\n",
       " 'year',\n",
       " 'round',\n",
       " '',\n",
       " 'more',\n",
       " 'than',\n",
       " 'a',\n",
       " 'body',\n",
       " 'could',\n",
       " 'tell',\n",
       " 'what',\n",
       " 'to',\n",
       " 'do',\n",
       " 'with.',\n",
       " 'The',\n",
       " 'Widow',\n",
       " 'Douglas',\n",
       " 'she',\n",
       " 'took',\n",
       " 'me',\n",
       " 'for',\n",
       " 'her',\n",
       " 'son,',\n",
       " 'and',\n",
       " 'allowed',\n",
       " 'she',\n",
       " 'would',\n",
       " 'sivilize',\n",
       " 'me;',\n",
       " 'but',\n",
       " 'it',\n",
       " 'was',\n",
       " 'rough',\n",
       " 'living',\n",
       " 'in',\n",
       " 'the',\n",
       " 'house',\n",
       " 'all',\n",
       " 'the',\n",
       " 'time,',\n",
       " 'considering',\n",
       " 'how',\n",
       " 'dismal',\n",
       " 'regular',\n",
       " 'and',\n",
       " 'decent',\n",
       " 'the',\n",
       " 'widow',\n",
       " 'was',\n",
       " 'in',\n",
       " 'all',\n",
       " 'her',\n",
       " 'ways;',\n",
       " 'and',\n",
       " 'so',\n",
       " 'when',\n",
       " 'I',\n",
       " \"couldn't\",\n",
       " 'stand',\n",
       " 'it',\n",
       " 'no',\n",
       " 'longer',\n",
       " 'I',\n",
       " 'lit',\n",
       " 'out.',\n",
       " 'I',\n",
       " 'got',\n",
       " 'into',\n",
       " 'my',\n",
       " 'old',\n",
       " 'rags',\n",
       " 'and',\n",
       " 'my',\n",
       " 'sugar-hogshead',\n",
       " 'again,',\n",
       " 'and',\n",
       " 'was',\n",
       " 'free',\n",
       " 'and',\n",
       " 'satisfied.',\n",
       " 'But',\n",
       " 'Tom',\n",
       " 'Sawyer',\n",
       " 'he',\n",
       " 'hunted',\n",
       " 'me',\n",
       " 'up',\n",
       " 'and',\n",
       " 'said',\n",
       " 'he',\n",
       " 'was',\n",
       " 'going',\n",
       " 'to',\n",
       " 'start',\n",
       " 'a',\n",
       " 'band',\n",
       " 'of',\n",
       " 'robbers,',\n",
       " 'and',\n",
       " 'I',\n",
       " 'might',\n",
       " 'join',\n",
       " 'if',\n",
       " 'I',\n",
       " 'would',\n",
       " 'go',\n",
       " 'back',\n",
       " 'to',\n",
       " 'the',\n",
       " 'widow',\n",
       " 'and',\n",
       " 'be',\n",
       " 'respectable.',\n",
       " 'So',\n",
       " 'I',\n",
       " 'went',\n",
       " 'back.']"
      ]
     },
     "execution_count": 89,
     "metadata": {},
     "output_type": "execute_result"
    }
   ],
   "source": [
    "flatRDD.collect()"
   ]
  },
  {
   "cell_type": "code",
   "execution_count": 93,
   "id": "3017b48c",
   "metadata": {},
   "outputs": [],
   "source": [
    "mappedRDD = flatRDD.map(lambda word: (word,1))"
   ]
  },
  {
   "cell_type": "code",
   "execution_count": 94,
   "id": "0f07cb7d",
   "metadata": {},
   "outputs": [
    {
     "data": {
      "text/plain": [
       "[('Now', 1),\n",
       " ('the', 1),\n",
       " ('way', 1),\n",
       " ('that', 1),\n",
       " ('the', 1),\n",
       " ('book', 1),\n",
       " ('winds', 1),\n",
       " ('up', 1),\n",
       " ('is', 1),\n",
       " ('this:', 1),\n",
       " ('Tom', 1),\n",
       " ('and', 1),\n",
       " ('me', 1),\n",
       " ('found', 1),\n",
       " ('the', 1),\n",
       " ('money', 1),\n",
       " ('that', 1),\n",
       " ('the', 1),\n",
       " ('robbers', 1),\n",
       " ('hid', 1),\n",
       " ('in', 1),\n",
       " ('the', 1),\n",
       " ('cave,', 1),\n",
       " ('and', 1),\n",
       " ('it', 1),\n",
       " ('made', 1),\n",
       " ('us', 1),\n",
       " ('rich.', 1),\n",
       " ('We', 1),\n",
       " ('got', 1),\n",
       " ('six', 1),\n",
       " ('thousand', 1),\n",
       " ('dollars', 1),\n",
       " ('apiece', 1),\n",
       " ('all', 1),\n",
       " ('gold.', 1),\n",
       " ('It', 1),\n",
       " ('was', 1),\n",
       " ('an', 1),\n",
       " ('awful', 1),\n",
       " ('sight', 1),\n",
       " ('of', 1),\n",
       " ('money', 1),\n",
       " ('when', 1),\n",
       " ('it', 1),\n",
       " ('was', 1),\n",
       " ('piled', 1),\n",
       " ('up.', 1),\n",
       " ('Well,', 1),\n",
       " ('Judge', 1),\n",
       " ('Thatcher', 1),\n",
       " ('he', 1),\n",
       " ('took', 1),\n",
       " ('it', 1),\n",
       " ('and', 1),\n",
       " ('put', 1),\n",
       " ('it', 1),\n",
       " ('out', 1),\n",
       " ('at', 1),\n",
       " ('interest,', 1),\n",
       " ('and', 1),\n",
       " ('it', 1),\n",
       " ('fetched', 1),\n",
       " ('us', 1),\n",
       " ('a', 1),\n",
       " ('dollar', 1),\n",
       " ('a', 1),\n",
       " ('day', 1),\n",
       " ('apiece', 1),\n",
       " ('all', 1),\n",
       " ('the', 1),\n",
       " ('year', 1),\n",
       " ('round', 1),\n",
       " ('', 1),\n",
       " ('more', 1),\n",
       " ('than', 1),\n",
       " ('a', 1),\n",
       " ('body', 1),\n",
       " ('could', 1),\n",
       " ('tell', 1),\n",
       " ('what', 1),\n",
       " ('to', 1),\n",
       " ('do', 1),\n",
       " ('with.', 1),\n",
       " ('The', 1),\n",
       " ('Widow', 1),\n",
       " ('Douglas', 1),\n",
       " ('she', 1),\n",
       " ('took', 1),\n",
       " ('me', 1),\n",
       " ('for', 1),\n",
       " ('her', 1),\n",
       " ('son,', 1),\n",
       " ('and', 1),\n",
       " ('allowed', 1),\n",
       " ('she', 1),\n",
       " ('would', 1),\n",
       " ('sivilize', 1),\n",
       " ('me;', 1),\n",
       " ('but', 1),\n",
       " ('it', 1),\n",
       " ('was', 1),\n",
       " ('rough', 1),\n",
       " ('living', 1),\n",
       " ('in', 1),\n",
       " ('the', 1),\n",
       " ('house', 1),\n",
       " ('all', 1),\n",
       " ('the', 1),\n",
       " ('time,', 1),\n",
       " ('considering', 1),\n",
       " ('how', 1),\n",
       " ('dismal', 1),\n",
       " ('regular', 1),\n",
       " ('and', 1),\n",
       " ('decent', 1),\n",
       " ('the', 1),\n",
       " ('widow', 1),\n",
       " ('was', 1),\n",
       " ('in', 1),\n",
       " ('all', 1),\n",
       " ('her', 1),\n",
       " ('ways;', 1),\n",
       " ('and', 1),\n",
       " ('so', 1),\n",
       " ('when', 1),\n",
       " ('I', 1),\n",
       " (\"couldn't\", 1),\n",
       " ('stand', 1),\n",
       " ('it', 1),\n",
       " ('no', 1),\n",
       " ('longer', 1),\n",
       " ('I', 1),\n",
       " ('lit', 1),\n",
       " ('out.', 1),\n",
       " ('I', 1),\n",
       " ('got', 1),\n",
       " ('into', 1),\n",
       " ('my', 1),\n",
       " ('old', 1),\n",
       " ('rags', 1),\n",
       " ('and', 1),\n",
       " ('my', 1),\n",
       " ('sugar-hogshead', 1),\n",
       " ('again,', 1),\n",
       " ('and', 1),\n",
       " ('was', 1),\n",
       " ('free', 1),\n",
       " ('and', 1),\n",
       " ('satisfied.', 1),\n",
       " ('But', 1),\n",
       " ('Tom', 1),\n",
       " ('Sawyer', 1),\n",
       " ('he', 1),\n",
       " ('hunted', 1),\n",
       " ('me', 1),\n",
       " ('up', 1),\n",
       " ('and', 1),\n",
       " ('said', 1),\n",
       " ('he', 1),\n",
       " ('was', 1),\n",
       " ('going', 1),\n",
       " ('to', 1),\n",
       " ('start', 1),\n",
       " ('a', 1),\n",
       " ('band', 1),\n",
       " ('of', 1),\n",
       " ('robbers,', 1),\n",
       " ('and', 1),\n",
       " ('I', 1),\n",
       " ('might', 1),\n",
       " ('join', 1),\n",
       " ('if', 1),\n",
       " ('I', 1),\n",
       " ('would', 1),\n",
       " ('go', 1),\n",
       " ('back', 1),\n",
       " ('to', 1),\n",
       " ('the', 1),\n",
       " ('widow', 1),\n",
       " ('and', 1),\n",
       " ('be', 1),\n",
       " ('respectable.', 1),\n",
       " ('So', 1),\n",
       " ('I', 1),\n",
       " ('went', 1),\n",
       " ('back.', 1)]"
      ]
     },
     "execution_count": 94,
     "metadata": {},
     "output_type": "execute_result"
    }
   ],
   "source": [
    "mappedRDD.collect()"
   ]
  },
  {
   "cell_type": "code",
   "execution_count": 98,
   "id": "3c694dcb",
   "metadata": {},
   "outputs": [],
   "source": [
    "reducedRDD = mappedRDD.reduceByKey(lambda val1,val2: val1+val2)"
   ]
  },
  {
   "cell_type": "code",
   "execution_count": 99,
   "id": "b5b9a043",
   "metadata": {},
   "outputs": [
    {
     "data": {
      "text/plain": [
       "[('Now', 1),\n",
       " ('way', 1),\n",
       " ('book', 1),\n",
       " ('is', 1),\n",
       " ('Tom', 2),\n",
       " ('money', 2),\n",
       " ('in', 3),\n",
       " ('us', 2),\n",
       " ('got', 2),\n",
       " ('thousand', 1),\n",
       " ('It', 1),\n",
       " ('was', 6),\n",
       " ('an', 1),\n",
       " ('of', 2),\n",
       " ('when', 2),\n",
       " ('he', 3),\n",
       " ('took', 2),\n",
       " ('put', 1),\n",
       " ('out', 1),\n",
       " ('at', 1),\n",
       " ('interest,', 1),\n",
       " ('fetched', 1),\n",
       " ('year', 1),\n",
       " ('round', 1),\n",
       " ('', 1),\n",
       " ('more', 1),\n",
       " ('than', 1),\n",
       " ('tell', 1),\n",
       " ('do', 1),\n",
       " ('The', 1),\n",
       " ('Widow', 1),\n",
       " ('her', 2),\n",
       " ('would', 2),\n",
       " ('sivilize', 1),\n",
       " ('but', 1),\n",
       " ('living', 1),\n",
       " ('house', 1),\n",
       " ('dismal', 1),\n",
       " ('regular', 1),\n",
       " ('decent', 1),\n",
       " (\"couldn't\", 1),\n",
       " ('stand', 1),\n",
       " ('no', 1),\n",
       " ('longer', 1),\n",
       " ('lit', 1),\n",
       " ('out.', 1),\n",
       " ('into', 1),\n",
       " ('rags', 1),\n",
       " ('sugar-hogshead', 1),\n",
       " ('again,', 1),\n",
       " ('free', 1),\n",
       " ('But', 1),\n",
       " ('hunted', 1),\n",
       " ('said', 1),\n",
       " ('start', 1),\n",
       " ('band', 1),\n",
       " ('join', 1),\n",
       " ('go', 1),\n",
       " ('respectable.', 1),\n",
       " ('the', 10),\n",
       " ('that', 2),\n",
       " ('winds', 1),\n",
       " ('up', 2),\n",
       " ('this:', 1),\n",
       " ('and', 13),\n",
       " ('me', 3),\n",
       " ('found', 1),\n",
       " ('robbers', 1),\n",
       " ('hid', 1),\n",
       " ('cave,', 1),\n",
       " ('it', 7),\n",
       " ('made', 1),\n",
       " ('rich.', 1),\n",
       " ('We', 1),\n",
       " ('six', 1),\n",
       " ('dollars', 1),\n",
       " ('apiece', 2),\n",
       " ('all', 4),\n",
       " ('gold.', 1),\n",
       " ('awful', 1),\n",
       " ('sight', 1),\n",
       " ('piled', 1),\n",
       " ('up.', 1),\n",
       " ('Well,', 1),\n",
       " ('Judge', 1),\n",
       " ('Thatcher', 1),\n",
       " ('a', 4),\n",
       " ('dollar', 1),\n",
       " ('day', 1),\n",
       " ('body', 1),\n",
       " ('could', 1),\n",
       " ('what', 1),\n",
       " ('to', 3),\n",
       " ('with.', 1),\n",
       " ('Douglas', 1),\n",
       " ('she', 2),\n",
       " ('for', 1),\n",
       " ('son,', 1),\n",
       " ('allowed', 1),\n",
       " ('me;', 1),\n",
       " ('rough', 1),\n",
       " ('time,', 1),\n",
       " ('considering', 1),\n",
       " ('how', 1),\n",
       " ('widow', 2),\n",
       " ('ways;', 1),\n",
       " ('so', 1),\n",
       " ('I', 6),\n",
       " ('my', 2),\n",
       " ('old', 1),\n",
       " ('satisfied.', 1),\n",
       " ('Sawyer', 1),\n",
       " ('going', 1),\n",
       " ('robbers,', 1),\n",
       " ('might', 1),\n",
       " ('if', 1),\n",
       " ('back', 1),\n",
       " ('be', 1),\n",
       " ('So', 1),\n",
       " ('went', 1),\n",
       " ('back.', 1)]"
      ]
     },
     "execution_count": 99,
     "metadata": {},
     "output_type": "execute_result"
    }
   ],
   "source": [
    "reducedRDD.collect()"
   ]
  },
  {
   "cell_type": "code",
   "execution_count": 104,
   "id": "a0456bb1",
   "metadata": {},
   "outputs": [],
   "source": [
    "#sort based on occurence\n",
    "sortedRDD = reducedRDD.map(lambda tup: (tup[1],tup[0])).sortByKey(ascending=False)"
   ]
  },
  {
   "cell_type": "code",
   "execution_count": 105,
   "id": "644da83c",
   "metadata": {},
   "outputs": [
    {
     "data": {
      "text/plain": [
       "[(13, 'and'),\n",
       " (10, 'the'),\n",
       " (7, 'it'),\n",
       " (6, 'was'),\n",
       " (6, 'I'),\n",
       " (4, 'all'),\n",
       " (4, 'a'),\n",
       " (3, 'in'),\n",
       " (3, 'he'),\n",
       " (3, 'me'),\n",
       " (3, 'to'),\n",
       " (2, 'Tom'),\n",
       " (2, 'money'),\n",
       " (2, 'us'),\n",
       " (2, 'got'),\n",
       " (2, 'of'),\n",
       " (2, 'when'),\n",
       " (2, 'took'),\n",
       " (2, 'her'),\n",
       " (2, 'would'),\n",
       " (2, 'that'),\n",
       " (2, 'up'),\n",
       " (2, 'apiece'),\n",
       " (2, 'she'),\n",
       " (2, 'widow'),\n",
       " (2, 'my'),\n",
       " (1, 'Now'),\n",
       " (1, 'way'),\n",
       " (1, 'book'),\n",
       " (1, 'is'),\n",
       " (1, 'thousand'),\n",
       " (1, 'It'),\n",
       " (1, 'an'),\n",
       " (1, 'put'),\n",
       " (1, 'out'),\n",
       " (1, 'at'),\n",
       " (1, 'interest,'),\n",
       " (1, 'fetched'),\n",
       " (1, 'year'),\n",
       " (1, 'round'),\n",
       " (1, ''),\n",
       " (1, 'more'),\n",
       " (1, 'than'),\n",
       " (1, 'tell'),\n",
       " (1, 'do'),\n",
       " (1, 'The'),\n",
       " (1, 'Widow'),\n",
       " (1, 'sivilize'),\n",
       " (1, 'but'),\n",
       " (1, 'living'),\n",
       " (1, 'house'),\n",
       " (1, 'dismal'),\n",
       " (1, 'regular'),\n",
       " (1, 'decent'),\n",
       " (1, \"couldn't\"),\n",
       " (1, 'stand'),\n",
       " (1, 'no'),\n",
       " (1, 'longer'),\n",
       " (1, 'lit'),\n",
       " (1, 'out.'),\n",
       " (1, 'into'),\n",
       " (1, 'rags'),\n",
       " (1, 'sugar-hogshead'),\n",
       " (1, 'again,'),\n",
       " (1, 'free'),\n",
       " (1, 'But'),\n",
       " (1, 'hunted'),\n",
       " (1, 'said'),\n",
       " (1, 'start'),\n",
       " (1, 'band'),\n",
       " (1, 'join'),\n",
       " (1, 'go'),\n",
       " (1, 'respectable.'),\n",
       " (1, 'winds'),\n",
       " (1, 'this:'),\n",
       " (1, 'found'),\n",
       " (1, 'robbers'),\n",
       " (1, 'hid'),\n",
       " (1, 'cave,'),\n",
       " (1, 'made'),\n",
       " (1, 'rich.'),\n",
       " (1, 'We'),\n",
       " (1, 'six'),\n",
       " (1, 'dollars'),\n",
       " (1, 'gold.'),\n",
       " (1, 'awful'),\n",
       " (1, 'sight'),\n",
       " (1, 'piled'),\n",
       " (1, 'up.'),\n",
       " (1, 'Well,'),\n",
       " (1, 'Judge'),\n",
       " (1, 'Thatcher'),\n",
       " (1, 'dollar'),\n",
       " (1, 'day'),\n",
       " (1, 'body'),\n",
       " (1, 'could'),\n",
       " (1, 'what'),\n",
       " (1, 'with.'),\n",
       " (1, 'Douglas'),\n",
       " (1, 'for'),\n",
       " (1, 'son,'),\n",
       " (1, 'allowed'),\n",
       " (1, 'me;'),\n",
       " (1, 'rough'),\n",
       " (1, 'time,'),\n",
       " (1, 'considering'),\n",
       " (1, 'how'),\n",
       " (1, 'ways;'),\n",
       " (1, 'so'),\n",
       " (1, 'old'),\n",
       " (1, 'satisfied.'),\n",
       " (1, 'Sawyer'),\n",
       " (1, 'going'),\n",
       " (1, 'robbers,'),\n",
       " (1, 'might'),\n",
       " (1, 'if'),\n",
       " (1, 'back'),\n",
       " (1, 'be'),\n",
       " (1, 'So'),\n",
       " (1, 'went'),\n",
       " (1, 'back.')]"
      ]
     },
     "execution_count": 105,
     "metadata": {},
     "output_type": "execute_result"
    }
   ],
   "source": [
    "sortedRDD.collect()"
   ]
  },
  {
   "cell_type": "code",
   "execution_count": 110,
   "id": "7b68bbb7",
   "metadata": {},
   "outputs": [],
   "source": [
    "#filter words that start with 'a'\n",
    "aFilteredRDD = sortedRDD.filter(lambda tup: 'a' in tup[1])"
   ]
  },
  {
   "cell_type": "code",
   "execution_count": 111,
   "id": "d4b836f4",
   "metadata": {},
   "outputs": [
    {
     "data": {
      "text/plain": [
       "[(13, 'and'),\n",
       " (6, 'was'),\n",
       " (4, 'all'),\n",
       " (4, 'a'),\n",
       " (2, 'that'),\n",
       " (2, 'apiece'),\n",
       " (1, 'way'),\n",
       " (1, 'thousand'),\n",
       " (1, 'an'),\n",
       " (1, 'at'),\n",
       " (1, 'year'),\n",
       " (1, 'than'),\n",
       " (1, 'dismal'),\n",
       " (1, 'regular'),\n",
       " (1, 'stand'),\n",
       " (1, 'rags'),\n",
       " (1, 'sugar-hogshead'),\n",
       " (1, 'again,'),\n",
       " (1, 'said'),\n",
       " (1, 'start'),\n",
       " (1, 'band'),\n",
       " (1, 'respectable.'),\n",
       " (1, 'cave,'),\n",
       " (1, 'made'),\n",
       " (1, 'dollars'),\n",
       " (1, 'awful'),\n",
       " (1, 'Thatcher'),\n",
       " (1, 'dollar'),\n",
       " (1, 'day'),\n",
       " (1, 'what'),\n",
       " (1, 'Douglas'),\n",
       " (1, 'allowed'),\n",
       " (1, 'ways;'),\n",
       " (1, 'satisfied.'),\n",
       " (1, 'Sawyer'),\n",
       " (1, 'back'),\n",
       " (1, 'back.')]"
      ]
     },
     "execution_count": 111,
     "metadata": {},
     "output_type": "execute_result"
    }
   ],
   "source": [
    "aFilteredRDD.collect()"
   ]
  },
  {
   "cell_type": "code",
   "execution_count": 116,
   "id": "a0163460",
   "metadata": {},
   "outputs": [],
   "source": [
    "#Which is the most frequently occuring word?\n",
    "mostFreqWord = sortedRDD.collect()[0][1]"
   ]
  },
  {
   "cell_type": "code",
   "execution_count": 117,
   "id": "1eca7dda",
   "metadata": {},
   "outputs": [
    {
     "data": {
      "text/plain": [
       "'and'"
      ]
     },
     "execution_count": 117,
     "metadata": {},
     "output_type": "execute_result"
    }
   ],
   "source": [
    "mostFreqWord"
   ]
  },
  {
   "cell_type": "markdown",
   "id": "43d07c8d",
   "metadata": {},
   "source": [
    "# Actions"
   ]
  },
  {
   "cell_type": "code",
   "execution_count": 118,
   "id": "8d83d6d0",
   "metadata": {},
   "outputs": [],
   "source": [
    "actionRDD = spark.sparkContext.parallelize([1,2,3,4,5,6,7,8,9])"
   ]
  },
  {
   "cell_type": "raw",
   "id": "5f02177b",
   "metadata": {},
   "source": [
    "count() -> returns the number of records in the RDD collecttion"
   ]
  },
  {
   "cell_type": "code",
   "execution_count": 119,
   "id": "703a36f6",
   "metadata": {},
   "outputs": [
    {
     "data": {
      "text/plain": [
       "9"
      ]
     },
     "execution_count": 119,
     "metadata": {},
     "output_type": "execute_result"
    }
   ],
   "source": [
    "actionRDD.count()"
   ]
  },
  {
   "cell_type": "raw",
   "id": "48bccead",
   "metadata": {},
   "source": [
    "countByValue -> returns a dict with (key, value). value is number of occerences of the key."
   ]
  },
  {
   "cell_type": "code",
   "execution_count": 175,
   "id": "4b364e37",
   "metadata": {},
   "outputs": [
    {
     "data": {
      "text/plain": [
       "defaultdict(int, {1: 3, 2: 2, 3: 2, 4: 2, 6: 1, 5: 1, 8: 2, 9: 2, 7: 1})"
      ]
     },
     "execution_count": 175,
     "metadata": {},
     "output_type": "execute_result"
    }
   ],
   "source": [
    "spark.sparkContext.parallelize([1,2,3,1,4,6,5,3,2,1,4,8,9,9,7,8]).countByValue()"
   ]
  },
  {
   "cell_type": "code",
   "execution_count": 176,
   "id": "fa91dfd7",
   "metadata": {},
   "outputs": [
    {
     "data": {
      "text/plain": [
       "defaultdict(int,\n",
       "            {'T': 1,\n",
       "             'a': 4,\n",
       "             'm': 1,\n",
       "             'g': 1,\n",
       "             'h': 1,\n",
       "             'n': 2,\n",
       "             ' ': 1,\n",
       "             'B': 1,\n",
       "             'e': 3,\n",
       "             'r': 1,\n",
       "             'j': 1})"
      ]
     },
     "execution_count": 176,
     "metadata": {},
     "output_type": "execute_result"
    }
   ],
   "source": [
    "spark.sparkContext.parallelize(\"Tamaghna Banerjee\").countByValue()"
   ]
  },
  {
   "cell_type": "raw",
   "id": "40d3e53f",
   "metadata": {},
   "source": [
    "first() -> returns the first record from the RDD collection"
   ]
  },
  {
   "cell_type": "code",
   "execution_count": 134,
   "id": "f32c81a0",
   "metadata": {},
   "outputs": [
    {
     "data": {
      "text/plain": [
       "1"
      ]
     },
     "execution_count": 134,
     "metadata": {},
     "output_type": "execute_result"
    }
   ],
   "source": [
    "actionRDD.first()"
   ]
  },
  {
   "cell_type": "raw",
   "id": "83d5dc56",
   "metadata": {},
   "source": [
    "max() -> returns the max record from the RDD collection"
   ]
  },
  {
   "cell_type": "code",
   "execution_count": 127,
   "id": "1cdcd219",
   "metadata": {},
   "outputs": [
    {
     "data": {
      "text/plain": [
       "9"
      ]
     },
     "execution_count": 127,
     "metadata": {},
     "output_type": "execute_result"
    }
   ],
   "source": [
    "actionRDD.max()"
   ]
  },
  {
   "cell_type": "raw",
   "id": "f9c44fb4",
   "metadata": {},
   "source": [
    "min() -> returns the min record from the RDD collection"
   ]
  },
  {
   "cell_type": "code",
   "execution_count": 128,
   "id": "273a5150",
   "metadata": {},
   "outputs": [
    {
     "data": {
      "text/plain": [
       "1"
      ]
     },
     "execution_count": 128,
     "metadata": {},
     "output_type": "execute_result"
    }
   ],
   "source": [
    "actionRDD.min()"
   ]
  },
  {
   "cell_type": "raw",
   "id": "8f7ebd24",
   "metadata": {},
   "source": [
    "take(n) -> returns n number of records as a collection"
   ]
  },
  {
   "cell_type": "code",
   "execution_count": 123,
   "id": "b1257aee",
   "metadata": {},
   "outputs": [
    {
     "data": {
      "text/plain": [
       "[1, 2, 3, 4, 5]"
      ]
     },
     "execution_count": 123,
     "metadata": {},
     "output_type": "execute_result"
    }
   ],
   "source": [
    "actionRDD.take(5)"
   ]
  },
  {
   "cell_type": "raw",
   "id": "5c879aaf",
   "metadata": {},
   "source": [
    "top(n) -> returns elements starting from index -1 backwards upto n elements"
   ]
  },
  {
   "cell_type": "code",
   "execution_count": 130,
   "id": "9a1b44ad",
   "metadata": {},
   "outputs": [
    {
     "data": {
      "text/plain": [
       "[9, 8, 7, 6, 5, 4]"
      ]
     },
     "execution_count": 130,
     "metadata": {},
     "output_type": "execute_result"
    }
   ],
   "source": [
    "actionRDD.top(6)"
   ]
  },
  {
   "cell_type": "raw",
   "id": "db75e2da",
   "metadata": {},
   "source": [
    "collect() -> returns all the records in the RDD as a collection/list"
   ]
  },
  {
   "cell_type": "code",
   "execution_count": 124,
   "id": "ca6bdc87",
   "metadata": {},
   "outputs": [
    {
     "data": {
      "text/plain": [
       "[1, 2, 3, 4, 5, 6, 7, 8, 9]"
      ]
     },
     "execution_count": 124,
     "metadata": {},
     "output_type": "execute_result"
    }
   ],
   "source": [
    "actionRDD.collect()"
   ]
  },
  {
   "cell_type": "raw",
   "id": "2ed71261",
   "metadata": {},
   "source": [
    "saveAsTextFile(\"path\") -> does not return anything.\n",
    "Performs action of saving RDD as a textfile in the specified path\n",
    "\n",
    "Gets saved in HDFS as a directory \"path\"\n",
    "path directory will have files equall to the number of partitions of the RDD.\n",
    "\n",
    "-rw-r--r--   1 tamaghna supergroup          0 2021-09-19 11:39 /sparkdata/actionRDD.txt/_SUCCESS\n",
    "-rw-r--r--   1 tamaghna supergroup          8 2021-09-19 11:39 /sparkdata/actionRDD.txt/part-00000\n",
    "-rw-r--r--   1 tamaghna supergroup         10 2021-09-19 11:39 /sparkdata/actionRDD.txt/part-00001"
   ]
  },
  {
   "cell_type": "code",
   "execution_count": 132,
   "id": "b55994a1",
   "metadata": {},
   "outputs": [
    {
     "name": "stderr",
     "output_type": "stream",
     "text": [
      "\r",
      "[Stage 104:>                                                        (0 + 2) / 2]\r",
      "\r",
      "                                                                                \r"
     ]
    }
   ],
   "source": [
    "actionRDD.saveAsTextFile(\"/sparkdata/actionRDD2.txt\")"
   ]
  },
  {
   "cell_type": "raw",
   "id": "738ffb73",
   "metadata": {},
   "source": [
    "reduce() -> adds up values of aruments provided within the function iteratively.\n",
    "Returns a primitve datatype of integer, float or complex\n",
    "\n",
    "The action is called reduce because it combines and reduces values of data objects within RDD.\n",
    "reduce() results in data shuffling."
   ]
  },
  {
   "cell_type": "code",
   "execution_count": 137,
   "id": "d4054b24",
   "metadata": {},
   "outputs": [
    {
     "data": {
      "text/plain": [
       "45"
      ]
     },
     "execution_count": 137,
     "metadata": {},
     "output_type": "execute_result"
    }
   ],
   "source": [
    "actionRDD.reduce(lambda val1,val2: val1 + val2) #iterative sum of elements in the RDD"
   ]
  },
  {
   "cell_type": "code",
   "execution_count": 138,
   "id": "1dcadd61",
   "metadata": {},
   "outputs": [
    {
     "data": {
      "text/plain": [
       "362880"
      ]
     },
     "execution_count": 138,
     "metadata": {},
     "output_type": "execute_result"
    }
   ],
   "source": [
    "actionRDD.reduce(lambda val1,val2: val1 * val2) #iterative multiplication of elements in the RDD"
   ]
  },
  {
   "cell_type": "raw",
   "id": "432b12a1",
   "metadata": {},
   "source": [
    "fold(zeroValue, function(t1,t2)) -> performs associative function on each element of each partition.\n",
    "Final partition results are then iteratively put through the associative fuction.\n",
    "Returns a reduced value which is of primitive Python datatype.\n",
    "\n",
    "zeroValue is initial t1, which gets iteratively operated over t2 until reduced."
   ]
  },
  {
   "cell_type": "raw",
   "id": "e1767f5e",
   "metadata": {},
   "source": [
    "def fold(self, zeroValue, op):\n",
    "    def func(iterator):\n",
    "        acc = zeroValue\n",
    "        for obj in iterator:\n",
    "            acc = op(acc, obj)\n",
    "        yield acc\n",
    "    vals = self.mapPartitions(func).collect()\n",
    "    return reduce(op, vals, zeroValue)"
   ]
  },
  {
   "cell_type": "code",
   "execution_count": 151,
   "id": "93f625e4",
   "metadata": {},
   "outputs": [
    {
     "data": {
      "text/plain": [
       "45"
      ]
     },
     "execution_count": 151,
     "metadata": {},
     "output_type": "execute_result"
    }
   ],
   "source": [
    "actionRDD.fold(0,lambda t1,t2: t1+t2)"
   ]
  },
  {
   "cell_type": "code",
   "execution_count": 140,
   "id": "c2b28666",
   "metadata": {},
   "outputs": [
    {
     "data": {
      "text/plain": [
       "0"
      ]
     },
     "execution_count": 140,
     "metadata": {},
     "output_type": "execute_result"
    }
   ],
   "source": [
    "actionRDD.fold(0,lambda t1,t2: t1*t2)"
   ]
  },
  {
   "cell_type": "code",
   "execution_count": 144,
   "id": "7988c163",
   "metadata": {},
   "outputs": [
    {
     "data": {
      "text/plain": [
       "12"
      ]
     },
     "execution_count": 144,
     "metadata": {},
     "output_type": "execute_result"
    }
   ],
   "source": [
    "spark.sparkContext.parallelize([2,3,4]).fold(1,lambda t1,t2: t1+t2)"
   ]
  },
  {
   "cell_type": "raw",
   "id": "320ffc38",
   "metadata": {},
   "source": [
    "aggrgate(zeroValue, agg_function1(t1,t2),aggregate_func2(t1,t2)) \n",
    "-> agg_function1 works on RDD within partition elements.\n",
    "agg_function2 works on RDD partitions as a whole (result from agg_function1).\n",
    "\n",
    "Fold will perform the same aggrgation function on its elements and then partitions iteratively.\n",
    "But aggregate has the flexibility to perform the combiner(partition level aggrgation) to be some different function. \n",
    "But during combination, the zeroValue will get operated again on the combining elements."
   ]
  },
  {
   "cell_type": "code",
   "execution_count": 148,
   "id": "538c90ba",
   "metadata": {},
   "outputs": [
    {
     "data": {
      "text/plain": [
       "[[1, 2, 3, 4], [5, 6, 7, 8, 9]]"
      ]
     },
     "execution_count": 148,
     "metadata": {},
     "output_type": "execute_result"
    }
   ],
   "source": [
    "actionRDD.glom().collect()"
   ]
  },
  {
   "cell_type": "code",
   "execution_count": 152,
   "id": "57a24540",
   "metadata": {},
   "outputs": [
    {
     "data": {
      "text/plain": [
       "45"
      ]
     },
     "execution_count": 152,
     "metadata": {},
     "output_type": "execute_result"
    }
   ],
   "source": [
    "actionRDD.aggregate(0,lambda t1,t2: t1+t2, lambda t1,t2: t1+t2)"
   ]
  },
  {
   "cell_type": "code",
   "execution_count": 171,
   "id": "2ca027d4",
   "metadata": {},
   "outputs": [
    {
     "data": {
      "text/plain": [
       "396"
      ]
     },
     "execution_count": 171,
     "metadata": {},
     "output_type": "execute_result"
    }
   ],
   "source": [
    "actionRDD.aggregate(1,lambda t1,t2: t1+t2, lambda t1,t2: t1*t2)"
   ]
  },
  {
   "cell_type": "markdown",
   "id": "a588ebf3",
   "metadata": {},
   "source": [
    "# Types of RDD"
   ]
  },
  {
   "cell_type": "raw",
   "id": "72301bdd",
   "metadata": {},
   "source": [
    "PairRDD\n",
    "ParallelCollectionRDD\n",
    "ShuffledRDD\n",
    "DoubleRDD\n",
    "SequenceFileRDD\n",
    "HadoopRDD"
   ]
  },
  {
   "cell_type": "raw",
   "id": "00ca183f",
   "metadata": {},
   "source": [
    "Shuffling operations: Shuffling is a mechanism in Spark when data gets distributed/re-distriuted among executors\n",
    "    and partitions. Shuffling gets triggered when any wide transformation such as groupByKey(), reduceByKey()\n",
    "    or join() is performed on RDD.\n",
    "Shuffling in Spark is an expensive operation as it involves:\n",
    "    Disk I/O\n",
    "    Serialization and Deserialization\n",
    "    Network I/O\n",
    "Suffle transformations:\n",
    "    repartition(), coalesce(), groupByKey(), reduceByKey(), cogroup(), join(), countByKey()."
   ]
  },
  {
   "cell_type": "raw",
   "id": "5f1f3cbf",
   "metadata": {},
   "source": [
    "Corecr number of partition selection is important.\n",
    "Select too many partition with less data in each partition could result in lot of expensive operations with less data to process.\n",
    "Too less partitions would involve lot of data in each partition and tasks might take a long time to complete. Sometimes might run out of memory.\n",
    "The optimum number is important for performance of a job."
   ]
  },
  {
   "cell_type": "markdown",
   "id": "9a3936aa",
   "metadata": {},
   "source": [
    "# cache() and persist()"
   ]
  },
  {
   "cell_type": "raw",
   "id": "17110536",
   "metadata": {},
   "source": [
    "One of the main optimiztion techniques in Pyspark is to reuse repeating computations and storing intermediate results in memory.\n",
    "Caching or persisting a partition in memory or in disk will result in reusage of computation on that RDD. \n",
    "The persisted or cached data is fault tolerant, since RDDs are immutable and there are pre-transformation versions of RDDs available in the RDD Lineage.\n",
    "When we say rdd.cache() or rdd.persist(), this means the partitions hosting these RDDs get stored in the memory or disk for reusage at a laterr stage."
   ]
  },
  {
   "cell_type": "raw",
   "id": "35ae5d16",
   "metadata": {},
   "source": [
    "Advantages of persisting RDD: Cost Efficient, Time efficient"
   ]
  },
  {
   "cell_type": "raw",
   "id": "6d5e5072",
   "metadata": {},
   "source": [
    "cache() -> rdd.cache()\n",
    "\n",
    "def cache(self):\n",
    "    self.is_cached = True\n",
    "    self.persist(StorageLevel.MEMORY_ONLY)\n",
    "    return self\n",
    "\n",
    "Calls persist(StorageLevel.MEMORY_ONLY).\n",
    "Cache is nothing but default persist() "
   ]
  },
  {
   "cell_type": "raw",
   "id": "473c16be",
   "metadata": {},
   "source": [
    "persist() -> rdd.persist()\n",
    "\n",
    "def persist(self, storageLevel=StorageLevel.MEMORY_ONLY):\n",
    "    self.is_cached = True\n",
    "    javaStorageLevel = self.ctx._getJavaStorageLevel(storageLevel)\n",
    "    self._jrdd.persist(javaStorageLevel)\n",
    "    return self\n",
    "\n",
    "Set this RDDs storage level to persist its values across operations after the first time it is computed. \n",
    "This can only be used to assign a new storage level if the RDD does not have a storage level set yet.\n",
    "If no storage level is specified defaults to (MEMORY_ONLY).\n",
    "\n",
    "persist storage level:\n",
    "MEMORY_ONLY\n",
    "MEMORY_AND_DISK\n",
    "MEMORY_ONLY_SER\n",
    "MEMORY_AND_DISK_SER\n",
    "DISK_ONLY"
   ]
  },
  {
   "cell_type": "raw",
   "id": "899cb364",
   "metadata": {},
   "source": [
    "unpersist() -> rdd.unpersist() \n",
    "Manually removing blocks saved in memory or disk\n",
    "Automatic removal after sometime of no usage. Least-Recently-Used (LRU) Algorithm.\n",
    "\n",
    "def unpersist(self, blocking=False):\n",
    "    self.is_cached = False\n",
    "    self._jrdd.unpersist(blocking)\n",
    "    return self"
   ]
  },
  {
   "cell_type": "markdown",
   "id": "34c0d415",
   "metadata": {},
   "source": [
    "# Shared Variables - Broadcast and Accumulators"
   ]
  },
  {
   "cell_type": "raw",
   "id": "2120fe65",
   "metadata": {},
   "source": [
    "When the driver program sends an application in .py file, it sends the variables and dependencies along with the task and application once time.\n",
    "On execution of a transformation, these variables cannot be reused. Therefore the concept of shared variables.\n",
    "(Doubt)"
   ]
  },
  {
   "cell_type": "raw",
   "id": "7bfc53ee",
   "metadata": {},
   "source": [
    "Two types of shared variables:\n",
    "    Broadcast\n",
    "    Accumulators"
   ]
  },
  {
   "cell_type": "markdown",
   "id": "910236d2",
   "metadata": {},
   "source": [
    "Broadcast Variables"
   ]
  },
  {
   "cell_type": "raw",
   "id": "ed4a97da",
   "metadata": {},
   "source": [
    "Broadcast variables are read-only shared variables that are cached and available on all nodes of a cluster in order to be accessed by the tasks.\n",
    "Instead of sending this variable along with every task to the executors, the driver sends the Broadcast variable once to all the workers."
   ]
  },
  {
   "cell_type": "raw",
   "id": "56f01341",
   "metadata": {},
   "source": [
    "Use case:\n",
    "Driver needs to send multiple tasks to Worker nodes. \n",
    "A look-up file that could be required by a task might be needed multiple times.\n",
    "Instead of sending this file with every task, the Driver could send a broadcast variable to all the nodes once.\n",
    "This variable would be cached in executor memory to be used whenever a look up is required."
   ]
  },
  {
   "cell_type": "raw",
   "id": "e8e59aea",
   "metadata": {},
   "source": [
    "broadcast_variable = spark.sparkContext.broadcast(variable)\n",
    "Note: broadcast_variable is not sent to the executors after calling the broadcast() method.\n",
    "    But the variable is sent once the executors use them for the first time."
   ]
  },
  {
   "cell_type": "code",
   "execution_count": 180,
   "id": "f17f3678",
   "metadata": {},
   "outputs": [],
   "source": [
    "data = [\\\n",
    "        (\"jon\",\"snow\",\"USA\",\"AK\"),\\\n",
    "        (\"arya\",\"stark\",\"USA\",\"WA\"),\\\n",
    "        (\"danny\",\"targ\",\"USA\",\"CA\"),\\\n",
    "        (\"cersei\",\"lann\",\"USA\",\"FL\")\\\n",
    "       ]"
   ]
  },
  {
   "cell_type": "code",
   "execution_count": 183,
   "id": "bcd6fd88",
   "metadata": {},
   "outputs": [],
   "source": [
    "states = {\"AK\":\"Alaska\",\"CA\":\"California\",\"FL\":\"Florida\",\"WA\":\"Washington\"}"
   ]
  },
  {
   "cell_type": "code",
   "execution_count": 184,
   "id": "9059a093",
   "metadata": {},
   "outputs": [],
   "source": [
    "dataRDD = spark.sparkContext.parallelize(data)"
   ]
  },
  {
   "cell_type": "code",
   "execution_count": 185,
   "id": "ee8b9d15",
   "metadata": {},
   "outputs": [
    {
     "data": {
      "text/plain": [
       "[('jon', 'snow', 'USA', 'AK'),\n",
       " ('arya', 'stark', 'USA', 'WA'),\n",
       " ('danny', 'targ', 'USA', 'CA'),\n",
       " ('cersei', 'lann', 'USA', 'FL')]"
      ]
     },
     "execution_count": 185,
     "metadata": {},
     "output_type": "execute_result"
    }
   ],
   "source": [
    "dataRDD.collect()"
   ]
  },
  {
   "cell_type": "code",
   "execution_count": 189,
   "id": "22594c90",
   "metadata": {},
   "outputs": [],
   "source": [
    "#create broadcast variable\n",
    "broadcast_variable = spark.sparkContext.broadcast(states)"
   ]
  },
  {
   "cell_type": "code",
   "execution_count": 191,
   "id": "133ec35a",
   "metadata": {},
   "outputs": [
    {
     "data": {
      "text/plain": [
       "pyspark.broadcast.Broadcast"
      ]
     },
     "execution_count": 191,
     "metadata": {},
     "output_type": "execute_result"
    }
   ],
   "source": [
    "type(broadcast_variable)"
   ]
  },
  {
   "cell_type": "code",
   "execution_count": 199,
   "id": "5d63c992",
   "metadata": {},
   "outputs": [
    {
     "data": {
      "text/plain": [
       "{'AK': 'Alaska', 'CA': 'California', 'FL': 'Florida', 'WA': 'Washington'}"
      ]
     },
     "execution_count": 199,
     "metadata": {},
     "output_type": "execute_result"
    }
   ],
   "source": [
    "broadcast_variable.value"
   ]
  },
  {
   "cell_type": "code",
   "execution_count": null,
   "id": "a91d8a20",
   "metadata": {},
   "outputs": [],
   "source": [
    "type(broadcast_variable.value)"
   ]
  },
  {
   "cell_type": "code",
   "execution_count": 206,
   "id": "548aee48",
   "metadata": {},
   "outputs": [
    {
     "data": {
      "text/plain": [
       "[('jon', 'snow', 'USA', 'Alaska'),\n",
       " ('arya', 'stark', 'USA', 'Washington'),\n",
       " ('danny', 'targ', 'USA', 'California'),\n",
       " ('cersei', 'lann', 'USA', 'Florida')]"
      ]
     },
     "execution_count": 206,
     "metadata": {},
     "output_type": "execute_result"
    }
   ],
   "source": [
    "dataRDD.map(lambda tup: (tup[0],tup[1],tup[2],broadcast_variable.value[tup[3]]))"
   ]
  },
  {
   "cell_type": "markdown",
   "id": "685262b7",
   "metadata": {},
   "source": [
    "Accumulators"
   ]
  },
  {
   "cell_type": "raw",
   "id": "6d395c2d",
   "metadata": {},
   "source": [
    "Accumulator variables are type of shared variables that are incremented by associative or cumulative operations.\n",
    "Accumulators are often used as counters.\n",
    "Data types of accumulator variables:\n",
    "    LongAccumulator\n",
    "    DoubleAccumulator\n",
    "    CollectionAccumulator\n",
    "   \n",
    "Worker tasks on a Spark cluster can add values to an Accumulator with the += operator\n",
    "Only the driver program is allowed to access its value, using value. \n",
    "Updates from the workers get propagated automatically to the driver program.\n",
    "\n",
    "Accumulators are write-only and initialize once variables where only tasks that are running on workers are allowed to update and updates from the workers get propagated automatically to the driver program."
   ]
  },
  {
   "cell_type": "raw",
   "id": "caf46fc2",
   "metadata": {},
   "source": [
    "Executor tasks can increment accumulator_variable by add() method\n",
    "Driver can access the final value of the accumulator_variable by value attribute."
   ]
  },
  {
   "cell_type": "code",
   "execution_count": 207,
   "id": "aff2dd8f",
   "metadata": {},
   "outputs": [],
   "source": [
    "accumulator_variable = spark.sparkContext.accumulator(0)"
   ]
  },
  {
   "cell_type": "code",
   "execution_count": 208,
   "id": "855dd501",
   "metadata": {},
   "outputs": [
    {
     "data": {
      "text/plain": [
       "Accumulator<id=0, value=0>"
      ]
     },
     "execution_count": 208,
     "metadata": {},
     "output_type": "execute_result"
    }
   ],
   "source": [
    "accumulator_variable"
   ]
  },
  {
   "cell_type": "code",
   "execution_count": 209,
   "id": "b6979957",
   "metadata": {},
   "outputs": [
    {
     "data": {
      "text/plain": [
       "pyspark.accumulators.Accumulator"
      ]
     },
     "execution_count": 209,
     "metadata": {},
     "output_type": "execute_result"
    }
   ],
   "source": [
    "type(accumulator_variable)"
   ]
  },
  {
   "cell_type": "code",
   "execution_count": 210,
   "id": "68cab5d2",
   "metadata": {},
   "outputs": [],
   "source": [
    "dataRDD = spark.sparkContext.parallelize([1,2,3,4,5,6,7,8,9])"
   ]
  },
  {
   "cell_type": "code",
   "execution_count": 212,
   "id": "cccd2c9a",
   "metadata": {},
   "outputs": [],
   "source": [
    "def counter(num):\n",
    "    global accumulator_variable\n",
    "    accumulator_variable += num"
   ]
  },
  {
   "cell_type": "code",
   "execution_count": 213,
   "id": "9fc42390",
   "metadata": {},
   "outputs": [
    {
     "name": "stderr",
     "output_type": "stream",
     "text": [
      "                                                                                \r"
     ]
    }
   ],
   "source": [
    "dataRDD.foreach(lambda item: counter(item))"
   ]
  },
  {
   "cell_type": "code",
   "execution_count": 214,
   "id": "572f9b83",
   "metadata": {},
   "outputs": [
    {
     "data": {
      "text/plain": [
       "45"
      ]
     },
     "execution_count": 214,
     "metadata": {},
     "output_type": "execute_result"
    }
   ],
   "source": [
    "accumulator_variable.value"
   ]
  },
  {
   "cell_type": "code",
   "execution_count": null,
   "id": "c206c46b",
   "metadata": {},
   "outputs": [],
   "source": []
  }
 ],
 "metadata": {
  "kernelspec": {
   "display_name": "Python 3 (ipykernel)",
   "language": "python",
   "name": "python3"
  },
  "language_info": {
   "codemirror_mode": {
    "name": "ipython",
    "version": 3
   },
   "file_extension": ".py",
   "mimetype": "text/x-python",
   "name": "python",
   "nbconvert_exporter": "python",
   "pygments_lexer": "ipython3",
   "version": "3.8.10"
  }
 },
 "nbformat": 4,
 "nbformat_minor": 5
}
