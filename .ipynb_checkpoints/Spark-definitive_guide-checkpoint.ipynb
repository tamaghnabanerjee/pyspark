{
 "cells": [
  {
   "cell_type": "code",
   "execution_count": 1,
   "id": "5976eab7",
   "metadata": {},
   "outputs": [
    {
     "name": "stderr",
     "output_type": "stream",
     "text": [
      "2021-09-29 06:38:04,681 WARN util.Utils: Your hostname, tb-LinuxBox resolves to a loopback address: 127.0.1.1; using 10.0.2.15 instead (on interface enp0s3)\n",
      "2021-09-29 06:38:04,683 WARN util.Utils: Set SPARK_LOCAL_IP if you need to bind to another address\n",
      "2021-09-29 06:38:07,211 WARN util.NativeCodeLoader: Unable to load native-hadoop library for your platform... using builtin-java classes where applicable\n",
      "Setting default log level to \"WARN\".\n",
      "To adjust logging level use sc.setLogLevel(newLevel). For SparkR, use setLogLevel(newLevel).\n"
     ]
    }
   ],
   "source": [
    "from pyspark.sql import SparkSession\n",
    "spark = SparkSession.builder.appName(\"spark_book\").getOrCreate()"
   ]
  },
  {
   "cell_type": "code",
   "execution_count": 2,
   "id": "d675f675",
   "metadata": {},
   "outputs": [
    {
     "name": "stderr",
     "output_type": "stream",
     "text": [
      "                                                                                \r"
     ]
    }
   ],
   "source": [
    "flightData2015 = spark\\\n",
    "                .read\\\n",
    "                .options(inferSchema=True)\\\n",
    "                .options(header=True)\\\n",
    "                .format(\"csv\")\\\n",
    "                .load(\"file:///home/tamaghna/spark-The-Definitive-Guide/data/flight-data/csv/2015-summary.csv\")"
   ]
  },
  {
   "cell_type": "code",
   "execution_count": 3,
   "id": "225be868",
   "metadata": {},
   "outputs": [
    {
     "name": "stdout",
     "output_type": "stream",
     "text": [
      "+-----------------+-------------------+-----+\n",
      "|DEST_COUNTRY_NAME|ORIGIN_COUNTRY_NAME|count|\n",
      "+-----------------+-------------------+-----+\n",
      "|United States    |Romania            |15   |\n",
      "|United States    |Croatia            |1    |\n",
      "|United States    |Ireland            |344  |\n",
      "|Egypt            |United States      |15   |\n",
      "|United States    |India              |62   |\n",
      "+-----------------+-------------------+-----+\n",
      "only showing top 5 rows\n",
      "\n"
     ]
    }
   ],
   "source": [
    "flightData2015.show(5,False)"
   ]
  },
  {
   "cell_type": "code",
   "execution_count": 4,
   "id": "bd913ede",
   "metadata": {},
   "outputs": [
    {
     "data": {
      "text/plain": [
       "[Row(DEST_COUNTRY_NAME='United States', ORIGIN_COUNTRY_NAME='Romania', count=15),\n",
       " Row(DEST_COUNTRY_NAME='United States', ORIGIN_COUNTRY_NAME='Croatia', count=1),\n",
       " Row(DEST_COUNTRY_NAME='United States', ORIGIN_COUNTRY_NAME='Ireland', count=344)]"
      ]
     },
     "execution_count": 4,
     "metadata": {},
     "output_type": "execute_result"
    }
   ],
   "source": [
    "flightData2015.take(3)"
   ]
  },
  {
   "cell_type": "code",
   "execution_count": 5,
   "id": "e566cbd7",
   "metadata": {},
   "outputs": [],
   "source": [
    "flightData2015 = flightData2015.withColumnRenamed(\"count\",\"flight_count\")"
   ]
  },
  {
   "cell_type": "code",
   "execution_count": 6,
   "id": "be8cbaa3",
   "metadata": {},
   "outputs": [
    {
     "name": "stdout",
     "output_type": "stream",
     "text": [
      "+-----------------+-------------------+------------+\n",
      "|DEST_COUNTRY_NAME|ORIGIN_COUNTRY_NAME|flight_count|\n",
      "+-----------------+-------------------+------------+\n",
      "|    United States|            Romania|          15|\n",
      "|    United States|            Croatia|           1|\n",
      "|    United States|            Ireland|         344|\n",
      "|            Egypt|      United States|          15|\n",
      "|    United States|              India|          62|\n",
      "+-----------------+-------------------+------------+\n",
      "only showing top 5 rows\n",
      "\n"
     ]
    }
   ],
   "source": [
    "flightData2015.show(5)"
   ]
  },
  {
   "cell_type": "code",
   "execution_count": 7,
   "id": "e71c90e7",
   "metadata": {},
   "outputs": [
    {
     "name": "stdout",
     "output_type": "stream",
     "text": [
      "== Physical Plan ==\n",
      "*(2) Sort [flight_count#41 ASC NULLS FIRST], true, 0\n",
      "+- Exchange rangepartitioning(flight_count#41 ASC NULLS FIRST, 200), ENSURE_REQUIREMENTS, [id=#63]\n",
      "   +- *(1) Project [DEST_COUNTRY_NAME#16, ORIGIN_COUNTRY_NAME#17, count#18 AS flight_count#41]\n",
      "      +- FileScan csv [DEST_COUNTRY_NAME#16,ORIGIN_COUNTRY_NAME#17,count#18] Batched: false, DataFilters: [], Format: CSV, Location: InMemoryFileIndex[file:/home/tamaghna/spark-The-Definitive-Guide/data/flight-data/csv/2015-summar..., PartitionFilters: [], PushedFilters: [], ReadSchema: struct<DEST_COUNTRY_NAME:string,ORIGIN_COUNTRY_NAME:string,count:int>\n",
      "\n",
      "\n"
     ]
    }
   ],
   "source": [
    "flightData2015.sort(\"flight_count\").explain()"
   ]
  },
  {
   "cell_type": "code",
   "execution_count": 8,
   "id": "65ae27d1",
   "metadata": {},
   "outputs": [
    {
     "name": "stdout",
     "output_type": "stream",
     "text": [
      "+-----------------+-------------------+------------+\n",
      "|DEST_COUNTRY_NAME|ORIGIN_COUNTRY_NAME|flight_count|\n",
      "+-----------------+-------------------+------------+\n",
      "|    United States|      United States|      370002|\n",
      "|    United States|             Canada|        8483|\n",
      "|           Canada|      United States|        8399|\n",
      "|    United States|             Mexico|        7187|\n",
      "|           Mexico|      United States|        7140|\n",
      "|   United Kingdom|      United States|        2025|\n",
      "|    United States|     United Kingdom|        1970|\n",
      "|            Japan|      United States|        1548|\n",
      "|    United States|              Japan|        1496|\n",
      "|          Germany|      United States|        1468|\n",
      "+-----------------+-------------------+------------+\n",
      "only showing top 10 rows\n",
      "\n"
     ]
    }
   ],
   "source": [
    "flightData2015.sort(flightData2015.flight_count.desc()).show(10)"
   ]
  },
  {
   "cell_type": "code",
   "execution_count": 9,
   "id": "16ab8e38",
   "metadata": {},
   "outputs": [
    {
     "data": {
      "text/plain": [
       "'200'"
      ]
     },
     "execution_count": 9,
     "metadata": {},
     "output_type": "execute_result"
    }
   ],
   "source": [
    "spark.conf.get(\"spark.sql.shuffle.partitions\")"
   ]
  },
  {
   "cell_type": "code",
   "execution_count": 10,
   "id": "a3b6190e",
   "metadata": {},
   "outputs": [],
   "source": [
    "flightData2015.createOrReplaceTempView(\"flight_data_2015\")"
   ]
  },
  {
   "cell_type": "code",
   "execution_count": 11,
   "id": "39915a6a",
   "metadata": {},
   "outputs": [],
   "source": [
    "sqlWay = spark.sql('''\n",
    "                SELECT\n",
    "                DEST_COUNTRY_NAME\n",
    "                ,COUNT(1) AS COUNT\n",
    "                FROM flight_data_2015\n",
    "                GROUP BY DEST_COUNTRY_NAME\n",
    "                    ''')"
   ]
  },
  {
   "cell_type": "code",
   "execution_count": 12,
   "id": "03df859c",
   "metadata": {},
   "outputs": [],
   "source": [
    "pysparkWay = flightData2015.groupBy(\"DEST_COUNTRY_NAME\").count().withColumnRenamed(\"count\",\"COUNT\")"
   ]
  },
  {
   "cell_type": "code",
   "execution_count": 13,
   "id": "73f19441",
   "metadata": {},
   "outputs": [
    {
     "name": "stdout",
     "output_type": "stream",
     "text": [
      "+-----------------+-----+\n",
      "|DEST_COUNTRY_NAME|COUNT|\n",
      "+-----------------+-----+\n",
      "|         Anguilla|    1|\n",
      "|           Russia|    1|\n",
      "|         Paraguay|    1|\n",
      "|          Senegal|    1|\n",
      "|           Sweden|    1|\n",
      "+-----------------+-----+\n",
      "only showing top 5 rows\n",
      "\n"
     ]
    }
   ],
   "source": [
    "pysparkWay.show(5)"
   ]
  },
  {
   "cell_type": "code",
   "execution_count": 14,
   "id": "06a890b1",
   "metadata": {},
   "outputs": [
    {
     "name": "stdout",
     "output_type": "stream",
     "text": [
      "+-----------------+-----+\n",
      "|DEST_COUNTRY_NAME|COUNT|\n",
      "+-----------------+-----+\n",
      "|         Anguilla|    1|\n",
      "|           Russia|    1|\n",
      "|         Paraguay|    1|\n",
      "|          Senegal|    1|\n",
      "|           Sweden|    1|\n",
      "+-----------------+-----+\n",
      "only showing top 5 rows\n",
      "\n"
     ]
    }
   ],
   "source": [
    "sqlWay.show(5)"
   ]
  },
  {
   "cell_type": "code",
   "execution_count": 15,
   "id": "282d1e2f",
   "metadata": {},
   "outputs": [
    {
     "name": "stdout",
     "output_type": "stream",
     "text": [
      "== Physical Plan ==\n",
      "*(2) HashAggregate(keys=[DEST_COUNTRY_NAME#16], functions=[count(1)])\n",
      "+- Exchange hashpartitioning(DEST_COUNTRY_NAME#16, 200), ENSURE_REQUIREMENTS, [id=#145]\n",
      "   +- *(1) HashAggregate(keys=[DEST_COUNTRY_NAME#16], functions=[partial_count(1)])\n",
      "      +- FileScan csv [DEST_COUNTRY_NAME#16] Batched: false, DataFilters: [], Format: CSV, Location: InMemoryFileIndex[file:/home/tamaghna/spark-The-Definitive-Guide/data/flight-data/csv/2015-summar..., PartitionFilters: [], PushedFilters: [], ReadSchema: struct<DEST_COUNTRY_NAME:string>\n",
      "\n",
      "\n"
     ]
    }
   ],
   "source": [
    "sqlWay.explain()"
   ]
  },
  {
   "cell_type": "code",
   "execution_count": 16,
   "id": "7adaee92",
   "metadata": {},
   "outputs": [
    {
     "name": "stdout",
     "output_type": "stream",
     "text": [
      "== Physical Plan ==\n",
      "*(2) HashAggregate(keys=[DEST_COUNTRY_NAME#16], functions=[count(1)])\n",
      "+- Exchange hashpartitioning(DEST_COUNTRY_NAME#16, 200), ENSURE_REQUIREMENTS, [id=#164]\n",
      "   +- *(1) HashAggregate(keys=[DEST_COUNTRY_NAME#16], functions=[partial_count(1)])\n",
      "      +- FileScan csv [DEST_COUNTRY_NAME#16] Batched: false, DataFilters: [], Format: CSV, Location: InMemoryFileIndex[file:/home/tamaghna/spark-The-Definitive-Guide/data/flight-data/csv/2015-summar..., PartitionFilters: [], PushedFilters: [], ReadSchema: struct<DEST_COUNTRY_NAME:string>\n",
      "\n",
      "\n"
     ]
    }
   ],
   "source": [
    "pysparkWay.explain()"
   ]
  },
  {
   "cell_type": "code",
   "execution_count": 17,
   "id": "e3e0403e",
   "metadata": {},
   "outputs": [
    {
     "name": "stdout",
     "output_type": "stream",
     "text": [
      "+-----------------+\n",
      "|max(flight_count)|\n",
      "+-----------------+\n",
      "|           370002|\n",
      "+-----------------+\n",
      "\n"
     ]
    }
   ],
   "source": [
    "spark.sql(\"select max(flight_count) from flight_data_2015\").show()"
   ]
  },
  {
   "cell_type": "code",
   "execution_count": 18,
   "id": "d14a8207",
   "metadata": {},
   "outputs": [
    {
     "name": "stdout",
     "output_type": "stream",
     "text": [
      "+-----------------+\n",
      "|max(flight_count)|\n",
      "+-----------------+\n",
      "|           370002|\n",
      "+-----------------+\n",
      "\n"
     ]
    }
   ],
   "source": [
    "flightData2015.agg({\"flight_count\":\"max\"}).show()"
   ]
  },
  {
   "cell_type": "code",
   "execution_count": 19,
   "id": "d4083a5c",
   "metadata": {},
   "outputs": [
    {
     "name": "stderr",
     "output_type": "stream",
     "text": [
      "[Stage 23:=====================================================>(198 + 2) / 200]\r"
     ]
    },
    {
     "name": "stdout",
     "output_type": "stream",
     "text": [
      "+--------------------+-----------------+\n",
      "|   DEST_COUNTRY_NAME|max(flight_count)|\n",
      "+--------------------+-----------------+\n",
      "|             Algeria|                4|\n",
      "|              Angola|               15|\n",
      "|            Anguilla|               41|\n",
      "| Antigua and Barbuda|              126|\n",
      "|           Argentina|              180|\n",
      "|               Aruba|              346|\n",
      "|           Australia|              329|\n",
      "|             Austria|               62|\n",
      "|          Azerbaijan|               21|\n",
      "|             Bahrain|               19|\n",
      "|            Barbados|              154|\n",
      "|             Belgium|              259|\n",
      "|              Belize|              188|\n",
      "|             Bermuda|              183|\n",
      "|             Bolivia|               30|\n",
      "|Bonaire, Sint Eus...|               58|\n",
      "|              Brazil|              853|\n",
      "|British Virgin Is...|              107|\n",
      "|            Bulgaria|                3|\n",
      "|        Burkina Faso|                1|\n",
      "+--------------------+-----------------+\n",
      "only showing top 20 rows\n",
      "\n"
     ]
    },
    {
     "name": "stderr",
     "output_type": "stream",
     "text": [
      "\r",
      "                                                                                \r"
     ]
    }
   ],
   "source": [
    "flightData2015.groupBy(\"DEST_COUNTRY_NAME\").agg({\"flight_count\":\"max\"}).orderBy(\"DEST_COUNTRY_NAME\").show()"
   ]
  },
  {
   "cell_type": "code",
   "execution_count": 20,
   "id": "f4890cbc",
   "metadata": {},
   "outputs": [],
   "source": [
    "# Top 5 estination countries"
   ]
  },
  {
   "cell_type": "code",
   "execution_count": 21,
   "id": "5169cdcd",
   "metadata": {},
   "outputs": [
    {
     "name": "stderr",
     "output_type": "stream",
     "text": [
      "[Stage 25:===================================================>  (192 + 2) / 200]\r"
     ]
    },
    {
     "name": "stdout",
     "output_type": "stream",
     "text": [
      "+-----------------+-------+\n",
      "|DEST_COUNTRY_NAME|FLIGHTS|\n",
      "+-----------------+-------+\n",
      "|    United States| 411352|\n",
      "|           Canada|   8399|\n",
      "|           Mexico|   7140|\n",
      "|   United Kingdom|   2025|\n",
      "|            Japan|   1548|\n",
      "+-----------------+-------+\n",
      "\n"
     ]
    },
    {
     "name": "stderr",
     "output_type": "stream",
     "text": [
      "\r",
      "                                                                                \r"
     ]
    }
   ],
   "source": [
    "spark.sql('''\n",
    "            SELECT \n",
    "            DEST_COUNTRY_NAME,\n",
    "            SUM(FLIGHT_COUNT) AS FLIGHTS\n",
    "            FROM\n",
    "            flight_data_2015\n",
    "            GROUP BY DEST_COUNTRY_NAME\n",
    "            ORDER BY SUM(FLIGHT_COUNT) DESC\n",
    "            LIMIT(5)\n",
    "        ''').show()"
   ]
  },
  {
   "cell_type": "code",
   "execution_count": 22,
   "id": "5bf2746b",
   "metadata": {},
   "outputs": [
    {
     "name": "stderr",
     "output_type": "stream",
     "text": [
      "[Stage 28:==================================================>   (188 + 2) / 200]\r"
     ]
    },
    {
     "name": "stdout",
     "output_type": "stream",
     "text": [
      "+-----------------+------------+\n",
      "|DEST_COUNTRY_NAME|FLIGHT_COUNT|\n",
      "+-----------------+------------+\n",
      "|    United States|      411352|\n",
      "|           Canada|        8399|\n",
      "|           Mexico|        7140|\n",
      "|   United Kingdom|        2025|\n",
      "|            Japan|        1548|\n",
      "+-----------------+------------+\n",
      "\n"
     ]
    },
    {
     "name": "stderr",
     "output_type": "stream",
     "text": [
      "\r",
      "                                                                                \r"
     ]
    }
   ],
   "source": [
    "flightData2015\\\n",
    ".groupBy(\"DEST_COUNTRY_NAME\")\\\n",
    ".sum(\"FLIGHT_COUNT\")\\\n",
    ".withColumnRenamed(\"sum(FLIGHT_COUNT)\",\"FLIGHT_COUNT\")\\\n",
    ".sort(\"FLIGHT_COUNT\",ascending=False)\\\n",
    ".limit(5)\\\n",
    ".show()"
   ]
  },
  {
   "cell_type": "code",
   "execution_count": 23,
   "id": "c8fff451",
   "metadata": {},
   "outputs": [
    {
     "name": "stdout",
     "output_type": "stream",
     "text": [
      "== Physical Plan ==\n",
      "TakeOrderedAndProject(limit=5, orderBy=[FLIGHT_COUNT#209L DESC NULLS LAST], output=[DEST_COUNTRY_NAME#16,FLIGHT_COUNT#209L])\n",
      "+- *(2) HashAggregate(keys=[DEST_COUNTRY_NAME#16], functions=[sum(cast(FLIGHT_COUNT#41 as bigint))])\n",
      "   +- Exchange hashpartitioning(DEST_COUNTRY_NAME#16, 200), ENSURE_REQUIREMENTS, [id=#333]\n",
      "      +- *(1) HashAggregate(keys=[DEST_COUNTRY_NAME#16], functions=[partial_sum(cast(FLIGHT_COUNT#41 as bigint))])\n",
      "         +- *(1) Project [DEST_COUNTRY_NAME#16, count#18 AS flight_count#41]\n",
      "            +- FileScan csv [DEST_COUNTRY_NAME#16,count#18] Batched: false, DataFilters: [], Format: CSV, Location: InMemoryFileIndex[file:/home/tamaghna/spark-The-Definitive-Guide/data/flight-data/csv/2015-summar..., PartitionFilters: [], PushedFilters: [], ReadSchema: struct<DEST_COUNTRY_NAME:string,count:int>\n",
      "\n",
      "\n"
     ]
    }
   ],
   "source": [
    "flightData2015\\\n",
    ".groupBy(\"DEST_COUNTRY_NAME\")\\\n",
    ".sum(\"FLIGHT_COUNT\")\\\n",
    ".withColumnRenamed(\"sum(FLIGHT_COUNT)\",\"FLIGHT_COUNT\")\\\n",
    ".sort(\"FLIGHT_COUNT\",ascending=False)\\\n",
    ".limit(5)\\\n",
    ".explain()"
   ]
  },
  {
   "cell_type": "code",
   "execution_count": 24,
   "id": "98714e88",
   "metadata": {},
   "outputs": [],
   "source": [
    "df = spark.range(100).toDF(\"number\")"
   ]
  },
  {
   "cell_type": "code",
   "execution_count": 25,
   "id": "b071fd55",
   "metadata": {},
   "outputs": [
    {
     "name": "stdout",
     "output_type": "stream",
     "text": [
      "+-------------+\n",
      "|(number + 10)|\n",
      "+-------------+\n",
      "|           10|\n",
      "|           11|\n",
      "|           12|\n",
      "|           13|\n",
      "|           14|\n",
      "|           15|\n",
      "|           16|\n",
      "|           17|\n",
      "|           18|\n",
      "|           19|\n",
      "|           20|\n",
      "|           21|\n",
      "|           22|\n",
      "|           23|\n",
      "|           24|\n",
      "|           25|\n",
      "|           26|\n",
      "|           27|\n",
      "|           28|\n",
      "|           29|\n",
      "+-------------+\n",
      "only showing top 20 rows\n",
      "\n"
     ]
    }
   ],
   "source": [
    "df.select(df[\"number\"]+10).show()"
   ]
  },
  {
   "cell_type": "code",
   "execution_count": 26,
   "id": "9d9fb6bf",
   "metadata": {},
   "outputs": [
    {
     "data": {
      "text/plain": [
       "[Row(id=0), Row(id=1), Row(id=2), Row(id=3), Row(id=4)]"
      ]
     },
     "execution_count": 26,
     "metadata": {},
     "output_type": "execute_result"
    }
   ],
   "source": [
    "spark.range(5).collect()"
   ]
  },
  {
   "cell_type": "code",
   "execution_count": 27,
   "id": "2a454f2a",
   "metadata": {},
   "outputs": [],
   "source": [
    "df = spark.read.format(\"json\")\\\n",
    "                .load(\"file:///home/tamaghna/spark-The-Definitive-Guide/data/flight-data/json/2015-summary.json\")"
   ]
  },
  {
   "cell_type": "code",
   "execution_count": 28,
   "id": "2be9dacd",
   "metadata": {
    "scrolled": true
   },
   "outputs": [
    {
     "name": "stdout",
     "output_type": "stream",
     "text": [
      "+-----------------+-------------------+-----+\n",
      "|DEST_COUNTRY_NAME|ORIGIN_COUNTRY_NAME|count|\n",
      "+-----------------+-------------------+-----+\n",
      "|    United States|            Romania|   15|\n",
      "|    United States|            Croatia|    1|\n",
      "|    United States|            Ireland|  344|\n",
      "|            Egypt|      United States|   15|\n",
      "|    United States|              India|   62|\n",
      "+-----------------+-------------------+-----+\n",
      "only showing top 5 rows\n",
      "\n"
     ]
    }
   ],
   "source": [
    "df.show(5)"
   ]
  },
  {
   "cell_type": "code",
   "execution_count": 29,
   "id": "0b209f27",
   "metadata": {},
   "outputs": [
    {
     "name": "stdout",
     "output_type": "stream",
     "text": [
      "root\n",
      " |-- DEST_COUNTRY_NAME: string (nullable = true)\n",
      " |-- ORIGIN_COUNTRY_NAME: string (nullable = true)\n",
      " |-- count: long (nullable = true)\n",
      "\n"
     ]
    }
   ],
   "source": [
    "df.printSchema()"
   ]
  },
  {
   "cell_type": "code",
   "execution_count": 30,
   "id": "efc8efc8",
   "metadata": {},
   "outputs": [
    {
     "data": {
      "text/plain": [
       "StructType(List(StructField(DEST_COUNTRY_NAME,StringType,true),StructField(ORIGIN_COUNTRY_NAME,StringType,true),StructField(count,LongType,true)))"
      ]
     },
     "execution_count": 30,
     "metadata": {},
     "output_type": "execute_result"
    }
   ],
   "source": [
    "df.schema"
   ]
  },
  {
   "cell_type": "code",
   "execution_count": 31,
   "id": "d99e3aac",
   "metadata": {},
   "outputs": [],
   "source": [
    "from pyspark.sql.types import StructType,StructField,StringType,LongType"
   ]
  },
  {
   "cell_type": "code",
   "execution_count": 32,
   "id": "26c3adda",
   "metadata": {},
   "outputs": [],
   "source": [
    "myManualSchema = StructType([\\\n",
    "                            StructField(\"DEST_COUNTRY_NAME\",StringType(),True),\\\n",
    "                            StructField(\"ORIGIN_COUNTRY_NAME\",StringType(),True),\\\n",
    "                            StructField(\"count\",StringType(),True),\\\n",
    "                            ])"
   ]
  },
  {
   "cell_type": "code",
   "execution_count": 33,
   "id": "001a5d1e",
   "metadata": {},
   "outputs": [],
   "source": [
    "df = spark.read.format(\"json\")\\\n",
    "                .schema(myManualSchema)\\\n",
    "                .load(\"file:///home/tamaghna/spark-The-Definitive-Guide/data/flight-data/json/2015-summary.json\")"
   ]
  },
  {
   "cell_type": "code",
   "execution_count": 34,
   "id": "a4006b5a",
   "metadata": {},
   "outputs": [
    {
     "name": "stdout",
     "output_type": "stream",
     "text": [
      "root\n",
      " |-- DEST_COUNTRY_NAME: string (nullable = true)\n",
      " |-- ORIGIN_COUNTRY_NAME: string (nullable = true)\n",
      " |-- count: string (nullable = true)\n",
      "\n"
     ]
    }
   ],
   "source": [
    "df.printSchema()"
   ]
  },
  {
   "cell_type": "code",
   "execution_count": 35,
   "id": "2d6756b2",
   "metadata": {},
   "outputs": [
    {
     "name": "stdout",
     "output_type": "stream",
     "text": [
      "+-----------------+-------------------+-----+\n",
      "|DEST_COUNTRY_NAME|ORIGIN_COUNTRY_NAME|count|\n",
      "+-----------------+-------------------+-----+\n",
      "|    United States|            Romania|   15|\n",
      "|    United States|            Croatia|    1|\n",
      "|    United States|            Ireland|  344|\n",
      "|            Egypt|      United States|   15|\n",
      "|    United States|              India|   62|\n",
      "+-----------------+-------------------+-----+\n",
      "only showing top 5 rows\n",
      "\n"
     ]
    }
   ],
   "source": [
    "df.show(5)"
   ]
  },
  {
   "cell_type": "code",
   "execution_count": 36,
   "id": "51f4867c",
   "metadata": {},
   "outputs": [],
   "source": [
    "from pyspark.sql.functions import col,column,expr"
   ]
  },
  {
   "cell_type": "code",
   "execution_count": 37,
   "id": "7b553e2a",
   "metadata": {},
   "outputs": [
    {
     "name": "stdout",
     "output_type": "stream",
     "text": [
      "+--------------------+\n",
      "|         destination|\n",
      "+--------------------+\n",
      "|       United States|\n",
      "|       United States|\n",
      "|       United States|\n",
      "|               Egypt|\n",
      "|       United States|\n",
      "|       United States|\n",
      "|       United States|\n",
      "|          Costa Rica|\n",
      "|             Senegal|\n",
      "|             Moldova|\n",
      "|       United States|\n",
      "|       United States|\n",
      "|              Guyana|\n",
      "|               Malta|\n",
      "|            Anguilla|\n",
      "|             Bolivia|\n",
      "|       United States|\n",
      "|             Algeria|\n",
      "|Turks and Caicos ...|\n",
      "|       United States|\n",
      "+--------------------+\n",
      "only showing top 20 rows\n",
      "\n"
     ]
    }
   ],
   "source": [
    "df.select(expr(\"DEST_COUNTRY_NAME AS destination\")).show()"
   ]
  },
  {
   "cell_type": "code",
   "execution_count": 38,
   "id": "d90bb232",
   "metadata": {},
   "outputs": [
    {
     "name": "stdout",
     "output_type": "stream",
     "text": [
      "+--------------------+----------------+\n",
      "|         destination|          origin|\n",
      "+--------------------+----------------+\n",
      "|       United States|         Romania|\n",
      "|       United States|         Croatia|\n",
      "|       United States|         Ireland|\n",
      "|               Egypt|   United States|\n",
      "|       United States|           India|\n",
      "|       United States|       Singapore|\n",
      "|       United States|         Grenada|\n",
      "|          Costa Rica|   United States|\n",
      "|             Senegal|   United States|\n",
      "|             Moldova|   United States|\n",
      "|       United States|    Sint Maarten|\n",
      "|       United States|Marshall Islands|\n",
      "|              Guyana|   United States|\n",
      "|               Malta|   United States|\n",
      "|            Anguilla|   United States|\n",
      "|             Bolivia|   United States|\n",
      "|       United States|        Paraguay|\n",
      "|             Algeria|   United States|\n",
      "|Turks and Caicos ...|   United States|\n",
      "|       United States|       Gibraltar|\n",
      "+--------------------+----------------+\n",
      "only showing top 20 rows\n",
      "\n"
     ]
    }
   ],
   "source": [
    "df.selectExpr(\"DEST_COUNTRY_NAME as destination\",\"ORIGIN_COUNTRY_NAME as origin\").show()"
   ]
  },
  {
   "cell_type": "code",
   "execution_count": 39,
   "id": "d099da1a",
   "metadata": {},
   "outputs": [
    {
     "name": "stdout",
     "output_type": "stream",
     "text": [
      "+--------------------+-------------------+-----+\n",
      "|   DEST_COUNTRY_NAME|ORIGIN_COUNTRY_NAME|count|\n",
      "+--------------------+-------------------+-----+\n",
      "|       United States|            Romania|   15|\n",
      "|       United States|            Croatia|    1|\n",
      "|       United States|            Ireland|  344|\n",
      "|               Egypt|      United States|   15|\n",
      "|       United States|              India|   62|\n",
      "|       United States|          Singapore|    1|\n",
      "|       United States|            Grenada|   62|\n",
      "|          Costa Rica|      United States|  588|\n",
      "|             Senegal|      United States|   40|\n",
      "|             Moldova|      United States|    1|\n",
      "|       United States|       Sint Maarten|  325|\n",
      "|       United States|   Marshall Islands|   39|\n",
      "|              Guyana|      United States|   64|\n",
      "|               Malta|      United States|    1|\n",
      "|            Anguilla|      United States|   41|\n",
      "|             Bolivia|      United States|   30|\n",
      "|       United States|           Paraguay|    6|\n",
      "|             Algeria|      United States|    4|\n",
      "|Turks and Caicos ...|      United States|  230|\n",
      "|       United States|          Gibraltar|    1|\n",
      "+--------------------+-------------------+-----+\n",
      "only showing top 20 rows\n",
      "\n"
     ]
    }
   ],
   "source": [
    "df.show()"
   ]
  },
  {
   "cell_type": "code",
   "execution_count": 40,
   "id": "d6e440ec",
   "metadata": {},
   "outputs": [
    {
     "name": "stdout",
     "output_type": "stream",
     "text": [
      "+-----------------+-------------------+-----+\n",
      "|DEST_COUNTRY_NAME|ORIGIN_COUNTRY_NAME|count|\n",
      "+-----------------+-------------------+-----+\n",
      "|    United States|            Romania|   15|\n",
      "|    United States|            Croatia|    1|\n",
      "|    United States|            Ireland|  344|\n",
      "|            Egypt|      United States|   15|\n",
      "|    United States|              India|   62|\n",
      "+-----------------+-------------------+-----+\n",
      "only showing top 5 rows\n",
      "\n"
     ]
    }
   ],
   "source": [
    "df.show(5)"
   ]
  },
  {
   "cell_type": "code",
   "execution_count": 41,
   "id": "5218f244",
   "metadata": {},
   "outputs": [],
   "source": [
    "from pyspark.sql.functions import when"
   ]
  },
  {
   "cell_type": "code",
   "execution_count": 42,
   "id": "bb42ff0f",
   "metadata": {},
   "outputs": [
    {
     "name": "stdout",
     "output_type": "stream",
     "text": [
      "+-----------------+-------------------+------+--------+\n",
      "|DEST_COUNTRY_NAME|ORIGIN_COUNTRY_NAME| count|domestic|\n",
      "+-----------------+-------------------+------+--------+\n",
      "|    United States|      United States|370002|       Y|\n",
      "+-----------------+-------------------+------+--------+\n",
      "\n"
     ]
    }
   ],
   "source": [
    "df.withColumn(\"domestic\",when(df.DEST_COUNTRY_NAME == df.ORIGIN_COUNTRY_NAME,'Y').otherwise('N'))\\\n",
    "                .filter(col(\"domestic\")=='Y').show()"
   ]
  },
  {
   "cell_type": "code",
   "execution_count": 43,
   "id": "3449316b",
   "metadata": {},
   "outputs": [
    {
     "name": "stdout",
     "output_type": "stream",
     "text": [
      "+--------------------+--------------------+-----+\n",
      "|   DEST_COUNTRY_NAME| ORIGIN_COUNTRY_NAME|count|\n",
      "+--------------------+--------------------+-----+\n",
      "|       United States|             Romania|   15|\n",
      "|       United States|             Ireland|  344|\n",
      "|               Egypt|       United States|   15|\n",
      "|       United States|               India|   62|\n",
      "|       United States|             Grenada|   62|\n",
      "|          Costa Rica|       United States|  588|\n",
      "|             Senegal|       United States|   40|\n",
      "|       United States|        Sint Maarten|  325|\n",
      "|       United States|    Marshall Islands|   39|\n",
      "|              Guyana|       United States|   64|\n",
      "|            Anguilla|       United States|   41|\n",
      "|             Bolivia|       United States|   30|\n",
      "|       United States|            Paraguay|    6|\n",
      "|             Algeria|       United States|    4|\n",
      "|Turks and Caicos ...|       United States|  230|\n",
      "|               Italy|       United States|  382|\n",
      "|       United States|Federated States ...|   69|\n",
      "|       United States|              Russia|  161|\n",
      "|            Pakistan|       United States|   12|\n",
      "|       United States|         Netherlands|  660|\n",
      "+--------------------+--------------------+-----+\n",
      "only showing top 20 rows\n",
      "\n"
     ]
    }
   ],
   "source": [
    "df.filter(col(\"count\") > 1).show()"
   ]
  },
  {
   "cell_type": "markdown",
   "id": "b0588e48",
   "metadata": {},
   "source": [
    "Random Samples"
   ]
  },
  {
   "cell_type": "code",
   "execution_count": 44,
   "id": "cd4580a2",
   "metadata": {},
   "outputs": [
    {
     "name": "stdout",
     "output_type": "stream",
     "text": [
      "+-----------------+-------------------+-----+\n",
      "|DEST_COUNTRY_NAME|ORIGIN_COUNTRY_NAME|count|\n",
      "+-----------------+-------------------+-----+\n",
      "|    United States|            Romania|   15|\n",
      "|    United States|            Croatia|    1|\n",
      "|    United States|            Ireland|  344|\n",
      "|            Egypt|      United States|   15|\n",
      "|    United States|              India|   62|\n",
      "+-----------------+-------------------+-----+\n",
      "only showing top 5 rows\n",
      "\n"
     ]
    }
   ],
   "source": [
    "df.show(5)"
   ]
  },
  {
   "cell_type": "code",
   "execution_count": 45,
   "id": "4f051ff8",
   "metadata": {},
   "outputs": [
    {
     "data": {
      "text/plain": [
       "138"
      ]
     },
     "execution_count": 45,
     "metadata": {},
     "output_type": "execute_result"
    }
   ],
   "source": [
    "df.sample(withReplacement=False, fraction=0.5, seed=5).count()"
   ]
  },
  {
   "cell_type": "code",
   "execution_count": 46,
   "id": "36b687c0",
   "metadata": {},
   "outputs": [],
   "source": [
    "dataFrames = df.randomSplit([0.25,0.75])"
   ]
  },
  {
   "cell_type": "code",
   "execution_count": 47,
   "id": "908b464e",
   "metadata": {},
   "outputs": [
    {
     "data": {
      "text/plain": [
       "58"
      ]
     },
     "execution_count": 47,
     "metadata": {},
     "output_type": "execute_result"
    }
   ],
   "source": [
    "dataFrames[0].count()"
   ]
  },
  {
   "cell_type": "code",
   "execution_count": 48,
   "id": "ae230f13",
   "metadata": {},
   "outputs": [
    {
     "data": {
      "text/plain": [
       "198"
      ]
     },
     "execution_count": 48,
     "metadata": {},
     "output_type": "execute_result"
    }
   ],
   "source": [
    "dataFrames[1].count()"
   ]
  },
  {
   "cell_type": "code",
   "execution_count": 49,
   "id": "1b0977d0",
   "metadata": {},
   "outputs": [
    {
     "name": "stdout",
     "output_type": "stream",
     "text": [
      "+-----------------+--------------------+-----+\n",
      "|DEST_COUNTRY_NAME| ORIGIN_COUNTRY_NAME|count|\n",
      "+-----------------+--------------------+-----+\n",
      "|    United States|         The Bahamas|  986|\n",
      "|      The Bahamas|       United States|  955|\n",
      "|    United States|              France|  952|\n",
      "|           France|       United States|  935|\n",
      "|    United States|               China|  920|\n",
      "|          Curacao|       United States|   90|\n",
      "|         Colombia|       United States|  873|\n",
      "|    United States|            Colombia|  867|\n",
      "|           Brazil|       United States|  853|\n",
      "|    United States|              Canada| 8483|\n",
      "|           Canada|       United States| 8399|\n",
      "|     Saudi Arabia|       United States|   83|\n",
      "|    United States|             Curacao|   83|\n",
      "|    United States|         South Korea|  827|\n",
      "|    United States|British Virgin Is...|   80|\n",
      "|      Netherlands|       United States|  776|\n",
      "|            China|       United States|  772|\n",
      "|    United States|         New Zealand|   74|\n",
      "|    United States|              Mexico| 7187|\n",
      "|           Mexico|       United States| 7140|\n",
      "+-----------------+--------------------+-----+\n",
      "only showing top 20 rows\n",
      "\n"
     ]
    }
   ],
   "source": [
    "df.orderBy(\"count\",ascending=False).show()"
   ]
  },
  {
   "cell_type": "code",
   "execution_count": 50,
   "id": "7611675f",
   "metadata": {},
   "outputs": [],
   "source": [
    "from pyspark.sql.functions import desc,col"
   ]
  },
  {
   "cell_type": "code",
   "execution_count": 51,
   "id": "9eba7986",
   "metadata": {},
   "outputs": [
    {
     "name": "stdout",
     "output_type": "stream",
     "text": [
      "+-----------------+-------------------+-----+\n",
      "|DEST_COUNTRY_NAME|ORIGIN_COUNTRY_NAME|count|\n",
      "+-----------------+-------------------+-----+\n",
      "|    United States|        The Bahamas|  986|\n",
      "|      The Bahamas|      United States|  955|\n",
      "|    United States|             France|  952|\n",
      "|           France|      United States|  935|\n",
      "|    United States|              China|  920|\n",
      "+-----------------+-------------------+-----+\n",
      "only showing top 5 rows\n",
      "\n"
     ]
    }
   ],
   "source": [
    "df.orderBy(desc(\"count\")).show(5)"
   ]
  },
  {
   "cell_type": "code",
   "execution_count": 52,
   "id": "2a6e5ecb",
   "metadata": {},
   "outputs": [
    {
     "name": "stdout",
     "output_type": "stream",
     "text": [
      "+-----------------+-------------------+-----+\n",
      "|DEST_COUNTRY_NAME|ORIGIN_COUNTRY_NAME|count|\n",
      "+-----------------+-------------------+-----+\n",
      "|    United States|        The Bahamas|  986|\n",
      "|      The Bahamas|      United States|  955|\n",
      "|    United States|             France|  952|\n",
      "|           France|      United States|  935|\n",
      "|    United States|              China|  920|\n",
      "+-----------------+-------------------+-----+\n",
      "only showing top 5 rows\n",
      "\n"
     ]
    }
   ],
   "source": [
    "df.sort(desc(\"count\")).show(5)"
   ]
  },
  {
   "cell_type": "code",
   "execution_count": 53,
   "id": "32f4bb88",
   "metadata": {},
   "outputs": [
    {
     "name": "stdout",
     "output_type": "stream",
     "text": [
      "+-----------------+-------------------+-----+\n",
      "|DEST_COUNTRY_NAME|ORIGIN_COUNTRY_NAME|count|\n",
      "+-----------------+-------------------+-----+\n",
      "|    United States|        The Bahamas|  986|\n",
      "|      The Bahamas|      United States|  955|\n",
      "|    United States|             France|  952|\n",
      "|           France|      United States|  935|\n",
      "|    United States|              China|  920|\n",
      "+-----------------+-------------------+-----+\n",
      "only showing top 5 rows\n",
      "\n"
     ]
    }
   ],
   "source": [
    "df.sort(col(\"count\").desc()).show(5)"
   ]
  },
  {
   "cell_type": "code",
   "execution_count": 54,
   "id": "8ed30109",
   "metadata": {},
   "outputs": [
    {
     "data": {
      "text/plain": [
       "method"
      ]
     },
     "execution_count": 54,
     "metadata": {},
     "output_type": "execute_result"
    }
   ],
   "source": [
    "type(df.count)"
   ]
  },
  {
   "cell_type": "code",
   "execution_count": 55,
   "id": "e23dae33",
   "metadata": {},
   "outputs": [
    {
     "data": {
      "text/plain": [
       "pyspark.sql.dataframe.DataFrame"
      ]
     },
     "execution_count": 55,
     "metadata": {},
     "output_type": "execute_result"
    }
   ],
   "source": [
    "type(df.select(col(\"count\")))"
   ]
  },
  {
   "cell_type": "code",
   "execution_count": 56,
   "id": "ebacb3e6",
   "metadata": {},
   "outputs": [
    {
     "data": {
      "text/plain": [
       "pyspark.sql.column.Column"
      ]
     },
     "execution_count": 56,
     "metadata": {},
     "output_type": "execute_result"
    }
   ],
   "source": [
    "type(col(\"count\"))"
   ]
  },
  {
   "cell_type": "code",
   "execution_count": 57,
   "id": "d34de3fa",
   "metadata": {},
   "outputs": [
    {
     "data": {
      "text/plain": [
       "1"
      ]
     },
     "execution_count": 57,
     "metadata": {},
     "output_type": "execute_result"
    }
   ],
   "source": [
    "df.rdd.getNumPartitions()"
   ]
  },
  {
   "cell_type": "code",
   "execution_count": 58,
   "id": "20ca8444",
   "metadata": {},
   "outputs": [
    {
     "data": {
      "text/plain": [
       "DataFrame[DEST_COUNTRY_NAME: string, ORIGIN_COUNTRY_NAME: string, count: string]"
      ]
     },
     "execution_count": 58,
     "metadata": {},
     "output_type": "execute_result"
    }
   ],
   "source": [
    "df.repartition(2,\"count\")"
   ]
  },
  {
   "cell_type": "code",
   "execution_count": 59,
   "id": "613c568c",
   "metadata": {},
   "outputs": [
    {
     "data": {
      "text/plain": [
       "1"
      ]
     },
     "execution_count": 59,
     "metadata": {},
     "output_type": "execute_result"
    }
   ],
   "source": [
    "df.rdd.getNumPartitions()"
   ]
  },
  {
   "cell_type": "markdown",
   "id": "c4b1eab5",
   "metadata": {},
   "source": [
    "# Chapter 6"
   ]
  },
  {
   "cell_type": "code",
   "execution_count": 60,
   "id": "dab3e85e",
   "metadata": {},
   "outputs": [],
   "source": [
    "df = spark.read.format(\"csv\")\\\n",
    "        .options(header=True)\\\n",
    "        .options(inferSchema=True)\\\n",
    "        .load(\"file:///home/tamaghna/spark-The-Definitive-Guide/data/retail-data/by-day/2010-12-01.csv\")"
   ]
  },
  {
   "cell_type": "code",
   "execution_count": 61,
   "id": "b9d13bac",
   "metadata": {},
   "outputs": [],
   "source": [
    "df.createOrReplaceTempView(\"dfTable\")"
   ]
  },
  {
   "cell_type": "code",
   "execution_count": 62,
   "id": "ed5862c0",
   "metadata": {},
   "outputs": [
    {
     "name": "stdout",
     "output_type": "stream",
     "text": [
      "root\n",
      " |-- InvoiceNo: string (nullable = true)\n",
      " |-- StockCode: string (nullable = true)\n",
      " |-- Description: string (nullable = true)\n",
      " |-- Quantity: integer (nullable = true)\n",
      " |-- InvoiceDate: string (nullable = true)\n",
      " |-- UnitPrice: double (nullable = true)\n",
      " |-- CustomerID: double (nullable = true)\n",
      " |-- Country: string (nullable = true)\n",
      "\n"
     ]
    }
   ],
   "source": [
    "df.printSchema()"
   ]
  },
  {
   "cell_type": "code",
   "execution_count": 63,
   "id": "671d76aa",
   "metadata": {},
   "outputs": [
    {
     "name": "stdout",
     "output_type": "stream",
     "text": [
      "+---------+---------+--------------------+--------+-------------------+---------+----------+--------------+\n",
      "|InvoiceNo|StockCode|         Description|Quantity|        InvoiceDate|UnitPrice|CustomerID|       Country|\n",
      "+---------+---------+--------------------+--------+-------------------+---------+----------+--------------+\n",
      "|   536365|   85123A|WHITE HANGING HEA...|       6|2010-12-01 08:26:00|     2.55|   17850.0|United Kingdom|\n",
      "|   536365|    71053| WHITE METAL LANTERN|       6|2010-12-01 08:26:00|     3.39|   17850.0|United Kingdom|\n",
      "|   536365|   84406B|CREAM CUPID HEART...|       8|2010-12-01 08:26:00|     2.75|   17850.0|United Kingdom|\n",
      "|   536365|   84029G|KNITTED UNION FLA...|       6|2010-12-01 08:26:00|     3.39|   17850.0|United Kingdom|\n",
      "|   536365|   84029E|RED WOOLLY HOTTIE...|       6|2010-12-01 08:26:00|     3.39|   17850.0|United Kingdom|\n",
      "+---------+---------+--------------------+--------+-------------------+---------+----------+--------------+\n",
      "only showing top 5 rows\n",
      "\n"
     ]
    }
   ],
   "source": [
    "df.show(5)"
   ]
  },
  {
   "cell_type": "code",
   "execution_count": 64,
   "id": "a832e7fa",
   "metadata": {},
   "outputs": [
    {
     "name": "stderr",
     "output_type": "stream",
     "text": [
      "                                                                                \r"
     ]
    },
    {
     "name": "stdout",
     "output_type": "stream",
     "text": [
      "+--------------+\n",
      "|       Country|\n",
      "+--------------+\n",
      "|       Germany|\n",
      "|        France|\n",
      "|          EIRE|\n",
      "|        Norway|\n",
      "|     Australia|\n",
      "|United Kingdom|\n",
      "|   Netherlands|\n",
      "+--------------+\n",
      "\n"
     ]
    }
   ],
   "source": [
    "df.select(\"Country\").distinct().show()"
   ]
  },
  {
   "cell_type": "code",
   "execution_count": 65,
   "id": "ce2a44d7",
   "metadata": {},
   "outputs": [
    {
     "name": "stdout",
     "output_type": "stream",
     "text": [
      "+---------+---------+--------------------+--------+-------------------+---------+----------+-------+\n",
      "|InvoiceNo|StockCode|         Description|Quantity|        InvoiceDate|UnitPrice|CustomerID|Country|\n",
      "+---------+---------+--------------------+--------+-------------------+---------+----------+-------+\n",
      "|   536527|    22809|SET OF 6 T-LIGHTS...|       6|2010-12-01 13:04:00|     2.95|   12662.0|Germany|\n",
      "|   536527|    84347|ROTATING SILVER A...|       6|2010-12-01 13:04:00|     2.55|   12662.0|Germany|\n",
      "|   536527|    84945|MULTI COLOUR SILV...|      12|2010-12-01 13:04:00|     0.85|   12662.0|Germany|\n",
      "|   536527|    22242|5 HOOK HANGER MAG...|      12|2010-12-01 13:04:00|     1.65|   12662.0|Germany|\n",
      "|   536527|    22244|3 HOOK HANGER MAG...|      12|2010-12-01 13:04:00|     1.95|   12662.0|Germany|\n",
      "|   536527|    22243|5 HOOK HANGER RED...|      12|2010-12-01 13:04:00|     1.65|   12662.0|Germany|\n",
      "|   536527|    47421|ASSORTED COLOUR L...|      24|2010-12-01 13:04:00|     0.42|   12662.0|Germany|\n",
      "|   536527|    20712|JUMBO BAG WOODLAN...|      10|2010-12-01 13:04:00|     1.95|   12662.0|Germany|\n",
      "|   536527|    20713|      JUMBO BAG OWLS|      10|2010-12-01 13:04:00|     1.95|   12662.0|Germany|\n",
      "|   536527|    22837|HOT WATER BOTTLE ...|       4|2010-12-01 13:04:00|     4.65|   12662.0|Germany|\n",
      "|   536527|    22969|HOMEMADE JAM SCEN...|      12|2010-12-01 13:04:00|     1.45|   12662.0|Germany|\n",
      "|   536527|    22973|CHILDREN'S CIRCUS...|      12|2010-12-01 13:04:00|     1.65|   12662.0|Germany|\n",
      "|   536527|   84569B|PACK 3 FIRE ENGIN...|      12|2010-12-01 13:04:00|     1.25|   12662.0|Germany|\n",
      "|   536527|    22549|    PICTURE DOMINOES|      12|2010-12-01 13:04:00|     1.45|   12662.0|Germany|\n",
      "|   536527|     POST|             POSTAGE|       1|2010-12-01 13:04:00|     18.0|   12662.0|Germany|\n",
      "|  C536548|    22244|3 HOOK HANGER MAG...|      -4|2010-12-01 14:33:00|     1.95|   12472.0|Germany|\n",
      "|  C536548|    22242|5 HOOK HANGER MAG...|      -5|2010-12-01 14:33:00|     1.65|   12472.0|Germany|\n",
      "|  C536548|    20914|SET/5 RED RETROSP...|      -1|2010-12-01 14:33:00|     2.95|   12472.0|Germany|\n",
      "|  C536548|    22892|SET OF SALT AND P...|      -7|2010-12-01 14:33:00|     1.25|   12472.0|Germany|\n",
      "|  C536548|    22654|  DELUXE SEWING KIT |      -1|2010-12-01 14:33:00|     5.95|   12472.0|Germany|\n",
      "+---------+---------+--------------------+--------+-------------------+---------+----------+-------+\n",
      "only showing top 20 rows\n",
      "\n"
     ]
    }
   ],
   "source": [
    "df.filter(col(\"Country\")==\"Germany\").show()"
   ]
  },
  {
   "cell_type": "code",
   "execution_count": 66,
   "id": "f7dcca4f",
   "metadata": {},
   "outputs": [
    {
     "name": "stdout",
     "output_type": "stream",
     "text": [
      "+---------+---------+--------------------+--------+-------------------+---------+----------+--------------+\n",
      "|InvoiceNo|StockCode|         Description|Quantity|        InvoiceDate|UnitPrice|CustomerID|       Country|\n",
      "+---------+---------+--------------------+--------+-------------------+---------+----------+--------------+\n",
      "|   536392|    22827|RUSTIC  SEVENTEEN...|       1|2010-12-01 10:29:00|    165.0|   13705.0|United Kingdom|\n",
      "|   536544|      DOT|      DOTCOM POSTAGE|       1|2010-12-01 14:32:00|   569.77|      null|United Kingdom|\n",
      "|   536592|      DOT|      DOTCOM POSTAGE|       1|2010-12-01 17:06:00|   607.49|      null|United Kingdom|\n",
      "+---------+---------+--------------------+--------+-------------------+---------+----------+--------------+\n",
      "\n"
     ]
    }
   ],
   "source": [
    "df.filter(col(\"UnitPrice\") > 100).show()"
   ]
  },
  {
   "cell_type": "code",
   "execution_count": 67,
   "id": "091c0cab",
   "metadata": {},
   "outputs": [],
   "source": [
    "from pyspark.sql.functions import instr"
   ]
  },
  {
   "cell_type": "code",
   "execution_count": 68,
   "id": "9efa8d78",
   "metadata": {},
   "outputs": [
    {
     "name": "stdout",
     "output_type": "stream",
     "text": [
      "+---------+---------+--------------+--------+-------------------+---------+----------+--------------+\n",
      "|InvoiceNo|StockCode|   Description|Quantity|        InvoiceDate|UnitPrice|CustomerID|       Country|\n",
      "+---------+---------+--------------+--------+-------------------+---------+----------+--------------+\n",
      "|   536370|     POST|       POSTAGE|       3|2010-12-01 08:45:00|     18.0|   12583.0|        France|\n",
      "|   536403|     POST|       POSTAGE|       1|2010-12-01 11:27:00|     15.0|   12791.0|   Netherlands|\n",
      "|   536527|     POST|       POSTAGE|       1|2010-12-01 13:04:00|     18.0|   12662.0|       Germany|\n",
      "|   536544|      DOT|DOTCOM POSTAGE|       1|2010-12-01 14:32:00|   569.77|      null|United Kingdom|\n",
      "|   536592|      DOT|DOTCOM POSTAGE|       1|2010-12-01 17:06:00|   607.49|      null|United Kingdom|\n",
      "+---------+---------+--------------+--------+-------------------+---------+----------+--------------+\n",
      "\n"
     ]
    }
   ],
   "source": [
    "df.filter(instr(col(\"Description\"),\"POSTAGE\")>0).show()"
   ]
  },
  {
   "cell_type": "code",
   "execution_count": 69,
   "id": "a615beaa",
   "metadata": {},
   "outputs": [
    {
     "name": "stdout",
     "output_type": "stream",
     "text": [
      "+---------+---------+--------------+--------+-------------------+---------+----------+--------------+\n",
      "|InvoiceNo|StockCode|   Description|Quantity|        InvoiceDate|UnitPrice|CustomerID|       Country|\n",
      "+---------+---------+--------------+--------+-------------------+---------+----------+--------------+\n",
      "|   536544|      DOT|DOTCOM POSTAGE|       1|2010-12-01 14:32:00|   569.77|      null|United Kingdom|\n",
      "|   536592|      DOT|DOTCOM POSTAGE|       1|2010-12-01 17:06:00|   607.49|      null|United Kingdom|\n",
      "+---------+---------+--------------+--------+-------------------+---------+----------+--------------+\n",
      "\n"
     ]
    }
   ],
   "source": [
    "df.filter(df.StockCode.isin(\"DOT\")).show()"
   ]
  },
  {
   "cell_type": "code",
   "execution_count": 70,
   "id": "5df847dc",
   "metadata": {},
   "outputs": [
    {
     "name": "stdout",
     "output_type": "stream",
     "text": [
      "+---------+---------+--------------+--------+-------------------+---------+----------+--------------+\n",
      "|InvoiceNo|StockCode|   Description|Quantity|        InvoiceDate|UnitPrice|CustomerID|       Country|\n",
      "+---------+---------+--------------+--------+-------------------+---------+----------+--------------+\n",
      "|   536592|      DOT|DOTCOM POSTAGE|       1|2010-12-01 17:06:00|   607.49|      null|United Kingdom|\n",
      "+---------+---------+--------------+--------+-------------------+---------+----------+--------------+\n",
      "\n"
     ]
    }
   ],
   "source": [
    "df.filter(df.UnitPrice > 600).show()"
   ]
  },
  {
   "cell_type": "code",
   "execution_count": 71,
   "id": "b23824bf",
   "metadata": {},
   "outputs": [
    {
     "name": "stdout",
     "output_type": "stream",
     "text": [
      "+---------+---------+--------------------+--------+-------------------+---------+----------+--------------+\n",
      "|InvoiceNo|StockCode|         Description|Quantity|        InvoiceDate|UnitPrice|CustomerID|       Country|\n",
      "+---------+---------+--------------------+--------+-------------------+---------+----------+--------------+\n",
      "|   536370|    22728|ALARM CLOCK BAKEL...|      24|2010-12-01 08:45:00|     3.75|   12583.0|        France|\n",
      "|   536378|    22386|JUMBO BAG PINK PO...|      10|2010-12-01 09:37:00|     1.95|   14688.0|United Kingdom|\n",
      "|   536378|    21977|PACK OF 60 PINK P...|      24|2010-12-01 09:37:00|     0.55|   14688.0|United Kingdom|\n",
      "|   536378|    21929|JUMBO BAG PINK VI...|      10|2010-12-01 09:37:00|     1.95|   14688.0|United Kingdom|\n",
      "|   536381|    84854| GIRLY PINK TOOL SET|       5|2010-12-01 09:41:00|     4.95|   15311.0|United Kingdom|\n",
      "|   536381|   37444C|PINK BREAKFAST CU...|       1|2010-12-01 09:41:00|     2.95|   15311.0|United Kingdom|\n",
      "|   536382|    22381|TOY TIDY PINK POL...|      50|2010-12-01 09:45:00|     1.85|   16098.0|United Kingdom|\n",
      "|   536387|    22780|LIGHT GARLAND BUT...|     192|2010-12-01 09:58:00|     3.37|   16029.0|United Kingdom|\n",
      "|   536390|    22962|JAM JAR WITH PINK...|      48|2010-12-01 10:19:00|     0.72|   17511.0|United Kingdom|\n",
      "|  C536391|    21984|PACK OF 12 PINK P...|     -24|2010-12-01 10:24:00|     0.29|   17548.0|United Kingdom|\n",
      "|   536395|    21977|PACK OF 60 PINK P...|      24|2010-12-01 10:47:00|     0.55|   13767.0|United Kingdom|\n",
      "|   536398|    22064|PINK DOUGHNUT TRI...|      12|2010-12-01 10:52:00|     1.65|   13448.0|United Kingdom|\n",
      "|   536398|    22449|SILK PURSE BABUSH...|       6|2010-12-01 10:52:00|     3.35|   13448.0|United Kingdom|\n",
      "|   536401|    21122|SET/10 PINK POLKA...|       1|2010-12-01 11:21:00|     1.25|   15862.0|United Kingdom|\n",
      "|   536401|   84709B|PINK OVAL JEWELLE...|       1|2010-12-01 11:21:00|     5.95|   15862.0|United Kingdom|\n",
      "|   536401|    22804|CANDLEHOLDER PINK...|       3|2010-12-01 11:21:00|     2.95|   15862.0|United Kingdom|\n",
      "|   536401|    22384|LUNCH BAG PINK PO...|       1|2010-12-01 11:21:00|     1.65|   15862.0|United Kingdom|\n",
      "|   536401|   84625A|PINK NEW BAROQUEC...|       3|2010-12-01 11:21:00|     2.95|   15862.0|United Kingdom|\n",
      "|   536401|    22848|BREAD BIN DINER S...|       1|2010-12-01 11:21:00|    16.95|   15862.0|United Kingdom|\n",
      "|   536404|    22772|PINK DRAWER KNOB ...|      12|2010-12-01 11:29:00|     1.25|   16218.0|United Kingdom|\n",
      "+---------+---------+--------------------+--------+-------------------+---------+----------+--------------+\n",
      "only showing top 20 rows\n",
      "\n"
     ]
    }
   ],
   "source": [
    "df.filter(instr(df.Description,\"PINK\")>0).show()"
   ]
  },
  {
   "cell_type": "code",
   "execution_count": 72,
   "id": "288c4efe",
   "metadata": {},
   "outputs": [
    {
     "name": "stdout",
     "output_type": "stream",
     "text": [
      "+---------+---------+--------------------+--------+-------------------+---------+----------+--------------+\n",
      "|InvoiceNo|StockCode|         Description|Quantity|        InvoiceDate|UnitPrice|CustomerID|       Country|\n",
      "+---------+---------+--------------------+--------+-------------------+---------+----------+--------------+\n",
      "|   536370|    22728|ALARM CLOCK BAKEL...|      24|2010-12-01 08:45:00|     3.75|   12583.0|        France|\n",
      "|   536378|    22386|JUMBO BAG PINK PO...|      10|2010-12-01 09:37:00|     1.95|   14688.0|United Kingdom|\n",
      "|   536378|    21977|PACK OF 60 PINK P...|      24|2010-12-01 09:37:00|     0.55|   14688.0|United Kingdom|\n",
      "|   536378|    21929|JUMBO BAG PINK VI...|      10|2010-12-01 09:37:00|     1.95|   14688.0|United Kingdom|\n",
      "|   536381|    84854| GIRLY PINK TOOL SET|       5|2010-12-01 09:41:00|     4.95|   15311.0|United Kingdom|\n",
      "|   536381|   37444C|PINK BREAKFAST CU...|       1|2010-12-01 09:41:00|     2.95|   15311.0|United Kingdom|\n",
      "|   536382|    22381|TOY TIDY PINK POL...|      50|2010-12-01 09:45:00|     1.85|   16098.0|United Kingdom|\n",
      "|   536387|    22780|LIGHT GARLAND BUT...|     192|2010-12-01 09:58:00|     3.37|   16029.0|United Kingdom|\n",
      "|   536390|    22962|JAM JAR WITH PINK...|      48|2010-12-01 10:19:00|     0.72|   17511.0|United Kingdom|\n",
      "|  C536391|    21984|PACK OF 12 PINK P...|     -24|2010-12-01 10:24:00|     0.29|   17548.0|United Kingdom|\n",
      "|   536395|    21977|PACK OF 60 PINK P...|      24|2010-12-01 10:47:00|     0.55|   13767.0|United Kingdom|\n",
      "|   536398|    22064|PINK DOUGHNUT TRI...|      12|2010-12-01 10:52:00|     1.65|   13448.0|United Kingdom|\n",
      "|   536398|    22449|SILK PURSE BABUSH...|       6|2010-12-01 10:52:00|     3.35|   13448.0|United Kingdom|\n",
      "|   536401|    21122|SET/10 PINK POLKA...|       1|2010-12-01 11:21:00|     1.25|   15862.0|United Kingdom|\n",
      "|   536401|   84709B|PINK OVAL JEWELLE...|       1|2010-12-01 11:21:00|     5.95|   15862.0|United Kingdom|\n",
      "|   536401|    22804|CANDLEHOLDER PINK...|       3|2010-12-01 11:21:00|     2.95|   15862.0|United Kingdom|\n",
      "|   536401|    22384|LUNCH BAG PINK PO...|       1|2010-12-01 11:21:00|     1.65|   15862.0|United Kingdom|\n",
      "|   536401|   84625A|PINK NEW BAROQUEC...|       3|2010-12-01 11:21:00|     2.95|   15862.0|United Kingdom|\n",
      "|   536401|    22848|BREAD BIN DINER S...|       1|2010-12-01 11:21:00|    16.95|   15862.0|United Kingdom|\n",
      "|   536404|    22772|PINK DRAWER KNOB ...|      12|2010-12-01 11:29:00|     1.25|   16218.0|United Kingdom|\n",
      "|   536404|   85049C|ROMANTIC PINKS RI...|      12|2010-12-01 11:29:00|     1.25|   16218.0|United Kingdom|\n",
      "|   536409|    22785|SQUARECUSHION COV...|       1|2010-12-01 11:45:00|     6.75|   17908.0|United Kingdom|\n",
      "|   536409|   84625A|PINK NEW BAROQUEC...|       1|2010-12-01 11:45:00|     2.95|   17908.0|United Kingdom|\n",
      "|   536409|    84906|PINK B'FLY C/COVE...|       1|2010-12-01 11:45:00|     5.95|   17908.0|United Kingdom|\n",
      "|   536409|    21867|PINK UNION JACK  ...|       1|2010-12-01 11:45:00|     1.25|   17908.0|United Kingdom|\n",
      "|   536409|    22074|6 RIBBONS SHIMMER...|       1|2010-12-01 11:45:00|     1.65|   17908.0|United Kingdom|\n",
      "|   536412|    21243|PINK  POLKADOT PL...|       1|2010-12-01 11:49:00|     1.69|   17920.0|United Kingdom|\n",
      "|   536412|    21710|FOLDING UMBRELLA ...|       1|2010-12-01 11:49:00|     4.95|   17920.0|United Kingdom|\n",
      "|   536415|    21986|PACK OF 12 PINK P...|      12|2010-12-01 11:57:00|     0.29|   12838.0|United Kingdom|\n",
      "|   536415|    21977|PACK OF 60 PINK P...|       3|2010-12-01 11:57:00|     0.55|   12838.0|United Kingdom|\n",
      "|   536415|    22566|FELTCRAFT HAIRBAN...|       3|2010-12-01 11:57:00|     0.85|   12838.0|United Kingdom|\n",
      "|   536415|    22565|FELTCRAFT HAIRBAN...|       3|2010-12-01 11:57:00|     0.85|   12838.0|United Kingdom|\n",
      "|   536425|    22449|SILK PURSE BABUSH...|       6|2010-12-01 12:08:00|     3.35|   13758.0|United Kingdom|\n",
      "|   536460|    21977|PACK OF 60 PINK P...|      24|2010-12-01 12:22:00|     0.55|   14849.0|United Kingdom|\n",
      "|   536464|   90200D|PINK SWEETHEART B...|       3|2010-12-01 12:23:00|     4.25|   17968.0|United Kingdom|\n",
      "|   536464|    22386|JUMBO BAG PINK PO...|       1|2010-12-01 12:23:00|     1.95|   17968.0|United Kingdom|\n",
      "|   536464|    21977|PACK OF 60 PINK P...|       1|2010-12-01 12:23:00|     0.55|   17968.0|United Kingdom|\n",
      "|   536464|    21122|SET/10 PINK POLKA...|       1|2010-12-01 12:23:00|     1.25|   17968.0|United Kingdom|\n",
      "|   536488|    21190|PINK HEARTS PAPER...|       1|2010-12-01 12:31:00|     1.65|   17897.0|United Kingdom|\n",
      "|   536520|    21867|PINK UNION JACK  ...|       1|2010-12-01 12:43:00|     1.25|   14729.0|United Kingdom|\n",
      "+---------+---------+--------------------+--------+-------------------+---------+----------+--------------+\n",
      "only showing top 40 rows\n",
      "\n"
     ]
    }
   ],
   "source": [
    "df.filter((df.UnitPrice > 600)|(instr(df.Description,\"PINK\")>0)).show(40)"
   ]
  },
  {
   "cell_type": "code",
   "execution_count": 73,
   "id": "b320c11f",
   "metadata": {},
   "outputs": [
    {
     "name": "stdout",
     "output_type": "stream",
     "text": [
      "+---------+-----------+\n",
      "|UnitPrice|isExpensive|\n",
      "+---------+-----------+\n",
      "|     2.55|         No|\n",
      "|     3.39|         No|\n",
      "|     2.75|         No|\n",
      "|     3.39|         No|\n",
      "|     3.39|         No|\n",
      "|     7.65|         No|\n",
      "|     4.25|         No|\n",
      "|     1.85|         No|\n",
      "|     1.85|         No|\n",
      "|     1.69|         No|\n",
      "|      2.1|         No|\n",
      "|      2.1|         No|\n",
      "|     3.75|         No|\n",
      "|     1.65|         No|\n",
      "|     4.25|         No|\n",
      "|     4.95|         No|\n",
      "|     9.95|         No|\n",
      "|     5.95|         No|\n",
      "|     5.95|         No|\n",
      "|     7.95|         No|\n",
      "+---------+-----------+\n",
      "only showing top 20 rows\n",
      "\n"
     ]
    }
   ],
   "source": [
    "df.withColumn(\"isExpensive\",df.UnitPrice > 100)\\\n",
    ".withColumn(\"isExpensive\",when(col(\"isExpensive\")==False,\"No\").otherwise(\"Yes\"))\\\n",
    ".select(\"UnitPrice\",\"isExpensive\").show()"
   ]
  },
  {
   "cell_type": "code",
   "execution_count": 74,
   "id": "614e663d",
   "metadata": {},
   "outputs": [
    {
     "name": "stdout",
     "output_type": "stream",
     "text": [
      "+---------+---------+-----------+--------+-----------+---------+----------+-------+\n",
      "|InvoiceNo|StockCode|Description|Quantity|InvoiceDate|UnitPrice|CustomerID|Country|\n",
      "+---------+---------+-----------+--------+-----------+---------+----------+-------+\n",
      "+---------+---------+-----------+--------+-----------+---------+----------+-------+\n",
      "\n"
     ]
    }
   ],
   "source": [
    "df.filter(col(\"Description\").eqNullSafe(\"Hi\")).show()"
   ]
  },
  {
   "cell_type": "code",
   "execution_count": 75,
   "id": "46c6943c",
   "metadata": {},
   "outputs": [],
   "source": [
    "from pyspark.sql.functions import initcap,lpad,lit,upper,lower,trim,lpad,rpad\n",
    "from pyspark.sql import Row"
   ]
  },
  {
   "cell_type": "code",
   "execution_count": 76,
   "id": "45e53b2d",
   "metadata": {},
   "outputs": [],
   "source": [
    "df1 = spark.createDataFrame(Row([\"Hello\"])).withColumnRenamed(\"_1\",\"value\")\n",
    "# lpad(initcap(\"hello\"),8,'a')"
   ]
  },
  {
   "cell_type": "code",
   "execution_count": 77,
   "id": "0b58ca34",
   "metadata": {},
   "outputs": [
    {
     "name": "stderr",
     "output_type": "stream",
     "text": [
      "\r",
      "[Stage 74:>                                                         (0 + 1) / 1]\r"
     ]
    },
    {
     "name": "stdout",
     "output_type": "stream",
     "text": [
      "+--------+\n",
      "|   value|\n",
      "+--------+\n",
      "|aaaHello|\n",
      "+--------+\n",
      "\n"
     ]
    },
    {
     "name": "stderr",
     "output_type": "stream",
     "text": [
      "\r",
      "                                                                                \r"
     ]
    }
   ],
   "source": [
    "df1.withColumn(\"value\",lpad(initcap(col(\"value\")),8,'a')).show()"
   ]
  },
  {
   "cell_type": "code",
   "execution_count": 78,
   "id": "e2946875",
   "metadata": {},
   "outputs": [
    {
     "name": "stdout",
     "output_type": "stream",
     "text": [
      "+-----+\n",
      "|value|\n",
      "+-----+\n",
      "|Hello|\n",
      "+-----+\n",
      "\n"
     ]
    }
   ],
   "source": [
    "df1.show()"
   ]
  },
  {
   "cell_type": "code",
   "execution_count": 79,
   "id": "0ceac5ac",
   "metadata": {},
   "outputs": [
    {
     "name": "stdout",
     "output_type": "stream",
     "text": [
      "+---------+---------+--------------------+--------+-------------------+---------+----------+--------------+\n",
      "|InvoiceNo|StockCode|         Description|Quantity|        InvoiceDate|UnitPrice|CustomerID|       Country|\n",
      "+---------+---------+--------------------+--------+-------------------+---------+----------+--------------+\n",
      "|   536365|   85123A|WHITE HANGING HEA...|       6|2010-12-01 08:26:00|     2.55|   17850.0|United Kingdom|\n",
      "|   536365|    71053| WHITE METAL LANTERN|       6|2010-12-01 08:26:00|     3.39|   17850.0|United Kingdom|\n",
      "|   536365|   84406B|CREAM CUPID HEART...|       8|2010-12-01 08:26:00|     2.75|   17850.0|United Kingdom|\n",
      "|   536365|   84029G|KNITTED UNION FLA...|       6|2010-12-01 08:26:00|     3.39|   17850.0|United Kingdom|\n",
      "|   536365|   84029E|RED WOOLLY HOTTIE...|       6|2010-12-01 08:26:00|     3.39|   17850.0|United Kingdom|\n",
      "|   536365|    22752|SET 7 BABUSHKA NE...|       2|2010-12-01 08:26:00|     7.65|   17850.0|United Kingdom|\n",
      "|   536365|    21730|GLASS STAR FROSTE...|       6|2010-12-01 08:26:00|     4.25|   17850.0|United Kingdom|\n",
      "|   536366|    22633|HAND WARMER UNION...|       6|2010-12-01 08:28:00|     1.85|   17850.0|United Kingdom|\n",
      "|   536366|    22632|HAND WARMER RED P...|       6|2010-12-01 08:28:00|     1.85|   17850.0|United Kingdom|\n",
      "|   536367|    84879|ASSORTED COLOUR B...|      32|2010-12-01 08:34:00|     1.69|   13047.0|United Kingdom|\n",
      "|   536367|    22745|POPPY'S PLAYHOUSE...|       6|2010-12-01 08:34:00|      2.1|   13047.0|United Kingdom|\n",
      "|   536367|    22748|POPPY'S PLAYHOUSE...|       6|2010-12-01 08:34:00|      2.1|   13047.0|United Kingdom|\n",
      "|   536367|    22749|FELTCRAFT PRINCES...|       8|2010-12-01 08:34:00|     3.75|   13047.0|United Kingdom|\n",
      "|   536367|    22310|IVORY KNITTED MUG...|       6|2010-12-01 08:34:00|     1.65|   13047.0|United Kingdom|\n",
      "|   536367|    84969|BOX OF 6 ASSORTED...|       6|2010-12-01 08:34:00|     4.25|   13047.0|United Kingdom|\n",
      "|   536367|    22623|BOX OF VINTAGE JI...|       3|2010-12-01 08:34:00|     4.95|   13047.0|United Kingdom|\n",
      "|   536367|    22622|BOX OF VINTAGE AL...|       2|2010-12-01 08:34:00|     9.95|   13047.0|United Kingdom|\n",
      "|   536367|    21754|HOME BUILDING BLO...|       3|2010-12-01 08:34:00|     5.95|   13047.0|United Kingdom|\n",
      "|   536367|    21755|LOVE BUILDING BLO...|       3|2010-12-01 08:34:00|     5.95|   13047.0|United Kingdom|\n",
      "|   536367|    21777|RECIPE BOX WITH M...|       4|2010-12-01 08:34:00|     7.95|   13047.0|United Kingdom|\n",
      "+---------+---------+--------------------+--------+-------------------+---------+----------+--------------+\n",
      "only showing top 20 rows\n",
      "\n"
     ]
    }
   ],
   "source": [
    "df.show()"
   ]
  },
  {
   "cell_type": "code",
   "execution_count": 80,
   "id": "c2680f5b",
   "metadata": {},
   "outputs": [
    {
     "name": "stdout",
     "output_type": "stream",
     "text": [
      "+---------+---------+--------------------+--------+-------------------+---------+----------+--------------+\n",
      "|InvoiceNo|StockCode|         Description|Quantity|        InvoiceDate|UnitPrice|CustomerID|       Country|\n",
      "+---------+---------+--------------------+--------+-------------------+---------+----------+--------------+\n",
      "|   536365|   85123A|White Hanging Hea...|       6|2010-12-01 08:26:00|     2.55|   17850.0|United Kingdom|\n",
      "|   536365|    71053| White Metal Lantern|       6|2010-12-01 08:26:00|     3.39|   17850.0|United Kingdom|\n",
      "|   536365|   84406B|Cream Cupid Heart...|       8|2010-12-01 08:26:00|     2.75|   17850.0|United Kingdom|\n",
      "|   536365|   84029G|Knitted Union Fla...|       6|2010-12-01 08:26:00|     3.39|   17850.0|United Kingdom|\n",
      "|   536365|   84029E|Red Woolly Hottie...|       6|2010-12-01 08:26:00|     3.39|   17850.0|United Kingdom|\n",
      "|   536365|    22752|Set 7 Babushka Ne...|       2|2010-12-01 08:26:00|     7.65|   17850.0|United Kingdom|\n",
      "|   536365|    21730|Glass Star Froste...|       6|2010-12-01 08:26:00|     4.25|   17850.0|United Kingdom|\n",
      "|   536366|    22633|Hand Warmer Union...|       6|2010-12-01 08:28:00|     1.85|   17850.0|United Kingdom|\n",
      "|   536366|    22632|Hand Warmer Red P...|       6|2010-12-01 08:28:00|     1.85|   17850.0|United Kingdom|\n",
      "|   536367|    84879|Assorted Colour B...|      32|2010-12-01 08:34:00|     1.69|   13047.0|United Kingdom|\n",
      "|   536367|    22745|Poppy's Playhouse...|       6|2010-12-01 08:34:00|      2.1|   13047.0|United Kingdom|\n",
      "|   536367|    22748|Poppy's Playhouse...|       6|2010-12-01 08:34:00|      2.1|   13047.0|United Kingdom|\n",
      "|   536367|    22749|Feltcraft Princes...|       8|2010-12-01 08:34:00|     3.75|   13047.0|United Kingdom|\n",
      "|   536367|    22310|Ivory Knitted Mug...|       6|2010-12-01 08:34:00|     1.65|   13047.0|United Kingdom|\n",
      "|   536367|    84969|Box Of 6 Assorted...|       6|2010-12-01 08:34:00|     4.25|   13047.0|United Kingdom|\n",
      "|   536367|    22623|Box Of Vintage Ji...|       3|2010-12-01 08:34:00|     4.95|   13047.0|United Kingdom|\n",
      "|   536367|    22622|Box Of Vintage Al...|       2|2010-12-01 08:34:00|     9.95|   13047.0|United Kingdom|\n",
      "|   536367|    21754|Home Building Blo...|       3|2010-12-01 08:34:00|     5.95|   13047.0|United Kingdom|\n",
      "|   536367|    21755|Love Building Blo...|       3|2010-12-01 08:34:00|     5.95|   13047.0|United Kingdom|\n",
      "|   536367|    21777|Recipe Box With M...|       4|2010-12-01 08:34:00|     7.95|   13047.0|United Kingdom|\n",
      "+---------+---------+--------------------+--------+-------------------+---------+----------+--------------+\n",
      "only showing top 20 rows\n",
      "\n"
     ]
    }
   ],
   "source": [
    "df.withColumn(\"Description\",initcap(df.Description)).show()"
   ]
  },
  {
   "cell_type": "code",
   "execution_count": 81,
   "id": "25960aa8",
   "metadata": {},
   "outputs": [
    {
     "name": "stdout",
     "output_type": "stream",
     "text": [
      "+---------+---------+--------------------+--------+-------------------+---------+----------+--------------+\n",
      "|InvoiceNo|StockCode|         Description|Quantity|        InvoiceDate|UnitPrice|CustomerID|       Country|\n",
      "+---------+---------+--------------------+--------+-------------------+---------+----------+--------------+\n",
      "|   536365|   85123A|WHITE HANGING HEA...|       6|2010-12-01 08:26:00|     2.55|   17850.0|United Kingdom|\n",
      "|   536365|    71053| WHITE METAL LANTERN|       6|2010-12-01 08:26:00|     3.39|   17850.0|United Kingdom|\n",
      "|   536365|   84406B|CREAM CUPID HEART...|       8|2010-12-01 08:26:00|     2.75|   17850.0|United Kingdom|\n",
      "|   536365|   84029G|KNITTED UNION FLA...|       6|2010-12-01 08:26:00|     3.39|   17850.0|United Kingdom|\n",
      "|   536365|   84029E|RED WOOLLY HOTTIE...|       6|2010-12-01 08:26:00|     3.39|   17850.0|United Kingdom|\n",
      "|   536365|    22752|SET 7 BABUSHKA NE...|       2|2010-12-01 08:26:00|     7.65|   17850.0|United Kingdom|\n",
      "|   536365|    21730|GLASS STAR FROSTE...|       6|2010-12-01 08:26:00|     4.25|   17850.0|United Kingdom|\n",
      "|   536366|    22633|HAND WARMER UNION...|       6|2010-12-01 08:28:00|     1.85|   17850.0|United Kingdom|\n",
      "|   536366|    22632|HAND WARMER RED P...|       6|2010-12-01 08:28:00|     1.85|   17850.0|United Kingdom|\n",
      "|   536367|    84879|ASSORTED COLOUR B...|      32|2010-12-01 08:34:00|     1.69|   13047.0|United Kingdom|\n",
      "|   536367|    22745|POPPY'S PLAYHOUSE...|       6|2010-12-01 08:34:00|      2.1|   13047.0|United Kingdom|\n",
      "|   536367|    22748|POPPY'S PLAYHOUSE...|       6|2010-12-01 08:34:00|      2.1|   13047.0|United Kingdom|\n",
      "|   536367|    22749|FELTCRAFT PRINCES...|       8|2010-12-01 08:34:00|     3.75|   13047.0|United Kingdom|\n",
      "|   536367|    22310|IVORY KNITTED MUG...|       6|2010-12-01 08:34:00|     1.65|   13047.0|United Kingdom|\n",
      "|   536367|    84969|BOX OF 6 ASSORTED...|       6|2010-12-01 08:34:00|     4.25|   13047.0|United Kingdom|\n",
      "|   536367|    22623|BOX OF VINTAGE JI...|       3|2010-12-01 08:34:00|     4.95|   13047.0|United Kingdom|\n",
      "|   536367|    22622|BOX OF VINTAGE AL...|       2|2010-12-01 08:34:00|     9.95|   13047.0|United Kingdom|\n",
      "|   536367|    21754|HOME BUILDING BLO...|       3|2010-12-01 08:34:00|     5.95|   13047.0|United Kingdom|\n",
      "|   536367|    21755|LOVE BUILDING BLO...|       3|2010-12-01 08:34:00|     5.95|   13047.0|United Kingdom|\n",
      "|   536367|    21777|RECIPE BOX WITH M...|       4|2010-12-01 08:34:00|     7.95|   13047.0|United Kingdom|\n",
      "+---------+---------+--------------------+--------+-------------------+---------+----------+--------------+\n",
      "only showing top 20 rows\n",
      "\n"
     ]
    }
   ],
   "source": [
    "df.withColumn(\"Description\",upper(col(\"Description\"))).show()"
   ]
  },
  {
   "cell_type": "code",
   "execution_count": 82,
   "id": "d7d32545",
   "metadata": {},
   "outputs": [
    {
     "name": "stdout",
     "output_type": "stream",
     "text": [
      "+---------+---------+--------------------+--------+-------------------+---------+----------+--------------+\n",
      "|InvoiceNo|StockCode|         Description|Quantity|        InvoiceDate|UnitPrice|CustomerID|       Country|\n",
      "+---------+---------+--------------------+--------+-------------------+---------+----------+--------------+\n",
      "|   536365|   85123A|WHITE HANGING HEA...|       6|2010-12-01 08:26:00|     2.55|   17850.0|United Kingdom|\n",
      "|   536365|    71053| WHITE METAL LANTERN|       6|2010-12-01 08:26:00|     3.39|   17850.0|United Kingdom|\n",
      "|   536365|   84406B|CREAM CUPID HEART...|       8|2010-12-01 08:26:00|     2.75|   17850.0|United Kingdom|\n",
      "|   536365|   84029G|KNITTED UNION FLA...|       6|2010-12-01 08:26:00|     3.39|   17850.0|United Kingdom|\n",
      "|   536365|   84029E|RED WOOLLY HOTTIE...|       6|2010-12-01 08:26:00|     3.39|   17850.0|United Kingdom|\n",
      "|   536365|    22752|SET 7 BABUSHKA NE...|       2|2010-12-01 08:26:00|     7.65|   17850.0|United Kingdom|\n",
      "|   536365|    21730|GLASS STAR FROSTE...|       6|2010-12-01 08:26:00|     4.25|   17850.0|United Kingdom|\n",
      "|   536366|    22633|HAND WARMER UNION...|       6|2010-12-01 08:28:00|     1.85|   17850.0|United Kingdom|\n",
      "|   536366|    22632|HAND WARMER RED P...|       6|2010-12-01 08:28:00|     1.85|   17850.0|United Kingdom|\n",
      "|   536367|    84879|ASSORTED COLOUR B...|      32|2010-12-01 08:34:00|     1.69|   13047.0|United Kingdom|\n",
      "|   536367|    22745|POPPY'S PLAYHOUSE...|       6|2010-12-01 08:34:00|      2.1|   13047.0|United Kingdom|\n",
      "|   536367|    22748|POPPY'S PLAYHOUSE...|       6|2010-12-01 08:34:00|      2.1|   13047.0|United Kingdom|\n",
      "|   536367|    22749|FELTCRAFT PRINCES...|       8|2010-12-01 08:34:00|     3.75|   13047.0|United Kingdom|\n",
      "|   536367|    22310|IVORY KNITTED MUG...|       6|2010-12-01 08:34:00|     1.65|   13047.0|United Kingdom|\n",
      "|   536367|    84969|BOX OF 6 ASSORTED...|       6|2010-12-01 08:34:00|     4.25|   13047.0|United Kingdom|\n",
      "|   536367|    22623|BOX OF VINTAGE JI...|       3|2010-12-01 08:34:00|     4.95|   13047.0|United Kingdom|\n",
      "|   536367|    22622|BOX OF VINTAGE AL...|       2|2010-12-01 08:34:00|     9.95|   13047.0|United Kingdom|\n",
      "|   536367|    21754|HOME BUILDING BLO...|       3|2010-12-01 08:34:00|     5.95|   13047.0|United Kingdom|\n",
      "|   536367|    21755|LOVE BUILDING BLO...|       3|2010-12-01 08:34:00|     5.95|   13047.0|United Kingdom|\n",
      "|   536367|    21777|RECIPE BOX WITH M...|       4|2010-12-01 08:34:00|     7.95|   13047.0|United Kingdom|\n",
      "+---------+---------+--------------------+--------+-------------------+---------+----------+--------------+\n",
      "only showing top 20 rows\n",
      "\n"
     ]
    }
   ],
   "source": [
    "df.withColumn(\"Description\",trim(col(\"Description\"))).show()"
   ]
  },
  {
   "cell_type": "code",
   "execution_count": 83,
   "id": "a59dbf3b",
   "metadata": {},
   "outputs": [
    {
     "name": "stdout",
     "output_type": "stream",
     "text": [
      "+---------+---------+------------------------------+--------+-------------------+---------+----------+--------------+\n",
      "|InvoiceNo|StockCode|Description                   |Quantity|InvoiceDate        |UnitPrice|CustomerID|Country       |\n",
      "+---------+---------+------------------------------+--------+-------------------+---------+----------+--------------+\n",
      "|536365   |85123A   |WHITE HANGING HEART T-LIGHT HO|6       |2010-12-01 08:26:00|2.55     |17850.0   |United Kingdom|\n",
      "|536365   |71053    |aaaaaaaaaaaWHITE METAL LANTERN|6       |2010-12-01 08:26:00|3.39     |17850.0   |United Kingdom|\n",
      "|536365   |84406B   |CREAM CUPID HEARTS COAT HANGER|8       |2010-12-01 08:26:00|2.75     |17850.0   |United Kingdom|\n",
      "|536365   |84029G   |KNITTED UNION FLAG HOT WATER B|6       |2010-12-01 08:26:00|3.39     |17850.0   |United Kingdom|\n",
      "|536365   |84029E   |RED WOOLLY HOTTIE WHITE HEART.|6       |2010-12-01 08:26:00|3.39     |17850.0   |United Kingdom|\n",
      "|536365   |22752    |aaSET 7 BABUSHKA NESTING BOXES|2       |2010-12-01 08:26:00|7.65     |17850.0   |United Kingdom|\n",
      "|536365   |21730    |GLASS STAR FROSTED T-LIGHT HOL|6       |2010-12-01 08:26:00|4.25     |17850.0   |United Kingdom|\n",
      "|536366   |22633    |aaaaaaaaHAND WARMER UNION JACK|6       |2010-12-01 08:28:00|1.85     |17850.0   |United Kingdom|\n",
      "|536366   |22632    |aaaaaHAND WARMER RED POLKA DOT|6       |2010-12-01 08:28:00|1.85     |17850.0   |United Kingdom|\n",
      "|536367   |84879    |aASSORTED COLOUR BIRD ORNAMENT|32      |2010-12-01 08:34:00|1.69     |13047.0   |United Kingdom|\n",
      "|536367   |22745    |aaaaPOPPY'S PLAYHOUSE BEDROOM |6       |2010-12-01 08:34:00|2.1      |13047.0   |United Kingdom|\n",
      "|536367   |22748    |aaaaaPOPPY'S PLAYHOUSE KITCHEN|6       |2010-12-01 08:34:00|2.1      |13047.0   |United Kingdom|\n",
      "|536367   |22749    |FELTCRAFT PRINCESS CHARLOTTE D|8       |2010-12-01 08:34:00|3.75     |13047.0   |United Kingdom|\n",
      "|536367   |22310    |aaaaaaaIVORY KNITTED MUG COSY |6       |2010-12-01 08:34:00|1.65     |13047.0   |United Kingdom|\n",
      "|536367   |84969    |BOX OF 6 ASSORTED COLOUR TEASP|6       |2010-12-01 08:34:00|4.25     |13047.0   |United Kingdom|\n",
      "|536367   |22623    |aBOX OF VINTAGE JIGSAW BLOCKS |3       |2010-12-01 08:34:00|4.95     |13047.0   |United Kingdom|\n",
      "|536367   |22622    |BOX OF VINTAGE ALPHABET BLOCKS|2       |2010-12-01 08:34:00|9.95     |13047.0   |United Kingdom|\n",
      "|536367   |21754    |aaaaaaHOME BUILDING BLOCK WORD|3       |2010-12-01 08:34:00|5.95     |13047.0   |United Kingdom|\n",
      "|536367   |21755    |aaaaaaLOVE BUILDING BLOCK WORD|3       |2010-12-01 08:34:00|5.95     |13047.0   |United Kingdom|\n",
      "|536367   |21777    |aaaRECIPE BOX WITH METAL HEART|4       |2010-12-01 08:34:00|7.95     |13047.0   |United Kingdom|\n",
      "+---------+---------+------------------------------+--------+-------------------+---------+----------+--------------+\n",
      "only showing top 20 rows\n",
      "\n"
     ]
    }
   ],
   "source": [
    "df.withColumn(\"Description\",lpad(col(\"Description\"),30,'a')).show(truncate=False)"
   ]
  },
  {
   "cell_type": "code",
   "execution_count": 84,
   "id": "cf191246",
   "metadata": {},
   "outputs": [],
   "source": [
    "from pyspark.sql.functions import current_date,current_timestamp"
   ]
  },
  {
   "cell_type": "code",
   "execution_count": 85,
   "id": "318cbf62",
   "metadata": {},
   "outputs": [],
   "source": [
    "dateDF = spark.range(10).withColumn(\"today\",current_date()).withColumn(\"now\",current_timestamp())"
   ]
  },
  {
   "cell_type": "code",
   "execution_count": 86,
   "id": "3746c519",
   "metadata": {},
   "outputs": [
    {
     "name": "stdout",
     "output_type": "stream",
     "text": [
      "+---+----------+-----------------------+\n",
      "|id |today     |now                    |\n",
      "+---+----------+-----------------------+\n",
      "|0  |2021-09-29|2021-09-29 06:39:14.188|\n",
      "|1  |2021-09-29|2021-09-29 06:39:14.188|\n",
      "|2  |2021-09-29|2021-09-29 06:39:14.188|\n",
      "|3  |2021-09-29|2021-09-29 06:39:14.188|\n",
      "|4  |2021-09-29|2021-09-29 06:39:14.188|\n",
      "|5  |2021-09-29|2021-09-29 06:39:14.188|\n",
      "|6  |2021-09-29|2021-09-29 06:39:14.188|\n",
      "|7  |2021-09-29|2021-09-29 06:39:14.188|\n",
      "|8  |2021-09-29|2021-09-29 06:39:14.188|\n",
      "|9  |2021-09-29|2021-09-29 06:39:14.188|\n",
      "+---+----------+-----------------------+\n",
      "\n"
     ]
    }
   ],
   "source": [
    "dateDF.show(truncate=False)"
   ]
  },
  {
   "cell_type": "code",
   "execution_count": 87,
   "id": "def6b1b0",
   "metadata": {},
   "outputs": [],
   "source": [
    "dateDF.createOrReplaceTempView(\"dateTable\")"
   ]
  },
  {
   "cell_type": "code",
   "execution_count": 88,
   "id": "4d1b19fd",
   "metadata": {},
   "outputs": [
    {
     "name": "stdout",
     "output_type": "stream",
     "text": [
      "+---+----------+-----------------------+\n",
      "|id |today     |now                    |\n",
      "+---+----------+-----------------------+\n",
      "|0  |2021-09-29|2021-09-29 06:39:14.577|\n",
      "|1  |2021-09-29|2021-09-29 06:39:14.577|\n",
      "|2  |2021-09-29|2021-09-29 06:39:14.577|\n",
      "|3  |2021-09-29|2021-09-29 06:39:14.577|\n",
      "|4  |2021-09-29|2021-09-29 06:39:14.577|\n",
      "|5  |2021-09-29|2021-09-29 06:39:14.577|\n",
      "|6  |2021-09-29|2021-09-29 06:39:14.577|\n",
      "|7  |2021-09-29|2021-09-29 06:39:14.577|\n",
      "|8  |2021-09-29|2021-09-29 06:39:14.577|\n",
      "|9  |2021-09-29|2021-09-29 06:39:14.577|\n",
      "+---+----------+-----------------------+\n",
      "\n"
     ]
    }
   ],
   "source": [
    "spark.sql(\"select * from dateTable\").show(truncate=False)"
   ]
  },
  {
   "cell_type": "code",
   "execution_count": 89,
   "id": "381bf7a4",
   "metadata": {},
   "outputs": [
    {
     "name": "stdout",
     "output_type": "stream",
     "text": [
      "root\n",
      " |-- id: long (nullable = false)\n",
      " |-- today: date (nullable = false)\n",
      " |-- now: timestamp (nullable = false)\n",
      "\n"
     ]
    }
   ],
   "source": [
    "dateDF.printSchema()"
   ]
  },
  {
   "cell_type": "code",
   "execution_count": 90,
   "id": "5f7e51fd",
   "metadata": {},
   "outputs": [],
   "source": [
    "from pyspark.sql.functions import date_add,date_sub"
   ]
  },
  {
   "cell_type": "code",
   "execution_count": 91,
   "id": "9187eb19",
   "metadata": {},
   "outputs": [
    {
     "name": "stdout",
     "output_type": "stream",
     "text": [
      "+----------+----------+\n",
      "|Future 5  |Past 5    |\n",
      "+----------+----------+\n",
      "|2021-10-04|2021-09-24|\n",
      "|2021-10-04|2021-09-24|\n",
      "|2021-10-04|2021-09-24|\n",
      "|2021-10-04|2021-09-24|\n",
      "|2021-10-04|2021-09-24|\n",
      "|2021-10-04|2021-09-24|\n",
      "|2021-10-04|2021-09-24|\n",
      "|2021-10-04|2021-09-24|\n",
      "|2021-10-04|2021-09-24|\n",
      "|2021-10-04|2021-09-24|\n",
      "+----------+----------+\n",
      "\n"
     ]
    }
   ],
   "source": [
    "dateDF.select(\\\n",
    "              date_add(col(\"today\"),5).alias(\"Future 5\")\\\n",
    "              ,date_sub(col(\"today\"),5).alias(\"Past 5\")\\\n",
    "             )\\\n",
    ".show(truncate=False)"
   ]
  },
  {
   "cell_type": "code",
   "execution_count": 92,
   "id": "f9b82f46",
   "metadata": {},
   "outputs": [],
   "source": [
    "from pyspark.sql.functions import datediff,months_between,to_date"
   ]
  },
  {
   "cell_type": "code",
   "execution_count": 93,
   "id": "628e282d",
   "metadata": {},
   "outputs": [
    {
     "name": "stdout",
     "output_type": "stream",
     "text": [
      "+-------------------------+\n",
      "|datediff(week_ago, today)|\n",
      "+-------------------------+\n",
      "|                       -7|\n",
      "+-------------------------+\n",
      "only showing top 1 row\n",
      "\n"
     ]
    }
   ],
   "source": [
    "dateDF.withColumn(\"week_ago\",date_sub(col(\"today\"),7))\\\n",
    "        .select(datediff(col(\"week_ago\"),col(\"today\"))).show(1)"
   ]
  },
  {
   "cell_type": "code",
   "execution_count": 94,
   "id": "297be8d2",
   "metadata": {},
   "outputs": [],
   "source": [
    "#add columns, start and end - 2016-01-01 and 2017-05-22"
   ]
  },
  {
   "cell_type": "code",
   "execution_count": 95,
   "id": "c2a5f3d2",
   "metadata": {},
   "outputs": [],
   "source": [
    "dateDF = dateDF.withColumn(\"start\",to_date(lit(\"2016-01-01\")))\\\n",
    "                .withColumn(\"end\",to_date(lit(\"2017-05-22\")))\\\n",
    "                .select(months_between(col(\"start\"),col(\"end\")))"
   ]
  },
  {
   "cell_type": "code",
   "execution_count": 96,
   "id": "4d6fd223",
   "metadata": {},
   "outputs": [
    {
     "name": "stdout",
     "output_type": "stream",
     "text": [
      "+--------------------------------+\n",
      "|months_between(start, end, true)|\n",
      "+--------------------------------+\n",
      "|                    -16.67741935|\n",
      "|                    -16.67741935|\n",
      "|                    -16.67741935|\n",
      "|                    -16.67741935|\n",
      "|                    -16.67741935|\n",
      "|                    -16.67741935|\n",
      "|                    -16.67741935|\n",
      "|                    -16.67741935|\n",
      "|                    -16.67741935|\n",
      "|                    -16.67741935|\n",
      "+--------------------------------+\n",
      "\n"
     ]
    }
   ],
   "source": [
    "dateDF.show()"
   ]
  },
  {
   "cell_type": "code",
   "execution_count": 107,
   "id": "d6de372e",
   "metadata": {},
   "outputs": [
    {
     "name": "stdout",
     "output_type": "stream",
     "text": [
      "+----+\n",
      "|desc|\n",
      "+----+\n",
      "|true|\n",
      "|true|\n",
      "|true|\n",
      "|true|\n",
      "|true|\n",
      "|true|\n",
      "|true|\n",
      "|true|\n",
      "|true|\n",
      "|true|\n",
      "+----+\n",
      "\n"
     ]
    }
   ],
   "source": [
    "df.select(df.Description.isNull()).withColumnRenamed(\"(Description IS NULL)\",\"desc\")\\\n",
    ".filter(col(\"desc\")==True)\\\n",
    ".show()"
   ]
  },
  {
   "cell_type": "code",
   "execution_count": 109,
   "id": "6b46f159",
   "metadata": {},
   "outputs": [
    {
     "name": "stdout",
     "output_type": "stream",
     "text": [
      "+---------+---------+-----------+--------+-------------------+---------+----------+--------------+\n",
      "|InvoiceNo|StockCode|Description|Quantity|        InvoiceDate|UnitPrice|CustomerID|       Country|\n",
      "+---------+---------+-----------+--------+-------------------+---------+----------+--------------+\n",
      "|   536414|    22139|       null|      56|2010-12-01 11:52:00|      0.0|      null|United Kingdom|\n",
      "|   536545|    21134|       null|       1|2010-12-01 14:32:00|      0.0|      null|United Kingdom|\n",
      "|   536546|    22145|       null|       1|2010-12-01 14:33:00|      0.0|      null|United Kingdom|\n",
      "|   536547|    37509|       null|       1|2010-12-01 14:33:00|      0.0|      null|United Kingdom|\n",
      "|   536549|   85226A|       null|       1|2010-12-01 14:34:00|      0.0|      null|United Kingdom|\n",
      "|   536550|    85044|       null|       1|2010-12-01 14:34:00|      0.0|      null|United Kingdom|\n",
      "|   536552|    20950|       null|       1|2010-12-01 14:34:00|      0.0|      null|United Kingdom|\n",
      "|   536553|    37461|       null|       3|2010-12-01 14:35:00|      0.0|      null|United Kingdom|\n",
      "|   536554|    84670|       null|      23|2010-12-01 14:35:00|      0.0|      null|United Kingdom|\n",
      "|   536589|    21777|       null|     -10|2010-12-01 16:50:00|      0.0|      null|United Kingdom|\n",
      "+---------+---------+-----------+--------+-------------------+---------+----------+--------------+\n",
      "\n"
     ]
    }
   ],
   "source": [
    "df.filter(col(\"Description\").isNull()).show()"
   ]
  },
  {
   "cell_type": "code",
   "execution_count": 110,
   "id": "8ea0fc43",
   "metadata": {},
   "outputs": [],
   "source": [
    "from pyspark.sql.functions import coalesce"
   ]
  },
  {
   "cell_type": "code",
   "execution_count": 122,
   "id": "3c1517ba",
   "metadata": {},
   "outputs": [
    {
     "name": "stdout",
     "output_type": "stream",
     "text": [
      "+-------------------------+\n",
      "|coalesce(Description, NA)|\n",
      "+-------------------------+\n",
      "|                       NA|\n",
      "|                       NA|\n",
      "|                       NA|\n",
      "|                       NA|\n",
      "|                       NA|\n",
      "|                       NA|\n",
      "|                       NA|\n",
      "|                       NA|\n",
      "|                       NA|\n",
      "|                       NA|\n",
      "+-------------------------+\n",
      "\n"
     ]
    }
   ],
   "source": [
    "df.filter(col(\"Description\").isNull()).select(coalesce(col(\"Description\"),lit(\"NA\"))).show()"
   ]
  },
  {
   "cell_type": "code",
   "execution_count": 112,
   "id": "a931b4d9",
   "metadata": {},
   "outputs": [
    {
     "name": "stderr",
     "output_type": "stream",
     "text": [
      "\r",
      "[Stage 106:==================================================>   (94 + 3) / 100]\r",
      "\r",
      "                                                                                \r"
     ]
    },
    {
     "name": "stdout",
     "output_type": "stream",
     "text": [
      "+--------------+\n",
      "|       Country|\n",
      "+--------------+\n",
      "|       Germany|\n",
      "|        France|\n",
      "|          EIRE|\n",
      "|        Norway|\n",
      "|     Australia|\n",
      "|United Kingdom|\n",
      "|   Netherlands|\n",
      "+--------------+\n",
      "\n"
     ]
    }
   ],
   "source": [
    "df.select(\"Country\").distinct().show()"
   ]
  },
  {
   "cell_type": "code",
   "execution_count": 114,
   "id": "80acf9ca",
   "metadata": {},
   "outputs": [
    {
     "name": "stdout",
     "output_type": "stream",
     "text": [
      "+---------+---------+--------------------+--------+-------------------+---------+----------+---------+\n",
      "|InvoiceNo|StockCode|         Description|Quantity|        InvoiceDate|UnitPrice|CustomerID|  Country|\n",
      "+---------+---------+--------------------+--------+-------------------+---------+----------+---------+\n",
      "|   536389|    22941|CHRISTMAS LIGHTS ...|       6|2010-12-01 10:03:00|      8.5|   12431.0|Australia|\n",
      "|   536389|    21622|VINTAGE UNION JAC...|       8|2010-12-01 10:03:00|     4.95|   12431.0|Australia|\n",
      "|   536389|    21791|VINTAGE HEADS AND...|      12|2010-12-01 10:03:00|     1.25|   12431.0|Australia|\n",
      "|   536389|   35004C|SET OF 3 COLOURED...|       6|2010-12-01 10:03:00|     5.45|   12431.0|Australia|\n",
      "|   536389|   35004G|SET OF 3 GOLD FLY...|       4|2010-12-01 10:03:00|     6.35|   12431.0|Australia|\n",
      "|   536389|   85014B|RED RETROSPOT UMB...|       6|2010-12-01 10:03:00|     5.95|   12431.0|Australia|\n",
      "|   536389|   85014A|BLACK/BLUE POLKAD...|       3|2010-12-01 10:03:00|     5.95|   12431.0|Australia|\n",
      "|   536389|    22193|RED DINER WALL CLOCK|       2|2010-12-01 10:03:00|      8.5|   12431.0|Australia|\n",
      "|   536389|    22726|ALARM CLOCK BAKEL...|       4|2010-12-01 10:03:00|     3.75|   12431.0|Australia|\n",
      "|   536389|    22727|ALARM CLOCK BAKEL...|       4|2010-12-01 10:03:00|     3.75|   12431.0|Australia|\n",
      "|   536389|    22192|BLUE DINER WALL C...|       2|2010-12-01 10:03:00|      8.5|   12431.0|Australia|\n",
      "|   536389|    22191|IVORY DINER WALL ...|       2|2010-12-01 10:03:00|      8.5|   12431.0|Australia|\n",
      "|   536389|    22195|LARGE HEART MEASU...|      24|2010-12-01 10:03:00|     1.65|   12431.0|Australia|\n",
      "|   536389|    22196|SMALL HEART MEASU...|      24|2010-12-01 10:03:00|     0.85|   12431.0|Australia|\n",
      "|   536527|    22809|SET OF 6 T-LIGHTS...|       6|2010-12-01 13:04:00|     2.95|   12662.0|  Germany|\n",
      "|   536527|    84347|ROTATING SILVER A...|       6|2010-12-01 13:04:00|     2.55|   12662.0|  Germany|\n",
      "|   536527|    84945|MULTI COLOUR SILV...|      12|2010-12-01 13:04:00|     0.85|   12662.0|  Germany|\n",
      "|   536527|    22242|5 HOOK HANGER MAG...|      12|2010-12-01 13:04:00|     1.65|   12662.0|  Germany|\n",
      "|   536527|    22244|3 HOOK HANGER MAG...|      12|2010-12-01 13:04:00|     1.95|   12662.0|  Germany|\n",
      "|   536527|    22243|5 HOOK HANGER RED...|      12|2010-12-01 13:04:00|     1.65|   12662.0|  Germany|\n",
      "+---------+---------+--------------------+--------+-------------------+---------+----------+---------+\n",
      "only showing top 20 rows\n",
      "\n"
     ]
    }
   ],
   "source": [
    "df.filter(col(\"Country\").isin([\"Germany\",\"Australia\"])).show()"
   ]
  },
  {
   "cell_type": "code",
   "execution_count": 124,
   "id": "bf3f37a4",
   "metadata": {},
   "outputs": [
    {
     "name": "stdout",
     "output_type": "stream",
     "text": [
      "+---------+---------+-----------+--------+-----------+---------+----------+-------+\n",
      "|InvoiceNo|StockCode|Description|Quantity|InvoiceDate|UnitPrice|CustomerID|Country|\n",
      "+---------+---------+-----------+--------+-----------+---------+----------+-------+\n",
      "+---------+---------+-----------+--------+-----------+---------+----------+-------+\n",
      "\n"
     ]
    }
   ],
   "source": [
    "df.na.drop(\"all\",subset=[\"Description\",\"CustomerID\"]).filter(col(\"Description\").isNull()).show()"
   ]
  },
  {
   "cell_type": "code",
   "execution_count": 127,
   "id": "ccf58303",
   "metadata": {},
   "outputs": [
    {
     "name": "stdout",
     "output_type": "stream",
     "text": [
      "+---------+---------+--------------------+--------+-------------------+---------+----------+--------------+\n",
      "|InvoiceNo|StockCode|         Description|Quantity|        InvoiceDate|UnitPrice|CustomerID|       Country|\n",
      "+---------+---------+--------------------+--------+-------------------+---------+----------+--------------+\n",
      "|   536414|    22139|            No_Value|      56|2010-12-01 11:52:00|      0.0|       0.0|United Kingdom|\n",
      "|   536544|    21773|DECORATIVE ROSE B...|       1|2010-12-01 14:32:00|     2.51|       0.0|United Kingdom|\n",
      "|   536544|    21774|DECORATIVE CATS B...|       2|2010-12-01 14:32:00|     2.51|       0.0|United Kingdom|\n",
      "|   536544|    21786|  POLKADOT RAIN HAT |       4|2010-12-01 14:32:00|     0.85|       0.0|United Kingdom|\n",
      "|   536544|    21787|RAIN PONCHO RETRO...|       2|2010-12-01 14:32:00|     1.66|       0.0|United Kingdom|\n",
      "|   536544|    21790|  VINTAGE SNAP CARDS|       9|2010-12-01 14:32:00|     1.66|       0.0|United Kingdom|\n",
      "|   536544|    21791|VINTAGE HEADS AND...|       2|2010-12-01 14:32:00|     2.51|       0.0|United Kingdom|\n",
      "|   536544|    21801|CHRISTMAS TREE DE...|      10|2010-12-01 14:32:00|     0.43|       0.0|United Kingdom|\n",
      "|   536544|    21802|CHRISTMAS TREE HE...|       9|2010-12-01 14:32:00|     0.43|       0.0|United Kingdom|\n",
      "|   536544|    21803|CHRISTMAS TREE ST...|      11|2010-12-01 14:32:00|     0.43|       0.0|United Kingdom|\n",
      "|   536544|    21809|CHRISTMAS HANGING...|       1|2010-12-01 14:32:00|     2.51|       0.0|United Kingdom|\n",
      "|   536544|    21810|CHRISTMAS HANGING...|       3|2010-12-01 14:32:00|     2.51|       0.0|United Kingdom|\n",
      "|   536544|    21811|CHRISTMAS HANGING...|       1|2010-12-01 14:32:00|     2.51|       0.0|United Kingdom|\n",
      "|   536544|    21821|GLITTER STAR GARL...|       1|2010-12-01 14:32:00|     7.62|       0.0|United Kingdom|\n",
      "|   536544|    21822|GLITTER CHRISTMAS...|       1|2010-12-01 14:32:00|     4.21|       0.0|United Kingdom|\n",
      "|   536544|    21823|PAINTED METAL HEA...|       2|2010-12-01 14:32:00|     2.98|       0.0|United Kingdom|\n",
      "|   536544|    21844|   RED RETROSPOT MUG|       2|2010-12-01 14:32:00|     5.91|       0.0|United Kingdom|\n",
      "|   536544|    21851|LILAC DIAMANTE PE...|       1|2010-12-01 14:32:00|     4.21|       0.0|United Kingdom|\n",
      "|   536544|    21870|I CAN ONLY PLEASE...|       1|2010-12-01 14:32:00|     3.36|       0.0|United Kingdom|\n",
      "|   536544|    21871| SAVE THE PLANET MUG|       5|2010-12-01 14:32:00|     3.36|       0.0|United Kingdom|\n",
      "+---------+---------+--------------------+--------+-------------------+---------+----------+--------------+\n",
      "only showing top 20 rows\n",
      "\n"
     ]
    }
   ],
   "source": [
    "df.na.fill({\"CustomerID\":0,\"Description\":\"No_Value\"}).filter(col(\"CustomerID\")==0).show()"
   ]
  },
  {
   "cell_type": "code",
   "execution_count": 128,
   "id": "3a7cf06e",
   "metadata": {},
   "outputs": [
    {
     "name": "stdout",
     "output_type": "stream",
     "text": [
      "+---------+---------+-----------+--------+-------------------+---------+----------+--------------+\n",
      "|InvoiceNo|StockCode|Description|Quantity|        InvoiceDate|UnitPrice|CustomerID|       Country|\n",
      "+---------+---------+-----------+--------+-------------------+---------+----------+--------------+\n",
      "|   536414|    22139|   No_Value|      56|2010-12-01 11:52:00|      0.0|       0.0|United Kingdom|\n",
      "|   536545|    21134|   No_Value|       1|2010-12-01 14:32:00|      0.0|       0.0|United Kingdom|\n",
      "|   536546|    22145|   No_Value|       1|2010-12-01 14:33:00|      0.0|       0.0|United Kingdom|\n",
      "|   536547|    37509|   No_Value|       1|2010-12-01 14:33:00|      0.0|       0.0|United Kingdom|\n",
      "|   536549|   85226A|   No_Value|       1|2010-12-01 14:34:00|      0.0|       0.0|United Kingdom|\n",
      "|   536550|    85044|   No_Value|       1|2010-12-01 14:34:00|      0.0|       0.0|United Kingdom|\n",
      "|   536552|    20950|   No_Value|       1|2010-12-01 14:34:00|      0.0|       0.0|United Kingdom|\n",
      "|   536553|    37461|   No_Value|       3|2010-12-01 14:35:00|      0.0|       0.0|United Kingdom|\n",
      "|   536554|    84670|   No_Value|      23|2010-12-01 14:35:00|      0.0|       0.0|United Kingdom|\n",
      "|   536589|    21777|   No_Value|     -10|2010-12-01 16:50:00|      0.0|       0.0|United Kingdom|\n",
      "+---------+---------+-----------+--------+-------------------+---------+----------+--------------+\n",
      "\n"
     ]
    }
   ],
   "source": [
    "df.na.fill({\"CustomerID\":0,\"Description\":\"No_Value\"}).filter(col(\"Description\")==\"No_Value\").show()"
   ]
  },
  {
   "cell_type": "code",
   "execution_count": 130,
   "id": "fea47521",
   "metadata": {},
   "outputs": [
    {
     "name": "stdout",
     "output_type": "stream",
     "text": [
      "+---------+---------+--------------------+--------+-------------------+---------+----------+-------+\n",
      "|InvoiceNo|StockCode|         Description|Quantity|        InvoiceDate|UnitPrice|CustomerID|Country|\n",
      "+---------+---------+--------------------+--------+-------------------+---------+----------+-------+\n",
      "|   536365|   85123A|WHITE HANGING HEA...|       6|2010-12-01 08:26:00|     2.55|   17850.0|     UK|\n",
      "|   536365|    71053| WHITE METAL LANTERN|       6|2010-12-01 08:26:00|     3.39|   17850.0|     UK|\n",
      "|   536365|   84406B|CREAM CUPID HEART...|       8|2010-12-01 08:26:00|     2.75|   17850.0|     UK|\n",
      "|   536365|   84029G|KNITTED UNION FLA...|       6|2010-12-01 08:26:00|     3.39|   17850.0|     UK|\n",
      "|   536365|   84029E|RED WOOLLY HOTTIE...|       6|2010-12-01 08:26:00|     3.39|   17850.0|     UK|\n",
      "|   536365|    22752|SET 7 BABUSHKA NE...|       2|2010-12-01 08:26:00|     7.65|   17850.0|     UK|\n",
      "|   536365|    21730|GLASS STAR FROSTE...|       6|2010-12-01 08:26:00|     4.25|   17850.0|     UK|\n",
      "|   536366|    22633|HAND WARMER UNION...|       6|2010-12-01 08:28:00|     1.85|   17850.0|     UK|\n",
      "|   536366|    22632|HAND WARMER RED P...|       6|2010-12-01 08:28:00|     1.85|   17850.0|     UK|\n",
      "|   536367|    84879|ASSORTED COLOUR B...|      32|2010-12-01 08:34:00|     1.69|   13047.0|     UK|\n",
      "|   536367|    22745|POPPY'S PLAYHOUSE...|       6|2010-12-01 08:34:00|      2.1|   13047.0|     UK|\n",
      "|   536367|    22748|POPPY'S PLAYHOUSE...|       6|2010-12-01 08:34:00|      2.1|   13047.0|     UK|\n",
      "|   536367|    22749|FELTCRAFT PRINCES...|       8|2010-12-01 08:34:00|     3.75|   13047.0|     UK|\n",
      "|   536367|    22310|IVORY KNITTED MUG...|       6|2010-12-01 08:34:00|     1.65|   13047.0|     UK|\n",
      "|   536367|    84969|BOX OF 6 ASSORTED...|       6|2010-12-01 08:34:00|     4.25|   13047.0|     UK|\n",
      "|   536367|    22623|BOX OF VINTAGE JI...|       3|2010-12-01 08:34:00|     4.95|   13047.0|     UK|\n",
      "|   536367|    22622|BOX OF VINTAGE AL...|       2|2010-12-01 08:34:00|     9.95|   13047.0|     UK|\n",
      "|   536367|    21754|HOME BUILDING BLO...|       3|2010-12-01 08:34:00|     5.95|   13047.0|     UK|\n",
      "|   536367|    21755|LOVE BUILDING BLO...|       3|2010-12-01 08:34:00|     5.95|   13047.0|     UK|\n",
      "|   536367|    21777|RECIPE BOX WITH M...|       4|2010-12-01 08:34:00|     7.95|   13047.0|     UK|\n",
      "+---------+---------+--------------------+--------+-------------------+---------+----------+-------+\n",
      "only showing top 20 rows\n",
      "\n"
     ]
    }
   ],
   "source": [
    "df.na.replace(to_replace=\"United Kingdom\",value=\"UK\",subset=\"Country\").show()"
   ]
  },
  {
   "cell_type": "code",
   "execution_count": null,
   "id": "08bc05b3",
   "metadata": {},
   "outputs": [],
   "source": []
  }
 ],
 "metadata": {
  "kernelspec": {
   "display_name": "Python 3 (ipykernel)",
   "language": "python",
   "name": "python3"
  },
  "language_info": {
   "codemirror_mode": {
    "name": "ipython",
    "version": 3
   },
   "file_extension": ".py",
   "mimetype": "text/x-python",
   "name": "python",
   "nbconvert_exporter": "python",
   "pygments_lexer": "ipython3",
   "version": "3.8.10"
  }
 },
 "nbformat": 4,
 "nbformat_minor": 5
}
