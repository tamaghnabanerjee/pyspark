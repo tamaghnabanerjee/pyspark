{
 "cells": [
  {
   "cell_type": "code",
   "execution_count": 1,
   "id": "cfc06495",
   "metadata": {},
   "outputs": [],
   "source": [
    "from pyspark.sql import SparkSession\n",
    "from pyspark.sql.functions import *\n",
    "from pyspark.sql import Row\n",
    "from pyspark.sql.types import IntegerType"
   ]
  },
  {
   "cell_type": "code",
   "execution_count": 2,
   "id": "7a35a7b0",
   "metadata": {},
   "outputs": [
    {
     "name": "stderr",
     "output_type": "stream",
     "text": [
      "2021-09-26 08:52:51,918 WARN util.Utils: Your hostname, tb-LinuxBox resolves to a loopback address: 127.0.1.1; using 10.0.2.15 instead (on interface enp0s3)\n",
      "2021-09-26 08:52:51,920 WARN util.Utils: Set SPARK_LOCAL_IP if you need to bind to another address\n",
      "2021-09-26 08:52:54,661 WARN util.NativeCodeLoader: Unable to load native-hadoop library for your platform... using builtin-java classes where applicable\n",
      "Setting default log level to \"WARN\".\n",
      "To adjust logging level use sc.setLogLevel(newLevel). For SparkR, use setLogLevel(newLevel).\n"
     ]
    }
   ],
   "source": [
    "spark = SparkSession.builder.appName(\"practice\").getOrCreate()"
   ]
  },
  {
   "cell_type": "code",
   "execution_count": 3,
   "id": "094aa484",
   "metadata": {},
   "outputs": [
    {
     "name": "stderr",
     "output_type": "stream",
     "text": [
      "                                                                                \r"
     ]
    }
   ],
   "source": [
    "orders = spark.read.format(\"parquet\")\\\n",
    "                    .options(header=True)\\\n",
    "                    .load(\"file:///home/tamaghna/big_data_spark/sales_parquet\")\n",
    "\n",
    "products = spark.read.format(\"parquet\")\\\n",
    "                        .options(header=True)\\\n",
    "                        .load(\"file:///home/tamaghna/big_data_spark/products_parquet\")"
   ]
  },
  {
   "cell_type": "code",
   "execution_count": 4,
   "id": "03a417d5",
   "metadata": {},
   "outputs": [
    {
     "name": "stdout",
     "output_type": "stream",
     "text": [
      "root\n",
      " |-- order_id: string (nullable = true)\n",
      " |-- product_id: string (nullable = true)\n",
      " |-- seller_id: string (nullable = true)\n",
      " |-- date: string (nullable = true)\n",
      " |-- num_pieces_sold: string (nullable = true)\n",
      " |-- bill_raw_text: string (nullable = true)\n",
      "\n"
     ]
    }
   ],
   "source": [
    "orders.printSchema()"
   ]
  },
  {
   "cell_type": "code",
   "execution_count": 5,
   "id": "9db12ce6",
   "metadata": {},
   "outputs": [],
   "source": [
    "orders = orders.drop(\"bill_raw_text\")"
   ]
  },
  {
   "cell_type": "code",
   "execution_count": 6,
   "id": "6a0fdbee",
   "metadata": {},
   "outputs": [
    {
     "name": "stderr",
     "output_type": "stream",
     "text": [
      "                                                                                \r"
     ]
    },
    {
     "data": {
      "text/plain": [
       "20000040"
      ]
     },
     "execution_count": 6,
     "metadata": {},
     "output_type": "execute_result"
    }
   ],
   "source": [
    "orders.count()"
   ]
  },
  {
   "cell_type": "code",
   "execution_count": 7,
   "id": "67ba968e",
   "metadata": {},
   "outputs": [
    {
     "data": {
      "text/plain": [
       "75000000"
      ]
     },
     "execution_count": 7,
     "metadata": {},
     "output_type": "execute_result"
    }
   ],
   "source": [
    "products.count()"
   ]
  },
  {
   "cell_type": "code",
   "execution_count": 8,
   "id": "ffc1ce18",
   "metadata": {},
   "outputs": [],
   "source": [
    "# products.count() >> orders.count()\n",
    "# Joining these tables could skew the result and slow down processing."
   ]
  },
  {
   "cell_type": "code",
   "execution_count": 9,
   "id": "2bbba1a3",
   "metadata": {},
   "outputs": [],
   "source": [
    "# Apply key-salting"
   ]
  },
  {
   "cell_type": "code",
   "execution_count": 10,
   "id": "22c43d08",
   "metadata": {},
   "outputs": [
    {
     "name": "stderr",
     "output_type": "stream",
     "text": [
      "                                                                                \r"
     ]
    }
   ],
   "source": [
    "result_list = orders.groupBy(\"product_id\").count().sort(col(\"count\").desc()).limit(100).collect()"
   ]
  },
  {
   "cell_type": "code",
   "execution_count": 11,
   "id": "13e908a7",
   "metadata": {},
   "outputs": [
    {
     "data": {
      "text/plain": [
       "[Row(product_id='0', count=19000000),\n",
       " Row(product_id='32602520', count=3),\n",
       " Row(product_id='57735075', count=3),\n",
       " Row(product_id='20774718', count=3),\n",
       " Row(product_id='28183035', count=3),\n",
       " Row(product_id='36269838', count=3),\n",
       " Row(product_id='18182299', count=3),\n",
       " Row(product_id='52606213', count=3),\n",
       " Row(product_id='14542470', count=3),\n",
       " Row(product_id='40579633', count=3)]"
      ]
     },
     "execution_count": 11,
     "metadata": {},
     "output_type": "execute_result"
    }
   ],
   "source": [
    "result_list[:10]"
   ]
  },
  {
   "cell_type": "code",
   "execution_count": 12,
   "id": "37f63c36",
   "metadata": {},
   "outputs": [],
   "source": [
    "repeated_products = []\n",
    "l = []\n",
    "replication_factor = 101"
   ]
  },
  {
   "cell_type": "code",
   "execution_count": 13,
   "id": "4178ead2",
   "metadata": {},
   "outputs": [
    {
     "data": {
      "text/plain": [
       "[('0', 0),\n",
       " ('0', 1),\n",
       " ('0', 2),\n",
       " ('0', 3),\n",
       " ('0', 4),\n",
       " ('0', 5),\n",
       " ('0', 6),\n",
       " ('0', 7),\n",
       " ('0', 8),\n",
       " ('0', 9)]"
      ]
     },
     "execution_count": 13,
     "metadata": {},
     "output_type": "execute_result"
    }
   ],
   "source": [
    "for row_items in result_list:\n",
    "    repeated_products.append(row_items[\"product_id\"])\n",
    "    for i in range(replication_factor):\n",
    "        l.append((row_items[\"product_id\"],i))\n",
    "l[:10]"
   ]
  },
  {
   "cell_type": "code",
   "execution_count": 14,
   "id": "7593ea82",
   "metadata": {},
   "outputs": [],
   "source": [
    "rdd = spark.sparkContext.parallelize(l)"
   ]
  },
  {
   "cell_type": "code",
   "execution_count": 15,
   "id": "cb0336ea",
   "metadata": {},
   "outputs": [
    {
     "data": {
      "text/plain": [
       "['0',\n",
       " '32602520',\n",
       " '57735075',\n",
       " '20774718',\n",
       " '28183035',\n",
       " '36269838',\n",
       " '18182299',\n",
       " '52606213',\n",
       " '14542470',\n",
       " '40579633']"
      ]
     },
     "execution_count": 15,
     "metadata": {},
     "output_type": "execute_result"
    }
   ],
   "source": [
    "repeated_products[:10]"
   ]
  },
  {
   "cell_type": "code",
   "execution_count": 16,
   "id": "99a04c59",
   "metadata": {},
   "outputs": [
    {
     "name": "stderr",
     "output_type": "stream",
     "text": [
      "                                                                                \r"
     ]
    },
    {
     "data": {
      "text/plain": [
       "[('0', 0),\n",
       " ('0', 1),\n",
       " ('0', 2),\n",
       " ('0', 3),\n",
       " ('0', 4),\n",
       " ('0', 5),\n",
       " ('0', 6),\n",
       " ('0', 7),\n",
       " ('0', 8),\n",
       " ('0', 9)]"
      ]
     },
     "execution_count": 16,
     "metadata": {},
     "output_type": "execute_result"
    }
   ],
   "source": [
    "rdd.take(10)"
   ]
  },
  {
   "cell_type": "code",
   "execution_count": 17,
   "id": "4148e641",
   "metadata": {},
   "outputs": [],
   "source": [
    "rdd = rdd.map(lambda tup:Row(product_id=tup[0],replication=int(tup[1])))"
   ]
  },
  {
   "cell_type": "code",
   "execution_count": 18,
   "id": "7b10df35",
   "metadata": {},
   "outputs": [
    {
     "data": {
      "text/plain": [
       "[Row(product_id='0', replication=0),\n",
       " Row(product_id='0', replication=1),\n",
       " Row(product_id='0', replication=2),\n",
       " Row(product_id='0', replication=3),\n",
       " Row(product_id='0', replication=4)]"
      ]
     },
     "execution_count": 18,
     "metadata": {},
     "output_type": "execute_result"
    }
   ],
   "source": [
    "rdd.take(5)"
   ]
  },
  {
   "cell_type": "code",
   "execution_count": 19,
   "id": "c2bacef0",
   "metadata": {},
   "outputs": [],
   "source": [
    "replicatedDF = spark.createDataFrame(rdd)"
   ]
  },
  {
   "cell_type": "code",
   "execution_count": 20,
   "id": "bcc63e39",
   "metadata": {},
   "outputs": [
    {
     "name": "stdout",
     "output_type": "stream",
     "text": [
      "+----------+-----------+\n",
      "|product_id|replication|\n",
      "+----------+-----------+\n",
      "|         0|          0|\n",
      "|         0|          1|\n",
      "|         0|          2|\n",
      "|         0|          3|\n",
      "|         0|          4|\n",
      "|         0|          5|\n",
      "|         0|          6|\n",
      "|         0|          7|\n",
      "|         0|          8|\n",
      "|         0|          9|\n",
      "|         0|         10|\n",
      "|         0|         11|\n",
      "|         0|         12|\n",
      "|         0|         13|\n",
      "|         0|         14|\n",
      "|         0|         15|\n",
      "|         0|         16|\n",
      "|         0|         17|\n",
      "|         0|         18|\n",
      "|         0|         19|\n",
      "+----------+-----------+\n",
      "only showing top 20 rows\n",
      "\n"
     ]
    }
   ],
   "source": [
    "replicatedDF.show()"
   ]
  },
  {
   "cell_type": "code",
   "execution_count": 21,
   "id": "d7ccc4bf",
   "metadata": {},
   "outputs": [],
   "source": [
    "salted_products = products.join(broadcast(replicatedDF),products.product_id==replicatedDF.product_id,\"left\")\\\n",
    "                                .withColumn(\"salted_join_key\",when(replicatedDF.replication.isNull()\\\n",
    "                                                                  ,products.product_id).otherwise(\\\n",
    "                                                                     concat(replicatedDF.product_id,lit(\"-\"),replicatedDF.replication)\n",
    "                                                                                                )\n",
    "                                                               )"
   ]
  },
  {
   "cell_type": "code",
   "execution_count": 22,
   "id": "c4fd46b8",
   "metadata": {},
   "outputs": [
    {
     "name": "stderr",
     "output_type": "stream",
     "text": [
      "[Stage 13:>                                                         (0 + 1) / 1]\r"
     ]
    },
    {
     "name": "stdout",
     "output_type": "stream",
     "text": [
      "+----------+------------+-----+----------+-----------+---------------+\n",
      "|product_id|product_name|price|product_id|replication|salted_join_key|\n",
      "+----------+------------+-----+----------+-----------+---------------+\n",
      "|         0|   product_0|   22|         0|        100|          0-100|\n",
      "|         0|   product_0|   22|         0|         99|           0-99|\n",
      "|         0|   product_0|   22|         0|         98|           0-98|\n",
      "|         0|   product_0|   22|         0|         97|           0-97|\n",
      "|         0|   product_0|   22|         0|         96|           0-96|\n",
      "|         0|   product_0|   22|         0|         95|           0-95|\n",
      "|         0|   product_0|   22|         0|         94|           0-94|\n",
      "|         0|   product_0|   22|         0|         93|           0-93|\n",
      "|         0|   product_0|   22|         0|         92|           0-92|\n",
      "|         0|   product_0|   22|         0|         91|           0-91|\n",
      "|         0|   product_0|   22|         0|         90|           0-90|\n",
      "|         0|   product_0|   22|         0|         89|           0-89|\n",
      "|         0|   product_0|   22|         0|         88|           0-88|\n",
      "|         0|   product_0|   22|         0|         87|           0-87|\n",
      "|         0|   product_0|   22|         0|         86|           0-86|\n",
      "|         0|   product_0|   22|         0|         85|           0-85|\n",
      "|         0|   product_0|   22|         0|         84|           0-84|\n",
      "|         0|   product_0|   22|         0|         83|           0-83|\n",
      "|         0|   product_0|   22|         0|         82|           0-82|\n",
      "|         0|   product_0|   22|         0|         81|           0-81|\n",
      "+----------+------------+-----+----------+-----------+---------------+\n",
      "only showing top 20 rows\n",
      "\n"
     ]
    },
    {
     "name": "stderr",
     "output_type": "stream",
     "text": [
      "\r",
      "                                                                                \r"
     ]
    }
   ],
   "source": [
    "salted_products.show()"
   ]
  },
  {
   "cell_type": "code",
   "execution_count": 32,
   "id": "1663eb85",
   "metadata": {},
   "outputs": [
    {
     "ename": "AttributeError",
     "evalue": "'DataFrame' object has no attribute 'isin'",
     "output_type": "error",
     "traceback": [
      "\u001b[0;31m---------------------------------------------------------------------------\u001b[0m",
      "\u001b[0;31mAttributeError\u001b[0m                            Traceback (most recent call last)",
      "\u001b[0;32m/tmp/ipykernel_3185/479868373.py\u001b[0m in \u001b[0;36m<module>\u001b[0;34m\u001b[0m\n\u001b[0;32m----> 1\u001b[0;31m orders.withColumn(\"salted_join_key\",when(orders.select(\"product_id\").isin([1,2,3])\\\n\u001b[0m\u001b[1;32m      2\u001b[0m                                         ,concat(orders.product_id,lit(\"-\")\\\n\u001b[1;32m      3\u001b[0m                                         ,round(rand()*(replication_factor-1),0).cast(IntegerType())))\\\n\u001b[1;32m      4\u001b[0m                                      .oterwise(orders.product_id)).show()\n",
      "\u001b[0;32m~/.local/lib/python3.8/site-packages/pyspark/sql/dataframe.py\u001b[0m in \u001b[0;36m__getattr__\u001b[0;34m(self, name)\u001b[0m\n\u001b[1;32m   1641\u001b[0m         \"\"\"\n\u001b[1;32m   1642\u001b[0m         \u001b[0;32mif\u001b[0m \u001b[0mname\u001b[0m \u001b[0;32mnot\u001b[0m \u001b[0;32min\u001b[0m \u001b[0mself\u001b[0m\u001b[0;34m.\u001b[0m\u001b[0mcolumns\u001b[0m\u001b[0;34m:\u001b[0m\u001b[0;34m\u001b[0m\u001b[0;34m\u001b[0m\u001b[0m\n\u001b[0;32m-> 1643\u001b[0;31m             raise AttributeError(\n\u001b[0m\u001b[1;32m   1644\u001b[0m                 \"'%s' object has no attribute '%s'\" % (self.__class__.__name__, name))\n\u001b[1;32m   1645\u001b[0m         \u001b[0mjc\u001b[0m \u001b[0;34m=\u001b[0m \u001b[0mself\u001b[0m\u001b[0;34m.\u001b[0m\u001b[0m_jdf\u001b[0m\u001b[0;34m.\u001b[0m\u001b[0mapply\u001b[0m\u001b[0;34m(\u001b[0m\u001b[0mname\u001b[0m\u001b[0;34m)\u001b[0m\u001b[0;34m\u001b[0m\u001b[0;34m\u001b[0m\u001b[0m\n",
      "\u001b[0;31mAttributeError\u001b[0m: 'DataFrame' object has no attribute 'isin'"
     ]
    }
   ],
   "source": [
    "orders.withColumn(\"salted_join_key\",when(orders.product_id.isin([1,22.])\\\n",
    "                                        ,concat(orders.product_id,lit(\"-\")\\\n",
    "                                        ,round(rand()*(replication_factor-1),0).cast(IntegerType())))\\\n",
    "                                     .oterwise(orders.product_id)).show()"
   ]
  },
  {
   "cell_type": "code",
   "execution_count": null,
   "id": "15d5151d",
   "metadata": {},
   "outputs": [],
   "source": []
  }
 ],
 "metadata": {
  "kernelspec": {
   "display_name": "Python 3 (ipykernel)",
   "language": "python",
   "name": "python3"
  },
  "language_info": {
   "codemirror_mode": {
    "name": "ipython",
    "version": 3
   },
   "file_extension": ".py",
   "mimetype": "text/x-python",
   "name": "python",
   "nbconvert_exporter": "python",
   "pygments_lexer": "ipython3",
   "version": "3.8.10"
  }
 },
 "nbformat": 4,
 "nbformat_minor": 5
}
