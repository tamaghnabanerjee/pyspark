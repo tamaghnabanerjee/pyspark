{
 "cells": [
  {
   "cell_type": "markdown",
   "id": "78b6b8cf",
   "metadata": {},
   "source": [
    "# Who are the second most selling and the least selling persons (sellers) for each product? Who are those for product with `product_id = 0`"
   ]
  },
  {
   "cell_type": "code",
   "execution_count": 1,
   "id": "f2e542f6",
   "metadata": {},
   "outputs": [],
   "source": [
    "from pyspark.sql import SparkSession"
   ]
  },
  {
   "cell_type": "code",
   "execution_count": 2,
   "id": "8757cd4a",
   "metadata": {},
   "outputs": [
    {
     "name": "stderr",
     "output_type": "stream",
     "text": [
      "2021-09-25 18:45:16,722 WARN util.Utils: Your hostname, tb-LinuxBox resolves to a loopback address: 127.0.1.1; using 10.0.2.15 instead (on interface enp0s3)\n",
      "2021-09-25 18:45:16,726 WARN util.Utils: Set SPARK_LOCAL_IP if you need to bind to another address\n",
      "2021-09-25 18:45:20,384 WARN util.NativeCodeLoader: Unable to load native-hadoop library for your platform... using builtin-java classes where applicable\n",
      "Setting default log level to \"WARN\".\n",
      "To adjust logging level use sc.setLogLevel(newLevel). For SparkR, use setLogLevel(newLevel).\n",
      "2021-09-25 18:45:25,695 WARN util.Utils: Service 'SparkUI' could not bind on port 4040. Attempting port 4041.\n"
     ]
    }
   ],
   "source": [
    "spark = SparkSession.builder.appName(\"exercise3\").getOrCreate()"
   ]
  },
  {
   "cell_type": "code",
   "execution_count": 3,
   "id": "33fee954",
   "metadata": {},
   "outputs": [
    {
     "name": "stderr",
     "output_type": "stream",
     "text": [
      "                                                                                \r"
     ]
    }
   ],
   "source": [
    "orders = spark.read.format(\"parquet\")\\\n",
    "                    .options(header=True)\\\n",
    "                    .load(\"file:///home/tamaghna/big_data_spark/sales_parquet\")"
   ]
  },
  {
   "cell_type": "code",
   "execution_count": 4,
   "id": "54097abd",
   "metadata": {},
   "outputs": [],
   "source": [
    "sellers = spark.read.format(\"parquet\")\\\n",
    "                    .options(header=True)\\\n",
    "                    .load(\"file:///home/tamaghna/big_data_spark/sellers_parquet\")"
   ]
  },
  {
   "cell_type": "code",
   "execution_count": 5,
   "id": "8e78b9c7",
   "metadata": {},
   "outputs": [],
   "source": [
    "orders = orders.drop(\"bill_raw_text\")"
   ]
  },
  {
   "cell_type": "code",
   "execution_count": 7,
   "id": "d0371a68",
   "metadata": {},
   "outputs": [],
   "source": [
    "orders = orders.withColumnRenamed(\"seller_id\",\"seller_id_orders\")\n",
    "sellers = sellers.withColumnRenamed(\"seller_id\",\"seller_id_sellers\")"
   ]
  },
  {
   "cell_type": "code",
   "execution_count": 10,
   "id": "d2dd58f1",
   "metadata": {},
   "outputs": [],
   "source": [
    "orders_sellers = orders.join(sellers,orders.seller_id_orders==sellers.seller_id_sellers)"
   ]
  },
  {
   "cell_type": "code",
   "execution_count": 14,
   "id": "2336f59a",
   "metadata": {},
   "outputs": [],
   "source": [
    "orders_sellers = orders_sellers.drop(\"seller_id_sellers\").withColumnRenamed(\"seller_id_orders\",\"seller_id\")"
   ]
  },
  {
   "cell_type": "code",
   "execution_count": 16,
   "id": "207e204b",
   "metadata": {},
   "outputs": [
    {
     "name": "stdout",
     "output_type": "stream",
     "text": [
      "+--------+----------+---------+----------+---------------+-----------+------------+\n",
      "|order_id|product_id|seller_id|      date|num_pieces_sold|seller_name|daily_target|\n",
      "+--------+----------+---------+----------+---------------+-----------+------------+\n",
      "|       1|         0|        0|2020-07-10|             26|   seller_0|     2500000|\n",
      "|       2|         0|        0|2020-07-08|             13|   seller_0|     2500000|\n",
      "|       3|         0|        0|2020-07-05|             38|   seller_0|     2500000|\n",
      "|       4|         0|        0|2020-07-05|             56|   seller_0|     2500000|\n",
      "|       5|         0|        0|2020-07-05|             11|   seller_0|     2500000|\n",
      "+--------+----------+---------+----------+---------------+-----------+------------+\n",
      "only showing top 5 rows\n",
      "\n"
     ]
    }
   ],
   "source": [
    "orders_sellers.show(5)"
   ]
  },
  {
   "cell_type": "code",
   "execution_count": 17,
   "id": "959c9ff2",
   "metadata": {},
   "outputs": [],
   "source": [
    "from pyspark.sql.functions import *"
   ]
  },
  {
   "cell_type": "code",
   "execution_count": 24,
   "id": "57885c45",
   "metadata": {},
   "outputs": [],
   "source": [
    "result_table = orders_sellers.groupBy('seller_id')\\\n",
    "                    .agg(sum(\"num_pieces_sold\"))\\\n",
    "                    .withColumnRenamed(\"sum(num_pieces_sold)\",\"sum_num_pieces_sold\")"
   ]
  },
  {
   "cell_type": "code",
   "execution_count": 25,
   "id": "cbdc527f",
   "metadata": {},
   "outputs": [
    {
     "name": "stderr",
     "output_type": "stream",
     "text": [
      "                                                                                \r"
     ]
    },
    {
     "name": "stdout",
     "output_type": "stream",
     "text": [
      "+---------+-------------------+\n",
      "|seller_id|sum_num_pieces_sold|\n",
      "+---------+-------------------+\n",
      "|        7|          5610746.0|\n",
      "|        3|          5629935.0|\n",
      "|        8|          5591198.0|\n",
      "|        0|       9.59445802E8|\n",
      "|        5|          5601350.0|\n",
      "|        6|          5621048.0|\n",
      "|        9|          5634837.0|\n",
      "|        1|          5598683.0|\n",
      "|        4|          5617087.0|\n",
      "|        2|          5612623.0|\n",
      "+---------+-------------------+\n",
      "\n"
     ]
    }
   ],
   "source": [
    "result_table.show()"
   ]
  },
  {
   "cell_type": "code",
   "execution_count": 20,
   "id": "8d2f6564",
   "metadata": {},
   "outputs": [],
   "source": [
    "from pyspark.sql.window import Window"
   ]
  },
  {
   "cell_type": "code",
   "execution_count": 58,
   "id": "41ae661b",
   "metadata": {},
   "outputs": [],
   "source": [
    "windowSpec = Window.partitionBy().orderBy(result_table.sum_num_pieces_sold.desc())"
   ]
  },
  {
   "cell_type": "code",
   "execution_count": 59,
   "id": "99f31173",
   "metadata": {},
   "outputs": [],
   "source": [
    "result_table = result_table.withColumn(\"row_num\", row_number().over(windowSpec))"
   ]
  },
  {
   "cell_type": "code",
   "execution_count": 60,
   "id": "d630e62d",
   "metadata": {},
   "outputs": [
    {
     "name": "stderr",
     "output_type": "stream",
     "text": [
      "2021-09-25 20:25:09,338 WARN window.WindowExec: No Partition Defined for Window operation! Moving all data to a single partition, this can cause serious performance degradation.\n",
      "[Stage 109:============================================>        (169 + 2) / 200]\r"
     ]
    },
    {
     "name": "stdout",
     "output_type": "stream",
     "text": [
      "+---------+-------------------+-------+\n",
      "|seller_id|sum_num_pieces_sold|row_num|\n",
      "+---------+-------------------+-------+\n",
      "|        0|       9.59445802E8|      1|\n",
      "|        9|          5634837.0|      2|\n",
      "|        3|          5629935.0|      3|\n",
      "|        6|          5621048.0|      4|\n",
      "|        4|          5617087.0|      5|\n",
      "|        2|          5612623.0|      6|\n",
      "|        7|          5610746.0|      7|\n",
      "|        5|          5601350.0|      8|\n",
      "|        1|          5598683.0|      9|\n",
      "|        8|          5591198.0|     10|\n",
      "+---------+-------------------+-------+\n",
      "\n"
     ]
    },
    {
     "name": "stderr",
     "output_type": "stream",
     "text": [
      "\r",
      "                                                                                \r"
     ]
    }
   ],
   "source": [
    "result_table.show()"
   ]
  },
  {
   "cell_type": "code",
   "execution_count": 61,
   "id": "7ff6b7e8",
   "metadata": {},
   "outputs": [
    {
     "name": "stderr",
     "output_type": "stream",
     "text": [
      "2021-09-25 20:26:06,609 WARN window.WindowExec: No Partition Defined for Window operation! Moving all data to a single partition, this can cause serious performance degradation.\n",
      "                                                                                \r"
     ]
    },
    {
     "name": "stdout",
     "output_type": "stream",
     "text": [
      "+---------+-------------------+-------+\n",
      "|seller_id|sum_num_pieces_sold|row_num|\n",
      "+---------+-------------------+-------+\n",
      "|        9|          5634837.0|      2|\n",
      "|        8|          5591198.0|     10|\n",
      "+---------+-------------------+-------+\n",
      "\n"
     ]
    }
   ],
   "source": [
    "result_table.filter((result_table.row_num == 2) | (result_table.row_num == 10)).show()"
   ]
  },
  {
   "cell_type": "code",
   "execution_count": null,
   "id": "096d9ec4",
   "metadata": {},
   "outputs": [],
   "source": []
  }
 ],
 "metadata": {
  "kernelspec": {
   "display_name": "Python 3 (ipykernel)",
   "language": "python",
   "name": "python3"
  },
  "language_info": {
   "codemirror_mode": {
    "name": "ipython",
    "version": 3
   },
   "file_extension": ".py",
   "mimetype": "text/x-python",
   "name": "python",
   "nbconvert_exporter": "python",
   "pygments_lexer": "ipython3",
   "version": "3.8.10"
  }
 },
 "nbformat": 4,
 "nbformat_minor": 5
}
