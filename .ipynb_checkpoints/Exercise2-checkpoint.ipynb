{
 "cells": [
  {
   "cell_type": "markdown",
   "id": "67991514",
   "metadata": {},
   "source": [
    "# For each seller, what is the average % contribution of an order to the seller's daily quota?"
   ]
  },
  {
   "cell_type": "code",
   "execution_count": 2,
   "id": "3ffbb3e6",
   "metadata": {},
   "outputs": [],
   "source": [
    "from pyspark.sql import SparkSession"
   ]
  },
  {
   "cell_type": "code",
   "execution_count": 3,
   "id": "d129d120",
   "metadata": {},
   "outputs": [
    {
     "name": "stderr",
     "output_type": "stream",
     "text": [
      "2021-09-25 17:00:38,219 WARN util.Utils: Your hostname, tb-LinuxBox resolves to a loopback address: 127.0.1.1; using 10.0.2.15 instead (on interface enp0s3)\n",
      "2021-09-25 17:00:38,221 WARN util.Utils: Set SPARK_LOCAL_IP if you need to bind to another address\n",
      "2021-09-25 17:00:41,355 WARN util.NativeCodeLoader: Unable to load native-hadoop library for your platform... using builtin-java classes where applicable\n",
      "Setting default log level to \"WARN\".\n",
      "To adjust logging level use sc.setLogLevel(newLevel). For SparkR, use setLogLevel(newLevel).\n"
     ]
    }
   ],
   "source": [
    "spark = SparkSession.builder.appName(\"exercise2\").getOrCreate()"
   ]
  },
  {
   "cell_type": "code",
   "execution_count": 56,
   "id": "03853e20",
   "metadata": {},
   "outputs": [],
   "source": [
    "orders = spark.read.format(\"parquet\")\\\n",
    "                    .options(header=True)\\\n",
    "                    .load(\"file:///home/tamaghna/big_data_spark/sales_parquet\")"
   ]
  },
  {
   "cell_type": "code",
   "execution_count": 57,
   "id": "08b10074",
   "metadata": {},
   "outputs": [],
   "source": [
    "products = spark.read.format(\"parquet\")\\\n",
    "                        .options(header=True)\\\n",
    "                        .load(\"file:///home/tamaghna/big_data_spark/products_parquet\")"
   ]
  },
  {
   "cell_type": "code",
   "execution_count": 58,
   "id": "3b277b61",
   "metadata": {},
   "outputs": [],
   "source": [
    "orders = orders.drop(\"bill_raw_text\")"
   ]
  },
  {
   "cell_type": "code",
   "execution_count": 59,
   "id": "b9f1a737",
   "metadata": {},
   "outputs": [],
   "source": [
    "sellers = spark.read.format(\"parquet\")\\\n",
    "                    .options(header=True)\\\n",
    "                    .load(\"file:///home/tamaghna/big_data_spark/sellers_parquet\")"
   ]
  },
  {
   "cell_type": "code",
   "execution_count": 9,
   "id": "8de4928e",
   "metadata": {},
   "outputs": [
    {
     "name": "stdout",
     "output_type": "stream",
     "text": [
      "+---------+-----------+------------+\n",
      "|seller_id|seller_name|daily_target|\n",
      "+---------+-----------+------------+\n",
      "|        0|   seller_0|     2500000|\n",
      "|        1|   seller_1|      257237|\n",
      "|        2|   seller_2|      754188|\n",
      "|        3|   seller_3|      310462|\n",
      "|        4|   seller_4|     1532808|\n",
      "|        5|   seller_5|     1199693|\n",
      "|        6|   seller_6|     1055915|\n",
      "|        7|   seller_7|     1946998|\n",
      "|        8|   seller_8|      547320|\n",
      "|        9|   seller_9|     1318051|\n",
      "+---------+-----------+------------+\n",
      "\n"
     ]
    }
   ],
   "source": [
    "sellers.show()"
   ]
  },
  {
   "cell_type": "code",
   "execution_count": 12,
   "id": "dc7a03fe",
   "metadata": {
    "scrolled": true
   },
   "outputs": [
    {
     "name": "stdout",
     "output_type": "stream",
     "text": [
      "+--------+----------+---------+----------+---------------+\n",
      "|order_id|product_id|seller_id|      date|num_pieces_sold|\n",
      "+--------+----------+---------+----------+---------------+\n",
      "|       1|         0|        0|2020-07-10|             26|\n",
      "|       2|         0|        0|2020-07-08|             13|\n",
      "|       3|         0|        0|2020-07-05|             38|\n",
      "|       4|         0|        0|2020-07-05|             56|\n",
      "|       5|         0|        0|2020-07-05|             11|\n",
      "+--------+----------+---------+----------+---------------+\n",
      "only showing top 5 rows\n",
      "\n"
     ]
    }
   ],
   "source": [
    "orders.show(5)"
   ]
  },
  {
   "cell_type": "code",
   "execution_count": 60,
   "id": "c05c2022",
   "metadata": {},
   "outputs": [
    {
     "name": "stderr",
     "output_type": "stream",
     "text": [
      "                                                                                \r"
     ]
    },
    {
     "name": "stdout",
     "output_type": "stream",
     "text": [
      "+---------+--------------------+\n",
      "|seller_id|          avg(ratio)|\n",
      "+---------+--------------------+\n",
      "|        7|2.595228787788170...|\n",
      "|        3| 1.62888537056594E-4|\n",
      "|        8|9.213030375408861E-5|\n",
      "|        0|2.019885898946922...|\n",
      "|        5|4.211073965904022E-5|\n",
      "|        6|4.782147194369122E-5|\n",
      "|        9|3.837913136180238E-5|\n",
      "|        1|1.964233366461014...|\n",
      "|        4|3.296428039825817E-5|\n",
      "|        2|6.690408001060484E-5|\n",
      "+---------+--------------------+\n",
      "\n"
     ]
    }
   ],
   "source": [
    "orders.join(sellers, orders[\"seller_id\"] == sellers[\"seller_id\"], \"inner\")\\\n",
    "        .withColumn(\"ratio\", orders[\"num_pieces_sold\"]/sellers[\"daily_target\"])\\\n",
    "        .groupBy(sellers[\"seller_id\"]).agg(avg(\"ratio\")).show()"
   ]
  },
  {
   "cell_type": "code",
   "execution_count": null,
   "id": "b12d222c",
   "metadata": {},
   "outputs": [],
   "source": []
  },
  {
   "cell_type": "code",
   "execution_count": 31,
   "id": "9fbf84f0",
   "metadata": {},
   "outputs": [],
   "source": [
    "orders = orders.withColumnRenamed(\"seller_id\",\"seller_id_orders\")\n",
    "sellers = sellers.withColumnRenamed(\"seller_id\",\"seller_id_sellers\")"
   ]
  },
  {
   "cell_type": "code",
   "execution_count": 50,
   "id": "925f77e5",
   "metadata": {},
   "outputs": [],
   "source": [
    "orders_sellers = orders.join(sellers,orders.seller_id_orders==sellers.seller_id_sellers).withColumn(\"proportion\",orders.num_pieces_sold/sellers.daily_target)"
   ]
  },
  {
   "cell_type": "code",
   "execution_count": 51,
   "id": "231ad286",
   "metadata": {},
   "outputs": [],
   "source": [
    "orders_sellers = orders_sellers.drop(\"seller_id_sellers\").withColumnRenamed(\"seller_id_orders\",\"seller_id\")"
   ]
  },
  {
   "cell_type": "code",
   "execution_count": 53,
   "id": "abfff4c1",
   "metadata": {
    "scrolled": false
   },
   "outputs": [
    {
     "name": "stderr",
     "output_type": "stream",
     "text": [
      "                                                                                \r"
     ]
    },
    {
     "name": "stdout",
     "output_type": "stream",
     "text": [
      "+---------+--------------------+\n",
      "|seller_id|     avg(proportion)|\n",
      "+---------+--------------------+\n",
      "|        7|2.595228787788170...|\n",
      "|        3| 1.62888537056594E-4|\n",
      "|        8|9.213030375408861E-5|\n",
      "|        0|2.019885898946922...|\n",
      "|        5|4.211073965904022E-5|\n",
      "|        6|4.782147194369122E-5|\n",
      "|        9|3.837913136180238E-5|\n",
      "|        1|1.964233366461014...|\n",
      "|        4|3.296428039825817E-5|\n",
      "|        2|6.690408001060484E-5|\n",
      "+---------+--------------------+\n",
      "\n"
     ]
    }
   ],
   "source": [
    "orders_sellers.groupBy(\"seller_id\").agg(avg(\"proportion\")).show()"
   ]
  },
  {
   "cell_type": "code",
   "execution_count": null,
   "id": "9f88a02e",
   "metadata": {},
   "outputs": [],
   "source": []
  }
 ],
 "metadata": {
  "kernelspec": {
   "display_name": "Python 3 (ipykernel)",
   "language": "python",
   "name": "python3"
  },
  "language_info": {
   "codemirror_mode": {
    "name": "ipython",
    "version": 3
   },
   "file_extension": ".py",
   "mimetype": "text/x-python",
   "name": "python",
   "nbconvert_exporter": "python",
   "pygments_lexer": "ipython3",
   "version": "3.8.10"
  }
 },
 "nbformat": 4,
 "nbformat_minor": 5
}
