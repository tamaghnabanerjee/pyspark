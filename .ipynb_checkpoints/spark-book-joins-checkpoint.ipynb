{
 "cells": [
  {
   "cell_type": "code",
   "execution_count": 1,
   "id": "7083e931",
   "metadata": {},
   "outputs": [],
   "source": [
    "from pyspark.sql import SparkSession"
   ]
  },
  {
   "cell_type": "code",
   "execution_count": 2,
   "id": "67b1486d",
   "metadata": {},
   "outputs": [
    {
     "name": "stderr",
     "output_type": "stream",
     "text": [
      "2021-09-30 07:43:33,473 WARN util.Utils: Your hostname, tb-LinuxBox resolves to a loopback address: 127.0.1.1; using 10.0.2.15 instead (on interface enp0s3)\n",
      "2021-09-30 07:43:33,475 WARN util.Utils: Set SPARK_LOCAL_IP if you need to bind to another address\n",
      "2021-09-30 07:43:35,993 WARN util.NativeCodeLoader: Unable to load native-hadoop library for your platform... using builtin-java classes where applicable\n",
      "Setting default log level to \"WARN\".\n",
      "To adjust logging level use sc.setLogLevel(newLevel). For SparkR, use setLogLevel(newLevel).\n"
     ]
    }
   ],
   "source": [
    "spark = SparkSession.builder.appName(\"joins\").getOrCreate()"
   ]
  },
  {
   "cell_type": "code",
   "execution_count": 3,
   "id": "c6bc31a8",
   "metadata": {},
   "outputs": [],
   "source": [
    "from pyspark.sql.types import StructType,StructField,StringType,IntegerType,ArrayType"
   ]
  },
  {
   "cell_type": "code",
   "execution_count": 4,
   "id": "222c1ee6",
   "metadata": {},
   "outputs": [],
   "source": [
    "person_schema = StructType([\n",
    "                            StructField(\"id\",IntegerType(),True),\\\n",
    "                            StructField(\"name\",StringType(),True),\\\n",
    "                            StructField(\"graduate_program\",IntegerType(),True),\\\n",
    "                            StructField(\"spark_status\",ArrayType(IntegerType()),True)\n",
    "                        ])"
   ]
  },
  {
   "cell_type": "code",
   "execution_count": 5,
   "id": "8be1c64f",
   "metadata": {},
   "outputs": [],
   "source": [
    "person = spark.createDataFrame([\n",
    "                                (0,\"Bill Chambers\",0,[100])\\\n",
    "                                ,(1,\"Matei Zaharia\",1,[500,250,100])\\\n",
    "                                ,(2,\"Michael Armbrust\",1,[250,100])\n",
    "                            ],schema=person_schema)"
   ]
  },
  {
   "cell_type": "code",
   "execution_count": 6,
   "id": "85201748",
   "metadata": {},
   "outputs": [
    {
     "name": "stderr",
     "output_type": "stream",
     "text": [
      "                                                                                \r"
     ]
    },
    {
     "name": "stdout",
     "output_type": "stream",
     "text": [
      "+---+----------------+----------------+---------------+\n",
      "|id |name            |graduate_program|spark_status   |\n",
      "+---+----------------+----------------+---------------+\n",
      "|0  |Bill Chambers   |0               |[100]          |\n",
      "|1  |Matei Zaharia   |1               |[500, 250, 100]|\n",
      "|2  |Michael Armbrust|1               |[250, 100]     |\n",
      "+---+----------------+----------------+---------------+\n",
      "\n"
     ]
    }
   ],
   "source": [
    "person.show(truncate=False)"
   ]
  },
  {
   "cell_type": "code",
   "execution_count": 7,
   "id": "91ba7041",
   "metadata": {},
   "outputs": [
    {
     "name": "stdout",
     "output_type": "stream",
     "text": [
      "root\n",
      " |-- id: integer (nullable = true)\n",
      " |-- name: string (nullable = true)\n",
      " |-- graduate_program: integer (nullable = true)\n",
      " |-- spark_status: array (nullable = true)\n",
      " |    |-- element: integer (containsNull = true)\n",
      "\n"
     ]
    }
   ],
   "source": [
    "person.printSchema()"
   ]
  },
  {
   "cell_type": "code",
   "execution_count": 8,
   "id": "f50f3dd9",
   "metadata": {},
   "outputs": [],
   "source": [
    "graduate_program = spark.createDataFrame([\n",
    "                                    (0,\"Masters\",\"School of Information\",\"UC Berkeley\"),\n",
    "                                    (2,\"Masters\",\"EECS\",\"UC Berkeley\"),\n",
    "                                    (1,\"Ph.D.\",\"EECS\",\"UC Berkeley\")\n",
    "                                        ]).toDF(\"id\",\"degree\",\"department\",\"school\")"
   ]
  },
  {
   "cell_type": "code",
   "execution_count": 9,
   "id": "d637b0de",
   "metadata": {},
   "outputs": [
    {
     "name": "stdout",
     "output_type": "stream",
     "text": [
      "root\n",
      " |-- id: long (nullable = true)\n",
      " |-- degree: string (nullable = true)\n",
      " |-- department: string (nullable = true)\n",
      " |-- school: string (nullable = true)\n",
      "\n"
     ]
    }
   ],
   "source": [
    "graduate_program.printSchema()"
   ]
  },
  {
   "cell_type": "code",
   "execution_count": 10,
   "id": "8f642572",
   "metadata": {},
   "outputs": [
    {
     "name": "stdout",
     "output_type": "stream",
     "text": [
      "+---+-------+---------------------+-----------+\n",
      "|id |degree |department           |school     |\n",
      "+---+-------+---------------------+-----------+\n",
      "|0  |Masters|School of Information|UC Berkeley|\n",
      "|2  |Masters|EECS                 |UC Berkeley|\n",
      "|1  |Ph.D.  |EECS                 |UC Berkeley|\n",
      "+---+-------+---------------------+-----------+\n",
      "\n"
     ]
    }
   ],
   "source": [
    "graduate_program.show(truncate=False)"
   ]
  },
  {
   "cell_type": "code",
   "execution_count": 11,
   "id": "66ab6cd8",
   "metadata": {},
   "outputs": [],
   "source": [
    "spark_status = spark.createDataFrame([\n",
    "                                (500,\"Vice President\"),\n",
    "                                (250,\"PMC Member\"),\n",
    "                                (100,\"Contributor\")\n",
    "                                    ]).toDF(\"id\",\"status\")"
   ]
  },
  {
   "cell_type": "code",
   "execution_count": 12,
   "id": "6ba761d9",
   "metadata": {},
   "outputs": [
    {
     "name": "stdout",
     "output_type": "stream",
     "text": [
      "root\n",
      " |-- id: long (nullable = true)\n",
      " |-- status: string (nullable = true)\n",
      "\n"
     ]
    }
   ],
   "source": [
    "spark_status.printSchema()"
   ]
  },
  {
   "cell_type": "code",
   "execution_count": 13,
   "id": "b07df248",
   "metadata": {},
   "outputs": [
    {
     "name": "stdout",
     "output_type": "stream",
     "text": [
      "+---+--------------+\n",
      "| id|        status|\n",
      "+---+--------------+\n",
      "|500|Vice President|\n",
      "|250|    PMC Member|\n",
      "|100|   Contributor|\n",
      "+---+--------------+\n",
      "\n"
     ]
    }
   ],
   "source": [
    "spark_status.show()"
   ]
  },
  {
   "cell_type": "code",
   "execution_count": 14,
   "id": "3df9f938",
   "metadata": {},
   "outputs": [],
   "source": [
    "# Registering tables"
   ]
  },
  {
   "cell_type": "code",
   "execution_count": 15,
   "id": "9317d483",
   "metadata": {},
   "outputs": [],
   "source": [
    "person.createOrReplaceTempView(\"person\")\n",
    "graduate_program.createOrReplaceTempView(\"graduate_program\")\n",
    "spark_status.createOrReplaceTempView(\"spark_status\")"
   ]
  },
  {
   "cell_type": "code",
   "execution_count": 16,
   "id": "f865c33c",
   "metadata": {},
   "outputs": [
    {
     "name": "stdout",
     "output_type": "stream",
     "text": [
      "+---+----------------+----------------+---------------+\n",
      "|id |name            |graduate_program|spark_status   |\n",
      "+---+----------------+----------------+---------------+\n",
      "|0  |Bill Chambers   |0               |[100]          |\n",
      "|1  |Matei Zaharia   |1               |[500, 250, 100]|\n",
      "|2  |Michael Armbrust|1               |[250, 100]     |\n",
      "+---+----------------+----------------+---------------+\n",
      "\n",
      "None\n",
      "+---+-------+---------------------+-----------+\n",
      "|id |degree |department           |school     |\n",
      "+---+-------+---------------------+-----------+\n",
      "|0  |Masters|School of Information|UC Berkeley|\n",
      "|2  |Masters|EECS                 |UC Berkeley|\n",
      "|1  |Ph.D.  |EECS                 |UC Berkeley|\n",
      "+---+-------+---------------------+-----------+\n",
      "\n",
      "None\n",
      "+---+--------------+\n",
      "|id |status        |\n",
      "+---+--------------+\n",
      "|500|Vice President|\n",
      "|250|PMC Member    |\n",
      "|100|Contributor   |\n",
      "+---+--------------+\n",
      "\n",
      "None\n"
     ]
    }
   ],
   "source": [
    "print(person.show(truncate=False))\n",
    "print(graduate_program.show(truncate=False))\n",
    "print(spark_status.show(truncate=False))"
   ]
  },
  {
   "cell_type": "code",
   "execution_count": 17,
   "id": "b7a3343c",
   "metadata": {},
   "outputs": [],
   "source": [
    "# Inner Join"
   ]
  },
  {
   "cell_type": "code",
   "execution_count": 18,
   "id": "d5cc9526",
   "metadata": {},
   "outputs": [
    {
     "name": "stderr",
     "output_type": "stream",
     "text": [
      "[Stage 26:===================================>                    (48 + 2) / 75]\r"
     ]
    },
    {
     "name": "stdout",
     "output_type": "stream",
     "text": [
      "+---+----------------+----------------+---------------+---+-------+--------------------+-----------+\n",
      "| id|            name|graduate_program|   spark_status| id| degree|          department|     school|\n",
      "+---+----------------+----------------+---------------+---+-------+--------------------+-----------+\n",
      "|  0|   Bill Chambers|               0|          [100]|  0|Masters|School of Informa...|UC Berkeley|\n",
      "|  1|   Matei Zaharia|               1|[500, 250, 100]|  1|  Ph.D.|                EECS|UC Berkeley|\n",
      "|  2|Michael Armbrust|               1|     [250, 100]|  1|  Ph.D.|                EECS|UC Berkeley|\n",
      "+---+----------------+----------------+---------------+---+-------+--------------------+-----------+\n",
      "\n"
     ]
    },
    {
     "name": "stderr",
     "output_type": "stream",
     "text": [
      "\r",
      "[Stage 26:============================================>           (59 + 3) / 75]\r",
      "\r",
      "                                                                                \r"
     ]
    }
   ],
   "source": [
    "person.join(graduate_program,person.graduate_program==graduate_program.id).show()"
   ]
  },
  {
   "cell_type": "code",
   "execution_count": 19,
   "id": "b0ae0492",
   "metadata": {},
   "outputs": [
    {
     "name": "stderr",
     "output_type": "stream",
     "text": [
      "                                                                                \r"
     ]
    },
    {
     "name": "stdout",
     "output_type": "stream",
     "text": [
      "+---+----------------+----------------+---------------+---+-------+--------------------+-----------+\n",
      "| id|            name|graduate_program|   spark_status| id| degree|          department|     school|\n",
      "+---+----------------+----------------+---------------+---+-------+--------------------+-----------+\n",
      "|  0|   Bill Chambers|               0|          [100]|  0|Masters|School of Informa...|UC Berkeley|\n",
      "|  1|   Matei Zaharia|               1|[500, 250, 100]|  1|  Ph.D.|                EECS|UC Berkeley|\n",
      "|  2|Michael Armbrust|               1|     [250, 100]|  1|  Ph.D.|                EECS|UC Berkeley|\n",
      "+---+----------------+----------------+---------------+---+-------+--------------------+-----------+\n",
      "\n"
     ]
    },
    {
     "name": "stderr",
     "output_type": "stream",
     "text": [
      "\r",
      "[Stage 41:============================================>           (60 + 2) / 75]\r",
      "\r",
      "                                                                                \r"
     ]
    }
   ],
   "source": [
    "spark.sql('''\n",
    "        select * from \n",
    "            person \n",
    "            join graduate_program\n",
    "            on person.graduate_program=graduate_program.id\n",
    "''').show()"
   ]
  },
  {
   "cell_type": "code",
   "execution_count": 20,
   "id": "0a0c715c",
   "metadata": {},
   "outputs": [],
   "source": [
    "# Full outer join"
   ]
  },
  {
   "cell_type": "code",
   "execution_count": 21,
   "id": "dd8d602a",
   "metadata": {},
   "outputs": [
    {
     "name": "stderr",
     "output_type": "stream",
     "text": [
      "                                                                                \r"
     ]
    },
    {
     "name": "stdout",
     "output_type": "stream",
     "text": [
      "+----+----------------+----------------+---------------+---+-------+--------------------+-----------+\n",
      "|  id|            name|graduate_program|   spark_status| id| degree|          department|     school|\n",
      "+----+----------------+----------------+---------------+---+-------+--------------------+-----------+\n",
      "|   0|   Bill Chambers|               0|          [100]|  0|Masters|School of Informa...|UC Berkeley|\n",
      "|   1|   Matei Zaharia|               1|[500, 250, 100]|  1|  Ph.D.|                EECS|UC Berkeley|\n",
      "|   2|Michael Armbrust|               1|     [250, 100]|  1|  Ph.D.|                EECS|UC Berkeley|\n",
      "|null|            null|            null|           null|  2|Masters|                EECS|UC Berkeley|\n",
      "+----+----------------+----------------+---------------+---+-------+--------------------+-----------+\n",
      "\n"
     ]
    },
    {
     "name": "stderr",
     "output_type": "stream",
     "text": [
      "\r",
      "[Stage 56:====================================================>   (70 + 2) / 75]\r",
      "\r",
      "                                                                                \r"
     ]
    }
   ],
   "source": [
    "person.join(graduate_program,person.graduate_program==graduate_program.id,\"fullouter\").show()"
   ]
  },
  {
   "cell_type": "code",
   "execution_count": 22,
   "id": "a9f8f921",
   "metadata": {},
   "outputs": [],
   "source": [
    "# left join"
   ]
  },
  {
   "cell_type": "code",
   "execution_count": 23,
   "id": "86f8655f",
   "metadata": {},
   "outputs": [
    {
     "name": "stderr",
     "output_type": "stream",
     "text": [
      "                                                                                \r"
     ]
    },
    {
     "name": "stdout",
     "output_type": "stream",
     "text": [
      "+---+----------------+----------------+---------------+---+-------+--------------------+-----------+\n",
      "| id|            name|graduate_program|   spark_status| id| degree|          department|     school|\n",
      "+---+----------------+----------------+---------------+---+-------+--------------------+-----------+\n",
      "|  0|   Bill Chambers|               0|          [100]|  0|Masters|School of Informa...|UC Berkeley|\n",
      "|  1|   Matei Zaharia|               1|[500, 250, 100]|  1|  Ph.D.|                EECS|UC Berkeley|\n",
      "|  2|Michael Armbrust|               1|     [250, 100]|  1|  Ph.D.|                EECS|UC Berkeley|\n",
      "+---+----------------+----------------+---------------+---+-------+--------------------+-----------+\n",
      "\n"
     ]
    },
    {
     "name": "stderr",
     "output_type": "stream",
     "text": [
      "\r",
      "[Stage 71:=============================================>          (61 + 2) / 75]\r",
      "\r",
      "                                                                                \r"
     ]
    }
   ],
   "source": [
    "person.join(graduate_program,person.graduate_program==graduate_program.id,\"leftouter\").show()"
   ]
  },
  {
   "cell_type": "code",
   "execution_count": 24,
   "id": "6bed6c10",
   "metadata": {},
   "outputs": [
    {
     "name": "stderr",
     "output_type": "stream",
     "text": [
      "                                                                                \r"
     ]
    },
    {
     "name": "stdout",
     "output_type": "stream",
     "text": [
      "+---+----------------+----------------+---------------+---+-------+--------------------+-----------+\n",
      "| id|            name|graduate_program|   spark_status| id| degree|          department|     school|\n",
      "+---+----------------+----------------+---------------+---+-------+--------------------+-----------+\n",
      "|  0|   Bill Chambers|               0|          [100]|  0|Masters|School of Informa...|UC Berkeley|\n",
      "|  1|   Matei Zaharia|               1|[500, 250, 100]|  1|  Ph.D.|                EECS|UC Berkeley|\n",
      "|  2|Michael Armbrust|               1|     [250, 100]|  1|  Ph.D.|                EECS|UC Berkeley|\n",
      "+---+----------------+----------------+---------------+---+-------+--------------------+-----------+\n",
      "\n"
     ]
    }
   ],
   "source": [
    "spark.sql('''\n",
    "            select * from person\n",
    "            left join graduate_program\n",
    "            on person.graduate_program = graduate_program.id\n",
    "            ''').show()"
   ]
  },
  {
   "cell_type": "code",
   "execution_count": 25,
   "id": "14e41960",
   "metadata": {},
   "outputs": [
    {
     "name": "stderr",
     "output_type": "stream",
     "text": [
      "\r",
      "[Stage 98:============================================>          (81 + 2) / 100]\r",
      "\r",
      "                                                                                \r"
     ]
    },
    {
     "name": "stdout",
     "output_type": "stream",
     "text": [
      "+---+-------+--------------------+-----------+----+----------------+----------------+---------------+\n",
      "| id| degree|          department|     school|  id|            name|graduate_program|   spark_status|\n",
      "+---+-------+--------------------+-----------+----+----------------+----------------+---------------+\n",
      "|  0|Masters|School of Informa...|UC Berkeley|   0|   Bill Chambers|               0|          [100]|\n",
      "|  1|  Ph.D.|                EECS|UC Berkeley|   1|   Matei Zaharia|               1|[500, 250, 100]|\n",
      "|  1|  Ph.D.|                EECS|UC Berkeley|   2|Michael Armbrust|               1|     [250, 100]|\n",
      "|  2|Masters|                EECS|UC Berkeley|null|            null|            null|           null|\n",
      "+---+-------+--------------------+-----------+----+----------------+----------------+---------------+\n",
      "\n"
     ]
    }
   ],
   "source": [
    "spark.sql('''\n",
    "            select * from graduate_program\n",
    "            left join person\n",
    "            on person.graduate_program = graduate_program.id\n",
    "            ''').show()"
   ]
  },
  {
   "cell_type": "code",
   "execution_count": 26,
   "id": "26ed1699",
   "metadata": {},
   "outputs": [
    {
     "name": "stderr",
     "output_type": "stream",
     "text": [
      "\r",
      "[Stage 113:=======================================>              (74 + 2) / 100]\r",
      "\r",
      "                                                                                \r"
     ]
    },
    {
     "name": "stdout",
     "output_type": "stream",
     "text": [
      "+---+-------+---------------------+-----------+\n",
      "|id |degree |department           |school     |\n",
      "+---+-------+---------------------+-----------+\n",
      "|0  |Masters|School of Information|UC Berkeley|\n",
      "|1  |Ph.D.  |EECS                 |UC Berkeley|\n",
      "+---+-------+---------------------+-----------+\n",
      "\n"
     ]
    },
    {
     "name": "stderr",
     "output_type": "stream",
     "text": [
      "\r",
      "[Stage 116:================================================>      (66 + 2) / 75]\r",
      "\r",
      "                                                                                \r"
     ]
    }
   ],
   "source": [
    "graduate_program.join(person,person.graduate_program==graduate_program.id,\"leftsemi\").show(truncate=False)"
   ]
  },
  {
   "cell_type": "code",
   "execution_count": 27,
   "id": "b556e807",
   "metadata": {},
   "outputs": [],
   "source": [
    "# join on complex types"
   ]
  },
  {
   "cell_type": "code",
   "execution_count": 28,
   "id": "3bba136c",
   "metadata": {},
   "outputs": [],
   "source": [
    "from pyspark.sql.functions import array_contains"
   ]
  },
  {
   "cell_type": "code",
   "execution_count": 30,
   "id": "ea89ee5b",
   "metadata": {},
   "outputs": [],
   "source": [
    "person = person.withColumnRenamed(\"id\",\"person_id\")"
   ]
  },
  {
   "cell_type": "code",
   "execution_count": 31,
   "id": "f014729c",
   "metadata": {},
   "outputs": [
    {
     "name": "stdout",
     "output_type": "stream",
     "text": [
      "+---------+----------------+----------------+---------------+\n",
      "|person_id|            name|graduate_program|   spark_status|\n",
      "+---------+----------------+----------------+---------------+\n",
      "|        0|   Bill Chambers|               0|          [100]|\n",
      "|        1|   Matei Zaharia|               1|[500, 250, 100]|\n",
      "|        2|Michael Armbrust|               1|     [250, 100]|\n",
      "+---------+----------------+----------------+---------------+\n",
      "\n"
     ]
    }
   ],
   "source": [
    "person.show()"
   ]
  },
  {
   "cell_type": "code",
   "execution_count": 33,
   "id": "883b7355",
   "metadata": {},
   "outputs": [],
   "source": [
    "spark_status = spark_status.withColumnRenamed(\"id\",\"status_id\")"
   ]
  },
  {
   "cell_type": "code",
   "execution_count": 34,
   "id": "193bf87f",
   "metadata": {},
   "outputs": [
    {
     "name": "stdout",
     "output_type": "stream",
     "text": [
      "+---------+--------------+\n",
      "|status_id|        status|\n",
      "+---------+--------------+\n",
      "|      500|Vice President|\n",
      "|      250|    PMC Member|\n",
      "|      100|   Contributor|\n",
      "+---------+--------------+\n",
      "\n"
     ]
    }
   ],
   "source": [
    "spark_status.show()"
   ]
  },
  {
   "cell_type": "code",
   "execution_count": 37,
   "id": "29268ebe",
   "metadata": {},
   "outputs": [
    {
     "name": "stdout",
     "output_type": "stream",
     "text": [
      "+---------+----------------+----------------+---------------+---------+--------------+\n",
      "|person_id|            name|graduate_program|   spark_status|status_id|        status|\n",
      "+---------+----------------+----------------+---------------+---------+--------------+\n",
      "|        0|   Bill Chambers|               0|          [100]|      100|   Contributor|\n",
      "|        1|   Matei Zaharia|               1|[500, 250, 100]|      500|Vice President|\n",
      "|        1|   Matei Zaharia|               1|[500, 250, 100]|      250|    PMC Member|\n",
      "|        1|   Matei Zaharia|               1|[500, 250, 100]|      100|   Contributor|\n",
      "|        2|Michael Armbrust|               1|     [250, 100]|      250|    PMC Member|\n",
      "|        2|Michael Armbrust|               1|     [250, 100]|      100|   Contributor|\n",
      "+---------+----------------+----------------+---------------+---------+--------------+\n",
      "\n"
     ]
    }
   ],
   "source": [
    "person.join(spark_status,array_contains(person.spark_status,spark_status.status_id)).show()"
   ]
  },
  {
   "cell_type": "code",
   "execution_count": 38,
   "id": "b33fbc5c",
   "metadata": {},
   "outputs": [
    {
     "name": "stdout",
     "output_type": "stream",
     "text": [
      "+---+-------+--------------------+-----------+\n",
      "| id| degree|          department|     school|\n",
      "+---+-------+--------------------+-----------+\n",
      "|  0|Masters|School of Informa...|UC Berkeley|\n",
      "|  2|Masters|                EECS|UC Berkeley|\n",
      "|  1|  Ph.D.|                EECS|UC Berkeley|\n",
      "+---+-------+--------------------+-----------+\n",
      "\n"
     ]
    }
   ],
   "source": [
    "graduate_program.show()"
   ]
  },
  {
   "cell_type": "code",
   "execution_count": 39,
   "id": "b3b39ece",
   "metadata": {},
   "outputs": [
    {
     "name": "stdout",
     "output_type": "stream",
     "text": [
      "+---------+----------------+----------------+---------------+\n",
      "|person_id|            name|graduate_program|   spark_status|\n",
      "+---------+----------------+----------------+---------------+\n",
      "|        0|   Bill Chambers|               0|          [100]|\n",
      "|        1|   Matei Zaharia|               1|[500, 250, 100]|\n",
      "|        2|Michael Armbrust|               1|     [250, 100]|\n",
      "+---------+----------------+----------------+---------------+\n",
      "\n"
     ]
    }
   ],
   "source": [
    "person.show()"
   ]
  },
  {
   "cell_type": "code",
   "execution_count": 40,
   "id": "82f2bc5b",
   "metadata": {},
   "outputs": [],
   "source": [
    "graduate_programDup = graduate_program.withColumnRenamed(\"id\",\"graduate_program\")"
   ]
  },
  {
   "cell_type": "code",
   "execution_count": 41,
   "id": "dff86803",
   "metadata": {},
   "outputs": [
    {
     "name": "stdout",
     "output_type": "stream",
     "text": [
      "+---------+----------------+----------------+---------------+\n",
      "|person_id|name            |graduate_program|spark_status   |\n",
      "+---------+----------------+----------------+---------------+\n",
      "|0        |Bill Chambers   |0               |[100]          |\n",
      "|1        |Matei Zaharia   |1               |[500, 250, 100]|\n",
      "|2        |Michael Armbrust|1               |[250, 100]     |\n",
      "+---------+----------------+----------------+---------------+\n",
      "\n",
      "None\n",
      "+----------------+-------+---------------------+-----------+\n",
      "|graduate_program|degree |department           |school     |\n",
      "+----------------+-------+---------------------+-----------+\n",
      "|0               |Masters|School of Information|UC Berkeley|\n",
      "|2               |Masters|EECS                 |UC Berkeley|\n",
      "|1               |Ph.D.  |EECS                 |UC Berkeley|\n",
      "+----------------+-------+---------------------+-----------+\n",
      "\n",
      "None\n"
     ]
    }
   ],
   "source": [
    "print(person.show(truncate=False))\n",
    "print(graduate_programDup.show(truncate=False))"
   ]
  },
  {
   "cell_type": "code",
   "execution_count": 42,
   "id": "db42e9a0",
   "metadata": {},
   "outputs": [
    {
     "name": "stderr",
     "output_type": "stream",
     "text": [
      "\r",
      "[Stage 149:===========================================>          (80 + 2) / 100]\r",
      "\r",
      "                                                                                \r"
     ]
    },
    {
     "name": "stdout",
     "output_type": "stream",
     "text": [
      "+---------+----------------+----------------+---------------+----------------+-------+--------------------+-----------+\n",
      "|person_id|            name|graduate_program|   spark_status|graduate_program| degree|          department|     school|\n",
      "+---------+----------------+----------------+---------------+----------------+-------+--------------------+-----------+\n",
      "|        0|   Bill Chambers|               0|          [100]|               0|Masters|School of Informa...|UC Berkeley|\n",
      "|        1|   Matei Zaharia|               1|[500, 250, 100]|               1|  Ph.D.|                EECS|UC Berkeley|\n",
      "|        2|Michael Armbrust|               1|     [250, 100]|               1|  Ph.D.|                EECS|UC Berkeley|\n",
      "+---------+----------------+----------------+---------------+----------------+-------+--------------------+-----------+\n",
      "\n"
     ]
    }
   ],
   "source": [
    "person.join(graduate_programDup,person.graduate_program==graduate_programDup.graduate_program).show()"
   ]
  },
  {
   "cell_type": "code",
   "execution_count": 44,
   "id": "2e02a5ce",
   "metadata": {},
   "outputs": [
    {
     "name": "stderr",
     "output_type": "stream",
     "text": [
      "\r",
      "[Stage 179:========================================>             (75 + 2) / 100]\r",
      "\r",
      "                                                                                \r"
     ]
    },
    {
     "name": "stdout",
     "output_type": "stream",
     "text": [
      "+----------------+\n",
      "|graduate_program|\n",
      "+----------------+\n",
      "|               0|\n",
      "|               1|\n",
      "|               1|\n",
      "+----------------+\n",
      "\n"
     ]
    }
   ],
   "source": [
    "person.join(graduate_programDup,\"graduate_program\").select(\"graduate_program\").show()"
   ]
  },
  {
   "cell_type": "code",
   "execution_count": null,
   "id": "fce092a3",
   "metadata": {},
   "outputs": [],
   "source": []
  }
 ],
 "metadata": {
  "kernelspec": {
   "display_name": "Python 3 (ipykernel)",
   "language": "python",
   "name": "python3"
  },
  "language_info": {
   "codemirror_mode": {
    "name": "ipython",
    "version": 3
   },
   "file_extension": ".py",
   "mimetype": "text/x-python",
   "name": "python",
   "nbconvert_exporter": "python",
   "pygments_lexer": "ipython3",
   "version": "3.8.10"
  }
 },
 "nbformat": 4,
 "nbformat_minor": 5
}
