{
 "cells": [
  {
   "cell_type": "markdown",
   "id": "29da5edf",
   "metadata": {},
   "source": [
    "# What is the average revenue of the orders?"
   ]
  },
  {
   "cell_type": "code",
   "execution_count": 1,
   "id": "1539a0ad",
   "metadata": {
    "scrolled": true
   },
   "outputs": [
    {
     "name": "stderr",
     "output_type": "stream",
     "text": [
      "2021-09-25 14:51:26,832 WARN util.Utils: Your hostname, tb-LinuxBox resolves to a loopback address: 127.0.1.1; using 10.0.2.15 instead (on interface enp0s3)\n",
      "2021-09-25 14:51:26,834 WARN util.Utils: Set SPARK_LOCAL_IP if you need to bind to another address\n",
      "2021-09-25 14:51:29,329 WARN util.NativeCodeLoader: Unable to load native-hadoop library for your platform... using builtin-java classes where applicable\n",
      "Setting default log level to \"WARN\".\n",
      "To adjust logging level use sc.setLogLevel(newLevel). For SparkR, use setLogLevel(newLevel).\n"
     ]
    }
   ],
   "source": [
    "from pyspark.sql import SparkSession\n",
    "spark = SparkSession.builder.appName(\"exercise1\").getOrCreate()"
   ]
  },
  {
   "cell_type": "code",
   "execution_count": 2,
   "id": "30666281",
   "metadata": {},
   "outputs": [],
   "source": [
    "orders_data = \"file:///home/tamaghna/big_data_spark/sales_parquet\""
   ]
  },
  {
   "cell_type": "code",
   "execution_count": 3,
   "id": "cd78c395",
   "metadata": {},
   "outputs": [],
   "source": [
    "from pyspark.sql.types import StructType, IntegerType, StringType, DateType\n",
    "from pyspark.sql.functions import to_date"
   ]
  },
  {
   "cell_type": "code",
   "execution_count": 8,
   "id": "b2ec9797",
   "metadata": {},
   "outputs": [],
   "source": [
    "# orders_schema = StructType().add()\n",
    "#                             .add(\"order_id\",IntegerType(),True)\\\n",
    "#                             .add(\"product_id\",IntegerType(),True)\\\n",
    "#                             .add(\"seller_id\",IntegerType(),True)\\\n",
    "#                             .add(\"date\",DateType(),True)\\\n",
    "#                             .add(\"num_pieces_sold\",IntegerType(),True)\\\n",
    "#                             .add(\"bill_raw_text\",StringType(),True)"
   ]
  },
  {
   "cell_type": "code",
   "execution_count": 45,
   "id": "24e2b50b",
   "metadata": {},
   "outputs": [],
   "source": [
    "orders = spark.read.format(\"parquet\")\\\n",
    "        .options(header=True)\\\n",
    "        .load(orders_data)"
   ]
  },
  {
   "cell_type": "code",
   "execution_count": 48,
   "id": "35c274f1",
   "metadata": {
    "scrolled": true
   },
   "outputs": [
    {
     "name": "stderr",
     "output_type": "stream",
     "text": [
      "                                                                                \r"
     ]
    },
    {
     "data": {
      "text/plain": [
       "20000040"
      ]
     },
     "execution_count": 48,
     "metadata": {},
     "output_type": "execute_result"
    }
   ],
   "source": [
    "orders.count()"
   ]
  },
  {
   "cell_type": "code",
   "execution_count": 47,
   "id": "66c0f7d2",
   "metadata": {},
   "outputs": [],
   "source": [
    "orders = orders.drop(\"bill_raw_text\")"
   ]
  },
  {
   "cell_type": "code",
   "execution_count": 50,
   "id": "2fa977e0",
   "metadata": {},
   "outputs": [
    {
     "name": "stdout",
     "output_type": "stream",
     "text": [
      "+--------+----------+---------+----------+---------------+\n",
      "|order_id|product_id|seller_id|      date|num_pieces_sold|\n",
      "+--------+----------+---------+----------+---------------+\n",
      "|       1|         0|        0|2020-07-10|             26|\n",
      "|       2|         0|        0|2020-07-08|             13|\n",
      "|       3|         0|        0|2020-07-05|             38|\n",
      "|       4|         0|        0|2020-07-05|             56|\n",
      "|       5|         0|        0|2020-07-05|             11|\n",
      "|       6|         0|        0|2020-07-01|             82|\n",
      "|       7|         0|        0|2020-07-04|             15|\n",
      "|       8|         0|        0|2020-07-08|             79|\n",
      "|       9|         0|        0|2020-07-10|             25|\n",
      "|      10|         0|        0|2020-07-08|              8|\n",
      "|      11|         0|        0|2020-07-01|             10|\n",
      "|      12|         0|        0|2020-07-06|             45|\n",
      "|      13|         0|        0|2020-07-10|             63|\n",
      "|      14|         0|        0|2020-07-03|             22|\n",
      "|      15|         0|        0|2020-07-09|             75|\n",
      "|      16|         0|        0|2020-07-10|             83|\n",
      "|      17|         0|        0|2020-07-04|             54|\n",
      "|      18|         0|        0|2020-07-04|             58|\n",
      "|      19|         0|        0|2020-07-07|             33|\n",
      "|      20|         0|        0|2020-07-09|             73|\n",
      "+--------+----------+---------+----------+---------------+\n",
      "only showing top 20 rows\n",
      "\n"
     ]
    }
   ],
   "source": [
    "orders.show()"
   ]
  },
  {
   "cell_type": "code",
   "execution_count": 51,
   "id": "8227f34a",
   "metadata": {},
   "outputs": [],
   "source": [
    "orders = orders.withColumn(\"order_id\",orders.order_id.cast(IntegerType()))\\\n",
    "        .withColumn(\"product_id\",orders.product_id.cast(IntegerType()))\\\n",
    "        .withColumn(\"seller_id\",orders.seller_id.cast(IntegerType()))\\\n",
    "        .withColumn(\"date\",to_date(orders.date,\"yyyy-MM-dd\"))\\\n",
    "        .withColumn(\"num_pieces_sold\",orders.num_pieces_sold.cast(IntegerType()))"
   ]
  },
  {
   "cell_type": "code",
   "execution_count": 52,
   "id": "47ee4296",
   "metadata": {},
   "outputs": [],
   "source": [
    "products = spark.read.format(\"parquet\")\\\n",
    "                        .options(header=True)\\\n",
    "                        .load(\"file:///home/tamaghna/big_data_spark/products_parquet\")"
   ]
  },
  {
   "cell_type": "code",
   "execution_count": 53,
   "id": "e96303a7",
   "metadata": {},
   "outputs": [
    {
     "data": {
      "text/plain": [
       "75000000"
      ]
     },
     "execution_count": 53,
     "metadata": {},
     "output_type": "execute_result"
    }
   ],
   "source": [
    "products.count()"
   ]
  },
  {
   "cell_type": "code",
   "execution_count": 54,
   "id": "1fe29d25",
   "metadata": {},
   "outputs": [
    {
     "name": "stdout",
     "output_type": "stream",
     "text": [
      "root\n",
      " |-- product_id: string (nullable = true)\n",
      " |-- product_name: string (nullable = true)\n",
      " |-- price: string (nullable = true)\n",
      "\n"
     ]
    }
   ],
   "source": [
    "products.printSchema()"
   ]
  },
  {
   "cell_type": "code",
   "execution_count": 55,
   "id": "be25c7ef",
   "metadata": {},
   "outputs": [],
   "source": [
    "from pyspark.sql.types import IntegerType,StringType,FloatType"
   ]
  },
  {
   "cell_type": "code",
   "execution_count": 56,
   "id": "26158f0c",
   "metadata": {
    "scrolled": true
   },
   "outputs": [
    {
     "name": "stdout",
     "output_type": "stream",
     "text": [
      "+----------+------------+-----+\n",
      "|product_id|product_name|price|\n",
      "+----------+------------+-----+\n",
      "+----------+------------+-----+\n",
      "\n"
     ]
    }
   ],
   "source": [
    "products.filter(products.product_id.isNull()).show()"
   ]
  },
  {
   "cell_type": "code",
   "execution_count": 57,
   "id": "5eb617d5",
   "metadata": {},
   "outputs": [],
   "source": [
    "products = products.withColumn(\"product_id\",products.product_id.cast(IntegerType()))\\\n",
    "                    .withColumn(\"product_name\",products.product_name.cast(StringType()))\\\n",
    "                    .withColumn(\"price\",products.price.cast(FloatType()))"
   ]
  },
  {
   "cell_type": "code",
   "execution_count": 58,
   "id": "a6144ede",
   "metadata": {},
   "outputs": [
    {
     "name": "stdout",
     "output_type": "stream",
     "text": [
      "+----------+------------+-----+\n",
      "|product_id|product_name|price|\n",
      "+----------+------------+-----+\n",
      "|         0|   product_0| 22.0|\n",
      "|         1|   product_1| 30.0|\n",
      "|         2|   product_2| 91.0|\n",
      "|         3|   product_3| 37.0|\n",
      "|         4|   product_4|145.0|\n",
      "|         5|   product_5|128.0|\n",
      "|         6|   product_6| 66.0|\n",
      "|         7|   product_7|145.0|\n",
      "|         8|   product_8| 51.0|\n",
      "|         9|   product_9| 44.0|\n",
      "|        10|  product_10| 53.0|\n",
      "|        11|  product_11| 13.0|\n",
      "|        12|  product_12|104.0|\n",
      "|        13|  product_13|102.0|\n",
      "|        14|  product_14| 24.0|\n",
      "|        15|  product_15| 14.0|\n",
      "|        16|  product_16| 38.0|\n",
      "|        17|  product_17| 72.0|\n",
      "|        18|  product_18| 16.0|\n",
      "|        19|  product_19| 46.0|\n",
      "+----------+------------+-----+\n",
      "only showing top 20 rows\n",
      "\n"
     ]
    }
   ],
   "source": [
    "products.show()"
   ]
  },
  {
   "cell_type": "code",
   "execution_count": 59,
   "id": "3c1a7ead",
   "metadata": {},
   "outputs": [],
   "source": [
    "ord_prod_join = orders.join(products,on='product_id')"
   ]
  },
  {
   "cell_type": "code",
   "execution_count": 60,
   "id": "5daf89ad",
   "metadata": {},
   "outputs": [
    {
     "name": "stderr",
     "output_type": "stream",
     "text": [
      "[Stage 66:>                                                         (0 + 1) / 1]\r"
     ]
    },
    {
     "name": "stdout",
     "output_type": "stream",
     "text": [
      "+----------+--------+---------+----------+---------------+--------------+-----+\n",
      "|product_id|order_id|seller_id|      date|num_pieces_sold|  product_name|price|\n",
      "+----------+--------+---------+----------+---------------+--------------+-----+\n",
      "|     33602|12992813|        3|2020-07-07|             61| product_33602|143.0|\n",
      "|     35947| 6489803|        9|2020-07-10|             88| product_35947| 40.0|\n",
      "|     53634|14993817|        3|2020-07-04|              2| product_53634| 87.0|\n",
      "|     64590| 4978574|        5|2020-07-01|             84| product_64590|113.0|\n",
      "|     74757|18490481|        4|2020-07-05|             52| product_74757|115.0|\n",
      "|     99621| 6488801|        3|2020-07-02|             12| product_99621| 45.0|\n",
      "|    102594|12494938|        5|2020-07-04|             66|product_102594|131.0|\n",
      "|    141533|12975463|        8|2020-07-01|             42|product_141533| 69.0|\n",
      "|    197949| 8986189|        4|2020-07-09|             45|product_197949|148.0|\n",
      "|    200625| 1992704|        7|2020-07-06|              5|product_200625| 12.0|\n",
      "|    243022|16984806|        9|2020-07-02|             50|product_243022|150.0|\n",
      "|    256761| 9989888|        4|2020-07-05|             39|product_256761|147.0|\n",
      "|    279969| 6475651|        4|2020-07-09|             36|product_279969| 50.0|\n",
      "|    304322|12487017|        1|2020-07-01|             20|product_304322|143.0|\n",
      "|    322093|12499577|        7|2020-07-02|             84|product_322093| 47.0|\n",
      "|    325056|15490947|        2|2020-07-07|             74|product_325056|134.0|\n",
      "|    341504|19994426|        4|2020-07-05|             32|product_341504| 17.0|\n",
      "|    351280| 8980715|        8|2020-07-02|             91|product_351280|128.0|\n",
      "|    390488|17482149|        2|2020-07-05|              6|product_390488| 48.0|\n",
      "|    426721| 5478643|        1|2020-07-01|             75|product_426721| 29.0|\n",
      "+----------+--------+---------+----------+---------------+--------------+-----+\n",
      "only showing top 20 rows\n",
      "\n"
     ]
    },
    {
     "name": "stderr",
     "output_type": "stream",
     "text": [
      "\r",
      "                                                                                \r"
     ]
    }
   ],
   "source": [
    "ord_prod_join.show()"
   ]
  },
  {
   "cell_type": "code",
   "execution_count": 61,
   "id": "4b2fc330",
   "metadata": {},
   "outputs": [],
   "source": [
    "order_revenue = ord_prod_join.withColumn(\"revenue\",ord_prod_join.num_pieces_sold*ord_prod_join.price)"
   ]
  },
  {
   "cell_type": "code",
   "execution_count": 62,
   "id": "e56624df",
   "metadata": {
    "scrolled": true
   },
   "outputs": [
    {
     "name": "stderr",
     "output_type": "stream",
     "text": [
      "[Stage 68:=======================================================>(82 + 1) / 83]\r"
     ]
    },
    {
     "name": "stdout",
     "output_type": "stream",
     "text": [
      "+----------+--------+---------+----------+---------------+--------------+-----+-------+\n",
      "|product_id|order_id|seller_id|      date|num_pieces_sold|  product_name|price|revenue|\n",
      "+----------+--------+---------+----------+---------------+--------------+-----+-------+\n",
      "|     33602|12992813|        3|2020-07-07|             61| product_33602|143.0| 8723.0|\n",
      "|     35947| 6489803|        9|2020-07-10|             88| product_35947| 40.0| 3520.0|\n",
      "|     53634|14993817|        3|2020-07-04|              2| product_53634| 87.0|  174.0|\n",
      "|     64590| 4978574|        5|2020-07-01|             84| product_64590|113.0| 9492.0|\n",
      "|     74757|18490481|        4|2020-07-05|             52| product_74757|115.0| 5980.0|\n",
      "|     99621| 6488801|        3|2020-07-02|             12| product_99621| 45.0|  540.0|\n",
      "|    102594|12494938|        5|2020-07-04|             66|product_102594|131.0| 8646.0|\n",
      "|    141533|12975463|        8|2020-07-01|             42|product_141533| 69.0| 2898.0|\n",
      "|    197949| 8986189|        4|2020-07-09|             45|product_197949|148.0| 6660.0|\n",
      "|    200625| 1992704|        7|2020-07-06|              5|product_200625| 12.0|   60.0|\n",
      "|    243022|16984806|        9|2020-07-02|             50|product_243022|150.0| 7500.0|\n",
      "|    256761| 9989888|        4|2020-07-05|             39|product_256761|147.0| 5733.0|\n",
      "|    279969| 6475651|        4|2020-07-09|             36|product_279969| 50.0| 1800.0|\n",
      "|    304322|12487017|        1|2020-07-01|             20|product_304322|143.0| 2860.0|\n",
      "|    322093|12499577|        7|2020-07-02|             84|product_322093| 47.0| 3948.0|\n",
      "|    325056|15490947|        2|2020-07-07|             74|product_325056|134.0| 9916.0|\n",
      "|    341504|19994426|        4|2020-07-05|             32|product_341504| 17.0|  544.0|\n",
      "|    351280| 8980715|        8|2020-07-02|             91|product_351280|128.0|11648.0|\n",
      "|    390488|17482149|        2|2020-07-05|              6|product_390488| 48.0|  288.0|\n",
      "|    426721| 5478643|        1|2020-07-01|             75|product_426721| 29.0| 2175.0|\n",
      "+----------+--------+---------+----------+---------------+--------------+-----+-------+\n",
      "only showing top 20 rows\n",
      "\n"
     ]
    },
    {
     "name": "stderr",
     "output_type": "stream",
     "text": [
      "\r",
      "                                                                                \r"
     ]
    }
   ],
   "source": [
    "order_revenue.show()"
   ]
  },
  {
   "cell_type": "code",
   "execution_count": 64,
   "id": "e08b446e",
   "metadata": {},
   "outputs": [
    {
     "name": "stderr",
     "output_type": "stream",
     "text": [
      "[Stage 72:=====================================================>(199 + 1) / 200]\r"
     ]
    },
    {
     "name": "stdout",
     "output_type": "stream",
     "text": [
      "+------------------+\n",
      "|      avg(revenue)|\n",
      "+------------------+\n",
      "|1246.1338560822878|\n",
      "+------------------+\n",
      "\n"
     ]
    },
    {
     "name": "stderr",
     "output_type": "stream",
     "text": [
      "\r",
      "                                                                                \r"
     ]
    }
   ],
   "source": [
    "order_revenue.agg(avg(\"revenue\")).show()"
   ]
  },
  {
   "cell_type": "code",
   "execution_count": 40,
   "id": "b9329bc8",
   "metadata": {},
   "outputs": [
    {
     "name": "stderr",
     "output_type": "stream",
     "text": [
      "[Stage 46:=================================================>      (73 + 2) / 83]\r"
     ]
    },
    {
     "name": "stdout",
     "output_type": "stream",
     "text": [
      "+--------+------------+\n",
      "|order_id|avg(revenue)|\n",
      "+--------+------------+\n",
      "|       1|       572.0|\n",
      "|       2|       286.0|\n",
      "|       3|       836.0|\n",
      "|       4|      1232.0|\n",
      "|       5|       242.0|\n",
      "|       6|      1804.0|\n",
      "|       7|       330.0|\n",
      "|       8|      1738.0|\n",
      "|       9|       550.0|\n",
      "|      10|       176.0|\n",
      "|      11|       220.0|\n",
      "|      12|       990.0|\n",
      "|      13|      1386.0|\n",
      "|      14|       484.0|\n",
      "|      15|      1650.0|\n",
      "|      16|      1826.0|\n",
      "|      17|      1188.0|\n",
      "|      18|      1276.0|\n",
      "|      19|       726.0|\n",
      "|      20|      1606.0|\n",
      "+--------+------------+\n",
      "only showing top 20 rows\n",
      "\n"
     ]
    },
    {
     "name": "stderr",
     "output_type": "stream",
     "text": [
      "\r",
      "                                                                                \r"
     ]
    }
   ],
   "source": [
    "order_revenue.groupBy(\"order_id\").mean(\"revenue\").show()"
   ]
  },
  {
   "cell_type": "code",
   "execution_count": 42,
   "id": "4d0074b0",
   "metadata": {},
   "outputs": [],
   "source": [
    "from pyspark.sql.functions import *"
   ]
  },
  {
   "cell_type": "code",
   "execution_count": 43,
   "id": "9239e4d5",
   "metadata": {},
   "outputs": [
    {
     "name": "stderr",
     "output_type": "stream",
     "text": [
      "[Stage 50:======================================================> (81 + 2) / 83]\r"
     ]
    },
    {
     "name": "stdout",
     "output_type": "stream",
     "text": [
      "+------------------------------+\n",
      "|avg((price * num_pieces_sold))|\n",
      "+------------------------------+\n",
      "|                      1104.202|\n",
      "+------------------------------+\n",
      "\n"
     ]
    },
    {
     "name": "stderr",
     "output_type": "stream",
     "text": [
      "\r",
      "                                                                                \r"
     ]
    }
   ],
   "source": [
    "orders.join(products, orders[\"product_id\"] == products[\"product_id\"], \"inner\").\\\n",
    "      agg(avg(products[\"price\"] * orders[\"num_pieces_sold\"])).show()"
   ]
  },
  {
   "cell_type": "code",
   "execution_count": null,
   "id": "2f427a9a",
   "metadata": {},
   "outputs": [
    {
     "name": "stderr",
     "output_type": "stream",
     "text": [
      "                                                                                \r"
     ]
    }
   ],
   "source": [
    "products.select(\"product_id\").collect()"
   ]
  },
  {
   "cell_type": "code",
   "execution_count": null,
   "id": "708089b0",
   "metadata": {},
   "outputs": [],
   "source": []
  }
 ],
 "metadata": {
  "kernelspec": {
   "display_name": "Python 3 (ipykernel)",
   "language": "python",
   "name": "python3"
  },
  "language_info": {
   "codemirror_mode": {
    "name": "ipython",
    "version": 3
   },
   "file_extension": ".py",
   "mimetype": "text/x-python",
   "name": "python",
   "nbconvert_exporter": "python",
   "pygments_lexer": "ipython3",
   "version": "3.8.10"
  }
 },
 "nbformat": 4,
 "nbformat_minor": 5
}
